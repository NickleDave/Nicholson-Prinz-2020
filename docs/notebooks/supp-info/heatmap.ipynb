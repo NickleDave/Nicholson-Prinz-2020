{
 "cells": [
  {
   "cell_type": "code",
   "execution_count": 2,
   "metadata": {},
   "outputs": [],
   "source": [
    "import os\n",
    "from pathlib import Path\n",
    "\n",
    "import json\n",
    "import joblib\n",
    "import numpy as np\n",
    "import matplotlib.pyplot as plt\n",
    "from mpl_toolkits.axes_grid1 import AxesGrid\n",
    "%matplotlib inline\n",
    "\n",
    "from searchnets.plot.heatmaps import p_item_heatmap, acc_err_heatmap"
   ]
  },
  {
   "cell_type": "markdown",
   "metadata": {},
   "source": [
    "#### get paths to all the data n' results n' stuff"
   ]
  },
  {
   "cell_type": "code",
   "execution_count": 3,
   "metadata": {},
   "outputs": [],
   "source": [
    "jsons_dir = Path('../../../data/visual_search_stimuli/json/')\n",
    "jsons = sorted(\n",
    "    list(jsons_dir.glob('*.json'))\n",
    ")\n",
    "jsons = [str(json_path) for json_path in jsons]\n",
    "\n",
    "data_gz_dir = Path('../../../data/data_prepd_for_nets/')\n",
    "data_gzs = sorted(\n",
    "    list(data_gz_dir.glob('*.gz'))\n",
    ")\n",
    "data_gzs = [str(data_gz) for data_gz in data_gzs]\n",
    "\n",
    "results_gz_dir = Path('../../../data/results/')\n",
    "results_gzs = sorted(\n",
    "    list(results_gz_dir.glob('*/*.gz'))\n",
    ")\n",
    "results_gzs = [str(results_gz) for results_gz in results_gzs]"
   ]
  },
  {
   "cell_type": "markdown",
   "metadata": {},
   "source": [
    "#### get just the paths we need, e.g. AlexNet fine-tuning"
   ]
  },
  {
   "cell_type": "code",
   "execution_count": 4,
   "metadata": {},
   "outputs": [],
   "source": [
    "stim_abbrevs = ['RVvGV', 'RVvRHGV', '2_v_5']"
   ]
  },
  {
   "cell_type": "code",
   "execution_count": 53,
   "metadata": {},
   "outputs": [],
   "source": [
    "def p_item_metric_heatmap_plots(json_fname, data_gz_fname, results_gz_fname, stim_abbrev, \n",
    "                                metric='err', num_nets=5, set_sizes = (1, 2, 4, 8)):\n",
    "    \"\"\"plot p_item and metric heatmaps\"\"\"\n",
    "    ps = []\n",
    "\n",
    "    \n",
    "    \n",
    "    fig = plt.figure()\n",
    "    grid = AxesGrid(fig, (0, 0.7, 1, 0.3),\n",
    "                    nrows_ncols=(1, 4),\n",
    "                    axes_pad=0.05,\n",
    "                    share_all=True,\n",
    "                    label_mode=\"L\",\n",
    "                    cbar_location=\"right\",\n",
    "                    cbar_mode=\"single\",\n",
    "                    )\n",
    "\n",
    "    for ax_ind, set_size in enumerate(set_sizes):\n",
    "        set_size = str(set_size)\n",
    "        p, im,ax = p_item_heatmap(json_fname=json_fname,\n",
    "                                  data_gz_fname=data_gz_fname,\n",
    "                                  stim_abbrev=stim_abbrev,\n",
    "                                  set_size=set_size,\n",
    "                                  data_set='train',\n",
    "                                  item_char='t',\n",
    "                                  vmin=0.,\n",
    "                                  vmax=0.1,\n",
    "                                  ax=grid[ax_ind])\n",
    "        # ax.set_title(f'set size: {set_size}', fontsize=12)\n",
    "        ps.append(p)\n",
    "\n",
    "    grid.cbar_axes[0].colorbar(im, ticks=np.arange(0.02,0.1,0.02))\n",
    "    for cax in grid.cbar_axes:\n",
    "        cax.toggle_label(True)\n",
    "    # fig.suptitle('prob(target) in training set')\n",
    "\n",
    "    ## next 'figure'(s)\n",
    "    m_arrs = []\n",
    "    grid2 = AxesGrid(fig, (0, 0, 1, 0.7),\n",
    "                     nrows_ncols=(num_nets, 4),\n",
    "                     axes_pad=0.05,\n",
    "                     share_all=True,\n",
    "                     label_mode=\"L\",\n",
    "                     cbar_location=\"right\",\n",
    "                     cbar_mode=\"single\",\n",
    "                     )\n",
    "\n",
    "    for net_num in range(num_nets):\n",
    "        m_arrs_this_net = []\n",
    "\n",
    "        for set_size_ind, set_size in enumerate(set_sizes):\n",
    "            ax_ind = (net_num * len(set_sizes)) + set_size_ind\n",
    "            m_arr, im, ax = acc_err_heatmap(json_fname=json_fname,\n",
    "                                            data_gz_fname=data_gz_fname,\n",
    "                                            results_gz_fname=results_gz_fname,\n",
    "                                            net_num=net_num,\n",
    "                                            stim_abbrev=stim_abbrev,\n",
    "                                            set_size=set_size,\n",
    "                                            data_set='test',\n",
    "                                            metric=metric,\n",
    "                                            vmin=0.,\n",
    "                                            vmax=1.0,\n",
    "                                            ax=grid2[ax_ind])\n",
    "            m_arrs_this_net.append(m_arr)\n",
    "\n",
    "        m_arrs.append(m_arrs_this_net)\n",
    "\n",
    "    grid2.cbar_axes[0].colorbar(im)\n",
    "\n",
    "    for cax in grid.cbar_axes:\n",
    "        cax.toggle_label(True)\n",
    "    \n",
    "    # fig.suptitle('error rate every time item appeared in this cell in test set')\n",
    "    \n",
    "    return ps, m_arrs"
   ]
  },
  {
   "cell_type": "code",
   "execution_count": 39,
   "metadata": {},
   "outputs": [],
   "source": [
    "alexnet_finetune_jsons = [a_json for a_json in jsons \n",
    "                          if any([f'alexnet_{stim_abbrev}' in a_json for stim_abbrev in stim_abbrevs])\n",
    "                         ]\n",
    "alexnet_finetune_jsons = sorted(alexnet_finetune_jsons)\n",
    "\n",
    "alexnet_finetune_data_gzs = [data_gz for data_gz in data_gzs\n",
    "                             if 'alexnet_finetune' in data_gz]\n",
    "alexnet_finetune_data_gzs = sorted(alexnet_finetune_data_gzs)\n",
    "\n",
    "alexnet_finetune_results_gzs = [results_gz for results_gz in results_gzs\n",
    "                                if 'alexnet_finetune' in results_gz]\n",
    "alexnet_finetune_results_gzs = sorted(alexnet_finetune_results_gzs)"
   ]
  },
  {
   "cell_type": "markdown",
   "metadata": {},
   "source": [
    "#### heatmaps of probability(target) and error with finetune approach"
   ]
  },
  {
   "cell_type": "code",
   "execution_count": 54,
   "metadata": {},
   "outputs": [
    {
     "data": {
      "image/png": "[encoded data removed]",
      "text/plain": [
       "<Figure size 432x288 with 48 Axes>"
      ]
     },
     "metadata": {
      "needs_background": "light"
     },
     "output_type": "display_data"
    }
   ],
   "source": [
    "ps_alexnet_finetune, err_alexnet_finetune = p_item_metric_heatmap_plots(json_fname=alexnet_finetune_jsons[0],\n",
    "                                                                        data_gz_fname=alexnet_finetune_data_gzs[0],\n",
    "                                                                        results_gz_fname=alexnet_finetune_results_gzs[0],\n",
    "                                                                        stim_abbrev='2_v_5')"
   ]
  },
  {
   "cell_type": "markdown",
   "metadata": {},
   "source": [
    "#### heatmaps of probability(target) and error with training approach, but (small, balanced across set sizes) finetune dataset"
   ]
  },
  {
   "cell_type": "code",
   "execution_count": 18,
   "metadata": {},
   "outputs": [],
   "source": [
    "alexnet_train_finetune_results_gzs = [results_gz for results_gz in results_gzs\n",
    "                                if 'alexnet_train_finetune' in results_gz]\n",
    "alexnet_train_finetune_results_gzs = sorted(alexnet_train_finetune_results_gzs)"
   ]
  },
  {
   "cell_type": "code",
   "execution_count": 23,
   "metadata": {},
   "outputs": [
    {
     "data": {
      "image/png": "[encoded data removed]",
      "text/plain": [
       "<Figure size 720x216 with 8 Axes>"
      ]
     },
     "metadata": {
      "needs_background": "light"
     },
     "output_type": "display_data"
    },
    {
     "data": {
      "image/png": "[encoded data removed]",
      "text/plain": [
       "<Figure size 720x504 with 32 Axes>"
      ]
     },
     "metadata": {
      "needs_background": "light"
     },
     "output_type": "display_data"
    }
   ],
   "source": [
    "# notice we use json and data_gz from finetune since they were the same\n",
    "ps_alexnet_tr_finetune, err_alexnet_tr_finetune = p_item_metric_heatmap_plots(json_fname=alexnet_finetune_jsons[0],\n",
    "                                                                              data_gz_fname=alexnet_finetune_data_gzs[0],\n",
    "                                                                              results_gz_fname=alexnet_train_finetune_results_gzs[0],\n",
    "                                                                              stim_abbrev='2_v_5',\n",
    "                                                                              num_nets=4)"
   ]
  },
  {
   "cell_type": "code",
   "execution_count": null,
   "metadata": {},
   "outputs": [],
   "source": [
    "alexnet_train_jsons = [a_json for a_json in jsons \n",
    "                          if any([f'alexnet_{stim_abbrev}' in a_json for stim_abbrev in stim_abbrevs])\n",
    "                         ]\n",
    "alexnet_train_jsons = sorted(alexnet_train_jsons)\n",
    "\n",
    "alexnet_finetune_data_gzs = [data_gz for data_gz in data_gzs\n",
    "                             if 'alexnet_train' in data_gz]\n",
    "alexnet_finetune_data_gzs = sorted(alexnet_finetune_data_gzs)\n",
    "\n",
    "alexnet_finetune_results_gzs = [results_gz for results_gz in results_gzs\n",
    "                                if 'alexnet_finetune' in results_gz]\n",
    "alexnet_finetune_results_gzs = sorted(alexnet_finetune_results_gzs)"
   ]
  }
 ],
 "metadata": {
  "kernelspec": {
   "display_name": "Python 3",
   "language": "python",
   "name": "python3"
  },
  "language_info": {
   "codemirror_mode": {
    "name": "ipython",
    "version": 3
   },
   "file_extension": ".py",
   "mimetype": "text/x-python",
   "name": "python",
   "nbconvert_exporter": "python",
   "pygments_lexer": "ipython3",
   "version": "3.6.8"
  }
 },
 "nbformat": 4,
 "nbformat_minor": 2
}
