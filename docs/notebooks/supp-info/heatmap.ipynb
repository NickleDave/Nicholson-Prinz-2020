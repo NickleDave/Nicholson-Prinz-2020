{
 "cells": [
  {
   "cell_type": "code",
   "execution_count": 2,
   "metadata": {},
   "outputs": [],
   "source": [
    "import os\n",
    "from pathlib import Path\n",
    "\n",
    "import json\n",
    "import joblib\n",
    "import numpy as np\n",
    "import matplotlib.pyplot as plt\n",
    "from mpl_toolkits.axes_grid1 import AxesGrid\n",
    "%matplotlib inline\n",
    "\n",
    "from searchnets.plot.heatmaps import p_item_heatmap "
   ]
  },
  {
   "cell_type": "code",
   "execution_count": 3,
   "metadata": {},
   "outputs": [],
   "source": [
    "jsons_dir = Path('../../../data/visual_search_stimuli/json/')"
   ]
  },
  {
   "cell_type": "code",
   "execution_count": 4,
   "metadata": {},
   "outputs": [],
   "source": [
    "jsons = sorted(\n",
    "    list(jsons_dir.glob('*.json'))\n",
    ")\n",
    "jsons = [str(json_path) for json_path in jsons]"
   ]
  },
  {
   "cell_type": "code",
   "execution_count": 5,
   "metadata": {},
   "outputs": [],
   "source": [
    "stim_abbrevs = ['RVvGV', 'RVvRHGV', '2_v_5']\n",
    "alexnet_finetune_jsons = [a_json for a_json in jsons \n",
    "                          if any([f'alexnet_{stim_abbrev}' in a_json for stim_abbrev in stim_abbrevs])\n",
    "                         ]\n",
    "alexnet_finetune_jsons = sorted(alexnet_finetune_jsons)"
   ]
  },
  {
   "cell_type": "code",
   "execution_count": 6,
   "metadata": {},
   "outputs": [],
   "source": [
    "data_gz_dir = Path('../../../data/data_prepd_for_nets/')"
   ]
  },
  {
   "cell_type": "code",
   "execution_count": 7,
   "metadata": {},
   "outputs": [],
   "source": [
    "data_gzs = sorted(\n",
    "    list(data_gz_dir.glob('*.gz'))\n",
    ")\n",
    "data_gzs = [str(data_gz) for data_gz in data_gzs]"
   ]
  },
  {
   "cell_type": "code",
   "execution_count": 8,
   "metadata": {},
   "outputs": [],
   "source": [
    "alexnet_finetune_data_gzs = [data_gz for data_gz in data_gzs\n",
    "                             if 'alexnet_finetune' in data_gz]\n",
    "alexnet_finetune_data_gzs = sorted(alexnet_finetune_data_gzs)"
   ]
  },
  {
   "cell_type": "code",
   "execution_count": 13,
   "metadata": {},
   "outputs": [
    {
     "data": {
      "text/plain": [
       "array([0.  , 0.01, 0.02, 0.03, 0.04, 0.05, 0.06, 0.07, 0.08, 0.09, 0.1 ])"
      ]
     },
     "execution_count": 13,
     "metadata": {},
     "output_type": "execute_result"
    }
   ],
   "source": [
    "np.arange(0.,0.11,0.01)"
   ]
  },
  {
   "cell_type": "code",
   "execution_count": 17,
   "metadata": {},
   "outputs": [
    {
     "name": "stderr",
     "output_type": "stream",
     "text": [
      "/home/bart/anaconda3/envs/searchnets-tf1.13/lib/python3.6/site-packages/ipykernel_launcher.py:36: UserWarning: This figure includes Axes that are not compatible with tight_layout, so results might be incorrect.\n"
     ]
    },
    {
     "data": {
      "image/png": "[encoded data removed]",
      "text/plain": [
       "<Figure size 432x288 with 8 Axes>"
      ]
     },
     "metadata": {
      "needs_background": "light"
     },
     "output_type": "display_data"
    }
   ],
   "source": [
    "ps = []\n",
    "\n",
    "fig = plt.figure()\n",
    "grid = AxesGrid(fig, 111,\n",
    "                nrows_ncols=(1, 4),\n",
    "                axes_pad=0.05,\n",
    "                share_all=True,\n",
    "                label_mode=\"L\",\n",
    "                cbar_location=\"right\",\n",
    "                cbar_mode=\"single\",\n",
    "                )\n",
    "\n",
    "for ax_ind, set_size in enumerate([1,2,4,8]):\n",
    "    set_size = str(set_size)\n",
    "\n",
    "    p, im,ax = p_item_heatmap(json_fname=alexnet_finetune_jsons[0],\n",
    "                            data_gz_fname=alexnet_finetune_data_gzs[0],\n",
    "                            stim_abbrev='2_v_5',\n",
    "                            set_size=set_size,\n",
    "                            data_set='train',\n",
    "                            item_char='t',\n",
    "                            vmin=0.,\n",
    "                            vmax=0.1,\n",
    "                            ax=grid[ax_ind])\n",
    "    ax.set_title(f'set size: {set_size}', fontsize=12)\n",
    "    \n",
    "    ps.append(p)\n",
    "\n",
    "grid.cbar_axes[0].colorbar(im, ticks=np.arange(0.02,0.1,0.02))\n",
    "\n",
    "for cax in grid.cbar_axes:\n",
    "    cax.toggle_label(True)\n",
    "\n",
    "fig.suptitle('probability of target');"
   ]
  },
  {
   "cell_type": "code",
   "execution_count": 27,
   "metadata": {},
   "outputs": [
    {
     "data": {
      "text/plain": [
       "array([[0.04125, 0.03875, 0.04875, 0.0375 , 0.045  ],\n",
       "       [0.04875, 0.045  , 0.02875, 0.0375 , 0.04125],\n",
       "       [0.02875, 0.03125, 0.035  , 0.055  , 0.04125],\n",
       "       [0.04375, 0.0275 , 0.04375, 0.0375 , 0.05125],\n",
       "       [0.0375 , 0.0375 , 0.04   , 0.035  , 0.0425 ]])"
      ]
     },
     "execution_count": 27,
     "metadata": {},
     "output_type": "execute_result"
    }
   ],
   "source": [
    "ps[0]"
   ]
  },
  {
   "cell_type": "code",
   "execution_count": 28,
   "metadata": {},
   "outputs": [
    {
     "data": {
      "text/plain": [
       "array([[0.05   , 0.04125, 0.035  , 0.0475 , 0.0325 ],\n",
       "       [0.0425 , 0.03625, 0.03875, 0.04375, 0.0375 ],\n",
       "       [0.0425 , 0.04125, 0.035  , 0.04375, 0.0475 ],\n",
       "       [0.03875, 0.0425 , 0.04125, 0.03125, 0.035  ],\n",
       "       [0.03875, 0.035  , 0.04125, 0.04375, 0.0375 ]])"
      ]
     },
     "execution_count": 28,
     "metadata": {},
     "output_type": "execute_result"
    }
   ],
   "source": [
    "ps[1]"
   ]
  },
  {
   "cell_type": "code",
   "execution_count": 29,
   "metadata": {},
   "outputs": [
    {
     "data": {
      "text/plain": [
       "array([[0.0275 , 0.0275 , 0.04   , 0.04   , 0.05   ],\n",
       "       [0.04375, 0.04375, 0.04375, 0.03625, 0.04   ],\n",
       "       [0.0425 , 0.02875, 0.045  , 0.04625, 0.0425 ],\n",
       "       [0.03625, 0.03125, 0.03625, 0.04125, 0.05125],\n",
       "       [0.045  , 0.04   , 0.0475 , 0.0375 , 0.03625]])"
      ]
     },
     "execution_count": 29,
     "metadata": {},
     "output_type": "execute_result"
    }
   ],
   "source": [
    "ps[3]"
   ]
  },
  {
   "cell_type": "code",
   "execution_count": null,
   "metadata": {},
   "outputs": [],
   "source": []
  }
 ],
 "metadata": {
  "kernelspec": {
   "display_name": "Python 3",
   "language": "python",
   "name": "python3"
  },
  "language_info": {
   "codemirror_mode": {
    "name": "ipython",
    "version": 3
   },
   "file_extension": ".py",
   "mimetype": "text/x-python",
   "name": "python",
   "nbconvert_exporter": "python",
   "pygments_lexer": "ipython3",
   "version": "3.6.8"
  }
 },
 "nbformat": 4,
 "nbformat_minor": 2
}
