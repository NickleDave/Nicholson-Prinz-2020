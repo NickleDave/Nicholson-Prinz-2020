{
 "cells": [
  {
   "cell_type": "code",
   "execution_count": 33,
   "metadata": {},
   "outputs": [],
   "source": [
    "import os\n",
    "from pathlib import Path\n",
    "\n",
    "import json\n",
    "import joblib\n",
    "import numpy as np\n",
    "import matplotlib.pyplot as plt\n",
    "from mpl_toolkits.axes_grid1 import AxesGrid\n",
    "%matplotlib inline"
   ]
  },
  {
   "cell_type": "code",
   "execution_count": 2,
   "metadata": {},
   "outputs": [],
   "source": [
    "jsons_dir = Path('../../../data/visual_search_stimuli/json/')"
   ]
  },
  {
   "cell_type": "code",
   "execution_count": 3,
   "metadata": {},
   "outputs": [],
   "source": [
    "jsons = sorted(\n",
    "    list(jsons_dir.glob('*.json'))\n",
    ")\n",
    "jsons = [str(json_path) for json_path in jsons]"
   ]
  },
  {
   "cell_type": "code",
   "execution_count": 4,
   "metadata": {},
   "outputs": [],
   "source": [
    "stim_abbrevs = ['RVvGV', 'RVvRHGV', '2_v_5']\n",
    "alexnet_finetune_jsons = [a_json for a_json in jsons \n",
    "                          if any([f'alexnet_{stim_abbrev}' in a_json for stim_abbrev in stim_abbrevs])\n",
    "                         ]\n",
    "alexnet_finetune_jsons = sorted(alexnet_finetune_jsons)"
   ]
  },
  {
   "cell_type": "code",
   "execution_count": 6,
   "metadata": {},
   "outputs": [],
   "source": [
    "data_gz_dir = Path('../../../data/data_prepd_for_nets/')"
   ]
  },
  {
   "cell_type": "code",
   "execution_count": 7,
   "metadata": {},
   "outputs": [],
   "source": [
    "data_gzs = sorted(\n",
    "    list(data_gz_dir.glob('*.gz'))\n",
    ")\n",
    "data_gzs = [str(data_gz) for data_gz in data_gzs]"
   ]
  },
  {
   "cell_type": "code",
   "execution_count": 8,
   "metadata": {},
   "outputs": [],
   "source": [
    "alexnet_finetune_data_gzs = [data_gz for data_gz in data_gzs\n",
    "                             if 'alexnet_finetune' in data_gz]\n",
    "alexnet_finetune_data_gzs = sorted(alexnet_finetune_data_gzs)"
   ]
  },
  {
   "cell_type": "code",
   "execution_count": 34,
   "metadata": {},
   "outputs": [],
   "source": [
    "def heatmap(grid, ax=None, vmin=0, vmax=1, cmap='rainbow'):\n",
    "    \"\"\"helper function that plots a heatmap,\n",
    "     using the matplotlib.pyplot.imshow function\n",
    "\n",
    "    Parameters\n",
    "    ----------\n",
    "    grid : numpy.ndarray\n",
    "        2-dimensional array to plot as a heatmap\n",
    "    ax : matplotlib.axes.Axes\n",
    "        axes on which to plot heatmap. If None, then\n",
    "        a new Axes instance is created\n",
    "\n",
    "    Returns\n",
    "    -------\n",
    "    im : matplotlib.image.AxesImage\n",
    "        instance returned by call to imshow.\n",
    "    \"\"\"\n",
    "    if ax is None:\n",
    "        fig, ax = plt.subplots()\n",
    "    im = ax.imshow(grid, vmin=vmin, vmax=vmax, cmap=cmap)\n",
    "    return im"
   ]
  },
  {
   "cell_type": "code",
   "execution_count": 35,
   "metadata": {},
   "outputs": [],
   "source": [
    "def p_item_grid(char_grids, item_char='t', ax=None, return_counts=False):\n",
    "    \"\"\"compute probability that item appears within each cell of grid\n",
    "\n",
    "    Parameters\n",
    "    ----------\n",
    "    char_grids : list\n",
    "        of lists or numpy.ndarrays, each representing a visual search stimulus\n",
    "        as a grid of characters, where the character in each cell corresponds\n",
    "        to some item type that can appear in the visual search stimulus.\n",
    "        The searchstims library saves such a representation of each stimulus it\n",
    "        generates in the .json metadata file that it saves.\n",
    "    item_char : str\n",
    "        Character that represents item for which probability should be computed.\n",
    "        Default is 't' (for 'target').\n",
    "    return_counts : bool\n",
    "        if True, return array with count of number of occurrences of item_char in\n",
    "        each cell. Default is False.\n",
    "\n",
    "    Returns\n",
    "    -------\n",
    "    p : numpy.ndarray\n",
    "        of same shape as char_grids, where value of each element is probability\n",
    "        that item_char occurs in the corresponding cell in char_grids\n",
    "    counts : numpy.ndarray\n",
    "        counts used to compute p (by dividing by np.sum(counts)).\n",
    "        Only returned if return_counts is True\n",
    "    \"\"\"\n",
    "    char_grids = [np.asarray(g) for g in char_grids]\n",
    "\n",
    "    grid_shape = [g.shape for g in char_grids]\n",
    "    grid_shape = set(grid_shape)\n",
    "    if len(grid_shape) == 1:\n",
    "        grid_shape = grid_shape.pop()\n",
    "    else:\n",
    "        raise ValueError(\n",
    "            'found more than one shape for visual search stimuli grids: '\n",
    "            f'{grid_shape}'\n",
    "        )\n",
    "\n",
    "    counts = np.zeros(grid_shape)\n",
    "    for g in char_grids:\n",
    "        # increment by 1 the cell where the item type is found\n",
    "        # using indices returned by np.nonzero\n",
    "        counts[np.nonzero(g == item_char)] += 1\n",
    "    p = counts / np.sum(counts)\n",
    "    if return_counts:\n",
    "        return p, counts\n",
    "    else:\n",
    "        return p"
   ]
  },
  {
   "cell_type": "code",
   "execution_count": 37,
   "metadata": {},
   "outputs": [],
   "source": [
    "def p_item_heatmap(json_fname, data_gz_fname, stim_abbrev, set_size=None,\n",
    "                   data_set='train', item_char='t', vmin=0, vmax=1,\n",
    "                   ax=None, add_cbar=False):\n",
    "    \"\"\"plot heatmap of probability that a specified item appears \n",
    "    within each cell of grid, given a dataset of visual searh stimuli\n",
    "    created by searchstims package\n",
    "\n",
    "    Parameters\n",
    "    ----------\n",
    "    json_fname : str\n",
    "        path to .json file output by searchstims with target\n",
    "        and distractor indices from each stimulus file\n",
    "    data_gz_fname : str\n",
    "        path to .gz file output by searchnets that has filenames of files in dataset\n",
    "    stim_abbrev : str\n",
    "    set_size : int\n",
    "    data_set : str\n",
    "        one of {'train', 'val', 'test'}; data set from which heatmap should \n",
    "        be generated. Default is 'train'.\n",
    "    item_char : str\n",
    "        Character that represents item in grid_as_char.\n",
    "        Default is 't', for 'target'.\n",
    "    ax : matplotlib.axes.Axes\n",
    "        default is None, in which case a new Axes instance is created.\n",
    "\n",
    "    Returns\n",
    "    -------\n",
    "    p : numpy.ndarray\n",
    "        of same shape as char_grids, where value of each element is probability\n",
    "        that item_char occurs in the corresponding cell in char_grids    \n",
    "    im : matplotlib.image.AxesImage\n",
    "        instance returned by call to imshow.\n",
    "    \"\"\"\n",
    "    if data_set not in {'train',  'val', 'test',}:\n",
    "        raise ValueError(\n",
    "            f\"data_set must be 'train', 'test', or 'val', but got {data_set}\"\n",
    "        )\n",
    "\n",
    "    # get filenames of files in dataset, i.e. training set files, test files, etc.,\n",
    "    # so we can keep only grid_as_char for those files\n",
    "    data_gz = joblib.load(data_gz_fname)\n",
    "    stim_fnames = data_gz[f'x_{data_set}']\n",
    "    if all([type(stim_fname) == str for stim_fname in stim_fnames]):\n",
    "        stim_fnames = np.asarray(stim_fnames)\n",
    "    elif all([type(stim_fname) == np.ndarray for stim_fname in stim_fnames]):\n",
    "        stim_fnames = np.concatenate(stim_fnames)\n",
    "\n",
    "#    stim_type_vec = data_gz[f'stim_type_vec_{data_set}']\n",
    "#    if all([type(stim_fname) == str for stim_fname in stim_fnames]):\n",
    "#        stim_fnames = np.asarray(stim_fnames)\n",
    "#    elif all([type(stim_fname) == np.ndarray for stim_fname in stim_fnames]):\n",
    "#        stim_fnames = np.concatenate(stim_fnames)\n",
    "\n",
    "    # keep just the ones that are the correct visual search stimulus type\n",
    "#    inds_of_stim = np.nonzero(stim_type_vec == stim_abbrev)\n",
    "#    import pdb;pdb.set_trace()\n",
    "#    stim_fnames = stim_fnames[inds_of_stim]\n",
    "#    stim_fnames = stim_fnames.tolist()\n",
    "    # keep just name of file, not whole path, \n",
    "    # so we can more easily check if each filename from the .json file\n",
    "    # is in this list of 'just filenames' (without paths)\n",
    "    stim_fnames = [Path(stim_fname).name for stim_fname in stim_fnames]\n",
    "\n",
    "    with open(json_fname) as fp:\n",
    "        stim_meta_dict = json.load(fp)\n",
    "\n",
    "    stim_meta_dict = stim_meta_dict[stim_abbrev]\n",
    "    stim_meta_dict = stim_meta_dict[set_size]\n",
    "    # just concatenate both the 'present' and 'absent' lists\n",
    "    # and look at all of them, instead of e.g. only keeping\n",
    "    # target present to look for 't'. In case a different\n",
    "    # character was used for target and/or distractor type(s)\n",
    "    stim_meta_list = []\n",
    "    stim_meta_list.extend(stim_meta_dict['present'])\n",
    "    stim_meta_list.extend(stim_meta_dict['absent'])\n",
    "\n",
    "    char_grids = [\n",
    "        np.asarray(meta_d['grid_as_char'])\n",
    "        for meta_d in stim_meta_list\n",
    "        # only keep if filename is in stim_fnames from data_gz\n",
    "        if Path(meta_d['filename']).name in stim_fnames\n",
    "    ]\n",
    "\n",
    "    p = p_item_grid(char_grids, item_char)\n",
    "    #import pdb;pdb.set_trace()\n",
    "    im = heatmap(p, ax, vmin=vmin, vmax=vmax)\n",
    "    return p, im"
   ]
  },
  {
   "cell_type": "code",
   "execution_count": 38,
   "metadata": {},
   "outputs": [
    {
     "data": {
      "image/png": "[encoded data removed]",
      "text/plain": [
       "<Figure size 432x288 with 8 Axes>"
      ]
     },
     "metadata": {
      "needs_background": "light"
     },
     "output_type": "display_data"
    }
   ],
   "source": [
    "ps = []\n",
    "\n",
    "fig = plt.figure()\n",
    "grid = AxesGrid(fig, 111,\n",
    "                nrows_ncols=(1, 4),\n",
    "                axes_pad=0.05,\n",
    "                share_all=True,\n",
    "                label_mode=\"L\",\n",
    "                cbar_location=\"right\",\n",
    "                cbar_mode=\"single\",\n",
    "                )\n",
    "\n",
    "for ax_ind, set_size in enumerate([1,2,4,8]):\n",
    "    set_size = str(set_size)\n",
    "\n",
    "    p, im = p_item_heatmap(json_fname=alexnet_finetune_jsons[0],\n",
    "                            data_gz_fname=alexnet_finetune_data_gzs[0],\n",
    "                            stim_abbrev='2_v_5',\n",
    "                            set_size=set_size,\n",
    "                            data_set='train',\n",
    "                            item_char='t',\n",
    "                            vmin=0.,\n",
    "                            vmax=0.1,\n",
    "                            ax=grid[ax_ind])\n",
    "    \n",
    "    ps.append(p)\n",
    "\n",
    "grid.cbar_axes[0].colorbar(im)\n",
    "\n",
    "for cax in grid.cbar_axes:\n",
    "    cax.toggle_label(False)"
   ]
  },
  {
   "cell_type": "code",
   "execution_count": 27,
   "metadata": {},
   "outputs": [
    {
     "data": {
      "text/plain": [
       "array([[0.04125, 0.03875, 0.04875, 0.0375 , 0.045  ],\n",
       "       [0.04875, 0.045  , 0.02875, 0.0375 , 0.04125],\n",
       "       [0.02875, 0.03125, 0.035  , 0.055  , 0.04125],\n",
       "       [0.04375, 0.0275 , 0.04375, 0.0375 , 0.05125],\n",
       "       [0.0375 , 0.0375 , 0.04   , 0.035  , 0.0425 ]])"
      ]
     },
     "execution_count": 27,
     "metadata": {},
     "output_type": "execute_result"
    }
   ],
   "source": [
    "ps[0]"
   ]
  },
  {
   "cell_type": "code",
   "execution_count": 28,
   "metadata": {},
   "outputs": [
    {
     "data": {
      "text/plain": [
       "array([[0.05   , 0.04125, 0.035  , 0.0475 , 0.0325 ],\n",
       "       [0.0425 , 0.03625, 0.03875, 0.04375, 0.0375 ],\n",
       "       [0.0425 , 0.04125, 0.035  , 0.04375, 0.0475 ],\n",
       "       [0.03875, 0.0425 , 0.04125, 0.03125, 0.035  ],\n",
       "       [0.03875, 0.035  , 0.04125, 0.04375, 0.0375 ]])"
      ]
     },
     "execution_count": 28,
     "metadata": {},
     "output_type": "execute_result"
    }
   ],
   "source": [
    "ps[1]"
   ]
  },
  {
   "cell_type": "code",
   "execution_count": 29,
   "metadata": {},
   "outputs": [
    {
     "data": {
      "text/plain": [
       "array([[0.0275 , 0.0275 , 0.04   , 0.04   , 0.05   ],\n",
       "       [0.04375, 0.04375, 0.04375, 0.03625, 0.04   ],\n",
       "       [0.0425 , 0.02875, 0.045  , 0.04625, 0.0425 ],\n",
       "       [0.03625, 0.03125, 0.03625, 0.04125, 0.05125],\n",
       "       [0.045  , 0.04   , 0.0475 , 0.0375 , 0.03625]])"
      ]
     },
     "execution_count": 29,
     "metadata": {},
     "output_type": "execute_result"
    }
   ],
   "source": [
    "ps[3]"
   ]
  },
  {
   "cell_type": "code",
   "execution_count": null,
   "metadata": {},
   "outputs": [],
   "source": []
  }
 ],
 "metadata": {
  "kernelspec": {
   "display_name": "Python 3",
   "language": "python",
   "name": "python3"
  },
  "language_info": {
   "codemirror_mode": {
    "name": "ipython",
    "version": 3
   },
   "file_extension": ".py",
   "mimetype": "text/x-python",
   "name": "python",
   "nbconvert_exporter": "python",
   "pygments_lexer": "ipython3",
   "version": "3.6.7"
  }
 },
 "nbformat": 4,
 "nbformat_minor": 2
}
