{
 "cells": [
  {
   "cell_type": "markdown",
   "metadata": {},
   "source": [
    "## train with bigger set sizes\n",
    "Goal here was to test what happens when set size > 8."
   ]
  },
  {
   "cell_type": "code",
   "execution_count": 1,
   "metadata": {},
   "outputs": [],
   "source": [
    "from pathlib import Path\n",
    "\n",
    "import joblib\n",
    "import matplotlib.pyplot as plt\n",
    "import numpy as np\n",
    "import pandas as pd\n",
    "\n",
    "import searchnets"
   ]
  },
  {
   "cell_type": "code",
   "execution_count": 2,
   "metadata": {},
   "outputs": [],
   "source": [
    "results_dir = Path('/home/bart/Documents/repos/L2M/visual-search-nets/data/results/')\n",
    "data_prep_dir = Path('/home/bart/Documents/repos/L2M/visual-search-nets/data/data_prepd_for_nets/')"
   ]
  },
  {
   "cell_type": "code",
   "execution_count": 10,
   "metadata": {},
   "outputs": [],
   "source": [
    "data_gz_paths = sorted(list(data_prep_dir.glob('alexnet*train_big_set_size*gz')))\n",
    "data_gz_paths = [str(path) for path in data_gz_paths]\n",
    "\n",
    "results_gz_paths = sorted(list(results_dir.glob('*/*train_big_set_size*gz')))\n",
    "results_gz_paths = [str(path) for path in results_gz_paths]"
   ]
  },
  {
   "cell_type": "code",
   "execution_count": 12,
   "metadata": {},
   "outputs": [
    {
     "data": {
      "text/plain": [
       "['/home/bart/Documents/repos/L2M/visual-search-nets/data/results/alexnet_train_big_set_size_RVvGV/searchnets_alexnet_train_big_set_size_RVvGV_trained_200_epochs_test_results.gz',\n",
       " '/home/bart/Documents/repos/L2M/visual-search-nets/data/results/alexnet_train_big_set_size_RVvRHGV/searchnets_alexnet_train_big_set_size_RVvRHGV_trained_200_epochs_test_results.gz']"
      ]
     },
     "execution_count": 12,
     "metadata": {},
     "output_type": "execute_result"
    }
   ],
   "source": [
    "results_gz_paths"
   ]
  },
  {
   "cell_type": "code",
   "execution_count": 11,
   "metadata": {},
   "outputs": [
    {
     "data": {
      "text/plain": [
       "['/home/bart/Documents/repos/L2M/visual-search-nets/data/data_prepd_for_nets/alexnet_train_big_set_size_2_v_5_data.gz',\n",
       " '/home/bart/Documents/repos/L2M/visual-search-nets/data/data_prepd_for_nets/alexnet_train_big_set_size_RVvGV_data.gz',\n",
       " '/home/bart/Documents/repos/L2M/visual-search-nets/data/data_prepd_for_nets/alexnet_train_big_set_size_RVvRHGV_data.gz']"
      ]
     },
     "execution_count": 11,
     "metadata": {},
     "output_type": "execute_result"
    }
   ],
   "source": [
    "data_gz_paths"
   ]
  },
  {
   "cell_type": "code",
   "execution_count": 13,
   "metadata": {},
   "outputs": [],
   "source": [
    "# HACK\n",
    "data_gz_paths = data_gz_paths[1:]"
   ]
  },
  {
   "cell_type": "code",
   "execution_count": 18,
   "metadata": {},
   "outputs": [],
   "source": [
    "searchnets.utils.general.results_csv(data_prep_dir,\n",
    "                                     results_dir,\n",
    "                                     test_csv_path='./alexnet_train_big_set_size_data.csv',\n",
    "                                     nets=('alexnet',),\n",
    "                                     train_types=('train_big_set_size',),\n",
    "                                     stims=('RVvGV', 'RVvRHGV'),\n",
    "                                     target_condition=('present', 'absent'),\n",
    "                                     data_gz_paths=data_gz_paths,\n",
    "                                     results_gz_paths=results_gz_paths)"
   ]
  },
  {
   "cell_type": "code",
   "execution_count": 19,
   "metadata": {},
   "outputs": [],
   "source": [
    "atbss_df = pd.read_csv('alexnet_train_big_set_size_data.csv')"
   ]
  },
  {
   "cell_type": "code",
   "execution_count": 22,
   "metadata": {},
   "outputs": [
    {
     "data": {
      "text/html": [
       "<div>\n",
       "<style scoped>\n",
       "    .dataframe tbody tr th:only-of-type {\n",
       "        vertical-align: middle;\n",
       "    }\n",
       "\n",
       "    .dataframe tbody tr th {\n",
       "        vertical-align: top;\n",
       "    }\n",
       "\n",
       "    .dataframe thead th {\n",
       "        text-align: right;\n",
       "    }\n",
       "</style>\n",
       "<table border=\"1\" class=\"dataframe\">\n",
       "  <thead>\n",
       "    <tr style=\"text-align: right;\">\n",
       "      <th></th>\n",
       "      <th>Unnamed: 0</th>\n",
       "      <th>net_name</th>\n",
       "      <th>train_type</th>\n",
       "      <th>net_number</th>\n",
       "      <th>stimulus</th>\n",
       "      <th>target_condition</th>\n",
       "      <th>set_size</th>\n",
       "      <th>accuracy</th>\n",
       "    </tr>\n",
       "  </thead>\n",
       "  <tbody>\n",
       "    <tr>\n",
       "      <th>0</th>\n",
       "      <td>0</td>\n",
       "      <td>alexnet</td>\n",
       "      <td>train_big_set_size</td>\n",
       "      <td>0</td>\n",
       "      <td>RVvGV</td>\n",
       "      <td>present</td>\n",
       "      <td>1</td>\n",
       "      <td>1.0</td>\n",
       "    </tr>\n",
       "    <tr>\n",
       "      <th>1</th>\n",
       "      <td>1</td>\n",
       "      <td>alexnet</td>\n",
       "      <td>train_big_set_size</td>\n",
       "      <td>0</td>\n",
       "      <td>RVvGV</td>\n",
       "      <td>present</td>\n",
       "      <td>2</td>\n",
       "      <td>1.0</td>\n",
       "    </tr>\n",
       "    <tr>\n",
       "      <th>2</th>\n",
       "      <td>2</td>\n",
       "      <td>alexnet</td>\n",
       "      <td>train_big_set_size</td>\n",
       "      <td>0</td>\n",
       "      <td>RVvGV</td>\n",
       "      <td>present</td>\n",
       "      <td>4</td>\n",
       "      <td>1.0</td>\n",
       "    </tr>\n",
       "    <tr>\n",
       "      <th>3</th>\n",
       "      <td>3</td>\n",
       "      <td>alexnet</td>\n",
       "      <td>train_big_set_size</td>\n",
       "      <td>0</td>\n",
       "      <td>RVvGV</td>\n",
       "      <td>present</td>\n",
       "      <td>6</td>\n",
       "      <td>1.0</td>\n",
       "    </tr>\n",
       "    <tr>\n",
       "      <th>4</th>\n",
       "      <td>4</td>\n",
       "      <td>alexnet</td>\n",
       "      <td>train_big_set_size</td>\n",
       "      <td>0</td>\n",
       "      <td>RVvGV</td>\n",
       "      <td>present</td>\n",
       "      <td>8</td>\n",
       "      <td>1.0</td>\n",
       "    </tr>\n",
       "  </tbody>\n",
       "</table>\n",
       "</div>"
      ],
      "text/plain": [
       "   Unnamed: 0 net_name          train_type  net_number stimulus  \\\n",
       "0           0  alexnet  train_big_set_size           0    RVvGV   \n",
       "1           1  alexnet  train_big_set_size           0    RVvGV   \n",
       "2           2  alexnet  train_big_set_size           0    RVvGV   \n",
       "3           3  alexnet  train_big_set_size           0    RVvGV   \n",
       "4           4  alexnet  train_big_set_size           0    RVvGV   \n",
       "\n",
       "  target_condition  set_size  accuracy  \n",
       "0          present         1       1.0  \n",
       "1          present         2       1.0  \n",
       "2          present         4       1.0  \n",
       "3          present         6       1.0  \n",
       "4          present         8       1.0  "
      ]
     },
     "execution_count": 22,
     "metadata": {},
     "output_type": "execute_result"
    }
   ],
   "source": [
    "atbss_df.head()"
   ]
  },
  {
   "cell_type": "code",
   "execution_count": 25,
   "metadata": {},
   "outputs": [
    {
     "data": {
      "image/png": "[encoded data removed]",
      "text/plain": [
       "<Figure size 1080x540 with 3 Axes>"
      ]
     },
     "metadata": {
      "needs_background": "light"
     },
     "output_type": "display_data"
    }
   ],
   "source": [
    "figsize=(15,7.5)\n",
    "fig, ax = plt.subplots(1, 2, sharex=True, sharey=True, figsize=figsize)\n",
    "# add a big axis, hide frame\n",
    "fig.add_subplot(111, frameon=False)\n",
    "# hide tick and tick label of the big axis\n",
    "plt.tick_params(labelcolor='none', top=False, bottom=False, left=False, right=False)\n",
    "\n",
    "for col, (stim_name, stim_abbrev) in enumerate(zip(\n",
    "    ['feature', 'conjunction',],\n",
    "    ['RVvGV', 'RVvRHGV',])):\n",
    "        if col==0:\n",
    "            add_legend=True\n",
    "        else:\n",
    "            add_legend=False\n",
    "\n",
    "        searchnets.plot.acc_v_set_size_df(df=atbss_df, net_name='alexnet',\n",
    "                                          train_type='train_big_set_size', stimulus=stim_abbrev, \n",
    "                                          ylim=(0.3, 1.05), ax=ax[col], add_legend=add_legend)\n",
    "        ax[col].set_title(stim_abbrev)"
   ]
  },
  {
   "cell_type": "markdown",
   "metadata": {},
   "source": [
    "Above result suggests that, no, simply increaseing the learning rate was not enough."
   ]
  }
 ],
 "metadata": {
  "kernelspec": {
   "display_name": "Python 3",
   "language": "python",
   "name": "python3"
  },
  "language_info": {
   "codemirror_mode": {
    "name": "ipython",
    "version": 3
   },
   "file_extension": ".py",
   "mimetype": "text/x-python",
   "name": "python",
   "nbconvert_exporter": "python",
   "pygments_lexer": "ipython3",
   "version": "3.6.7"
  }
 },
 "nbformat": 4,
 "nbformat_minor": 2
}
