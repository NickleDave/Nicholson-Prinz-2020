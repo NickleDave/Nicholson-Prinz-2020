{
 "cells": [
  {
   "cell_type": "code",
   "execution_count": 1,
   "metadata": {},
   "outputs": [],
   "source": [
    "from pathlib import Path\n",
    "\n",
    "import matplotlib.pyplot as plt\n",
    "import pandas as pd\n",
    "import seaborn as sns\n",
    "\n",
    "import searchnets"
   ]
  },
  {
   "cell_type": "code",
   "execution_count": 2,
   "metadata": {},
   "outputs": [],
   "source": [
    "ROOT = Path('~/Documents/repos/coding/l2m/visual-search-nets')\n",
    "ROOT = ROOT.expanduser()\n",
    "DATA_DIR = ROOT.joinpath('data')"
   ]
  },
  {
   "cell_type": "code",
   "execution_count": 7,
   "metadata": {},
   "outputs": [],
   "source": [
    "learning_rate = 1e-03\n",
    "\n",
    "alexnet_data_csv_path = DATA_DIR.joinpath('csv/alexnet_multiple_stims_128000samples_balanced_split.csv')\n",
    "VGG16_data_csv_path = DATA_DIR.joinpath('csv/VGG16_multiple_stims_128000samples_balanced_split.csv')"
   ]
  },
  {
   "cell_type": "code",
   "execution_count": 8,
   "metadata": {},
   "outputs": [
    {
     "name": "stderr",
     "output_type": "stream",
     "text": [
      "/home/ildefonso/Documents/repos/coding/l2m/visual-search-nets/src/searchnets/utils/general.py:106: SettingWithCopyWarning: \n",
      "A value is trying to be set on a copy of a slice from a DataFrame.\n",
      "Try using .loc[row_indexer,col_indexer] = value instead\n",
      "\n",
      "See the caveats in the documentation: http://pandas.pydata.org/pandas-docs/stable/user_guide/indexing.html#returning-a-view-versus-a-copy\n",
      "  df_testset['y_true'] = df_testset['target_condition'] == 'present'\n",
      "/home/ildefonso/Documents/repos/coding/l2m/visual-search-nets/src/searchnets/utils/general.py:122: SettingWithCopyWarning: \n",
      "A value is trying to be set on a copy of a slice from a DataFrame.\n",
      "Try using .loc[row_indexer,col_indexer] = value instead\n",
      "\n",
      "See the caveats in the documentation: http://pandas.pydata.org/pandas-docs/stable/user_guide/indexing.html#returning-a-view-versus-a-copy\n",
      "  df_testset['y_pred'] = preds_per_model[key]\n",
      "/home/ildefonso/Documents/repos/coding/l2m/visual-search-nets/src/searchnets/utils/metrics.py:15: RuntimeWarning: invalid value encountered in long_scalars\n",
      "  hit_rate = hits / (hits + misses)\n",
      "/home/ildefonso/Documents/repos/coding/l2m/visual-search-nets/src/searchnets/utils/metrics.py:19: RuntimeWarning: invalid value encountered in long_scalars\n",
      "  false_alarm_rate = false_alarms / (false_alarms + correct_rejects)\n",
      "/home/ildefonso/Documents/repos/coding/l2m/visual-search-nets/src/searchnets/utils/metrics.py:24: RuntimeWarning: divide by zero encountered in true_divide\n",
      "  half_hit = 0.5 / (hits + misses)\n",
      "/home/ildefonso/Documents/repos/coding/l2m/visual-search-nets/src/searchnets/utils/metrics.py:25: RuntimeWarning: divide by zero encountered in true_divide\n",
      "  half_fa = 0.5 / (false_alarms + correct_rejects)\n"
     ]
    }
   ],
   "source": [
    "df_list = []\n",
    "\n",
    "net_names = ['alexnet', 'VGG16', 'CORnet_Z']\n",
    "\n",
    "for net_name in net_names:\n",
    "    for method in ['initialize', 'transfer']:\n",
    "        if method == 'transfer':\n",
    "            results_gz_path = DATA_DIR.joinpath(f'results/{net_name}_transfer_lr_1e-03_no_finetune_multiple_stims_128000samples_balanced/'\n",
    "                                                f'searchnets_{net_name}_transfer_lr_1e-03_no_finetune_multiple_stims_128000samples_balanced_trained_200_epochs_test_results.gz')\n",
    "        elif method == 'initialize':\n",
    "            results_gz_path = DATA_DIR.joinpath(f'results/{net_name}_initialize_lr_1e-03_multiple_stims_128000samples_balanced/'\n",
    "                                                f'searchnets_{net_name}_initialize_lr_1e-03_multiple_stims_128000samples_balanced_trained_200_epochs_test_results.gz')\n",
    "\n",
    "        if net_name == 'alexnet' or net_name == 'CORnet_Z':\n",
    "            data_csv_path = alexnet_data_csv_path\n",
    "        elif net_name == 'VGG16':\n",
    "            data_csv_path = VGG16_data_csv_path\n",
    "\n",
    "        df_list.append(\n",
    "            searchnets.utils.general.results_df(data_csv_path, results_gz_path, net_name, method, learning_rate)\n",
    "        )\n",
    "\n",
    "df_all_nets = pd.concat(df_list)"
   ]
  },
  {
   "cell_type": "code",
   "execution_count": null,
   "metadata": {},
   "outputs": [],
   "source": []
  }
 ],
 "metadata": {
  "kernelspec": {
   "display_name": "Python 3",
   "language": "python",
   "name": "python3"
  },
  "language_info": {
   "codemirror_mode": {
    "name": "ipython",
    "version": 3
   },
   "file_extension": ".py",
   "mimetype": "text/x-python",
   "name": "python",
   "nbconvert_exporter": "python",
   "pygments_lexer": "ipython3",
   "version": "3.6.9"
  }
 },
 "nbformat": 4,
 "nbformat_minor": 4
}
