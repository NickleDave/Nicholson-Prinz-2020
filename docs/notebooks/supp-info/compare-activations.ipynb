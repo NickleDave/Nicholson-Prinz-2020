{
 "cells": [
  {
   "cell_type": "code",
   "execution_count": 54,
   "metadata": {},
   "outputs": [],
   "source": [
    "from pathlib import Path\n",
    "\n",
    "import torch\n",
    "from torch import nn\n",
    "from torch.utils.data import DataLoader\n",
    "from torchvision import transforms\n",
    "\n",
    "import searchnets\n",
    "from searchnets.utils.dataset import VisSearchDataset"
   ]
  },
  {
   "cell_type": "code",
   "execution_count": 2,
   "metadata": {},
   "outputs": [],
   "source": [
    "model = searchnets.nets.alexnet.build(pretrained=True)"
   ]
  },
  {
   "cell_type": "code",
   "execution_count": 30,
   "metadata": {},
   "outputs": [],
   "source": [
    "activations = {}\n",
    "\n",
    "def hook_fn(module, inp, out):\n",
    "    activations[module] = out\n",
    "\n",
    "def register_forward_hooks(net):\n",
    "    modules = [module for module in net.modules() if type(module) != nn.Sequential and type(module) != type(net)]\n",
    "    for module in modules:\n",
    "        module.register_forward_hook(hook_fn)"
   ]
  },
  {
   "cell_type": "code",
   "execution_count": 32,
   "metadata": {},
   "outputs": [],
   "source": [
    "register_forward_hooks(model)"
   ]
  },
  {
   "cell_type": "code",
   "execution_count": 35,
   "metadata": {},
   "outputs": [],
   "source": [
    "MEAN = [0.485, 0.456, 0.406]\n",
    "STD = [0.229, 0.224, 0.225]"
   ]
  },
  {
   "cell_type": "code",
   "execution_count": 37,
   "metadata": {},
   "outputs": [],
   "source": [
    "normalize = transforms.Normalize(mean=MEAN,\n",
    "                                 std=STD)"
   ]
  },
  {
   "cell_type": "code",
   "execution_count": 38,
   "metadata": {},
   "outputs": [],
   "source": [
    "batch_size = 64\n",
    "num_workers = 32"
   ]
  },
  {
   "cell_type": "code",
   "execution_count": 25,
   "metadata": {},
   "outputs": [
    {
     "data": {
      "text/plain": [
       "searchnets.nets.alexnet.AlexNet"
      ]
     },
     "execution_count": 25,
     "metadata": {},
     "output_type": "execute_result"
    }
   ],
   "source": [
    "def get_vis_search_activations(csv_file, model, layer, batch_size, num_workers):\n",
    "    trainset = VisSearchDataset(csv_file=csv_file,\n",
    "                            split='train',\n",
    "                            transform=transforms.Compose(\n",
    "                                [transforms.ToTensor(), normalize]\n",
    "                            ))\n",
    "\n",
    "    train_loader = DataLoader(trainset, batch_size=batch_size,\n",
    "                              shuffle=True, num_workers=num_workers,\n",
    "                              pin_memory=True)\n",
    "\n",
    "    model.eval()\n",
    "    for batch_x, batch_y in train_loader:"
   ]
  },
  {
   "cell_type": "code",
   "execution_count": 49,
   "metadata": {},
   "outputs": [],
   "source": [
    "csv_file = Path('~/Documents/repos/L2M/visual-search-nets/data/visual_search_stimuli/alexnet_RVvGV/alexnet_RVvGV_finetune_split.csv')\n",
    "csv_file = csv_file.expanduser()"
   ]
  },
  {
   "cell_type": "code",
   "execution_count": 52,
   "metadata": {},
   "outputs": [],
   "source": [
    "trainset = VisSearchDataset(csv_file=csv_file,\n",
    "                        split='test',\n",
    "                        transform=transforms.Compose(\n",
    "                            [transforms.ToTensor(), normalize]\n",
    "                        ))\n",
    "\n",
    "train_loader = DataLoader(trainset, batch_size=batch_size,\n",
    "                          shuffle=True, num_workers=num_workers,\n",
    "                          pin_memory=True)"
   ]
  },
  {
   "cell_type": "code",
   "execution_count": 55,
   "metadata": {},
   "outputs": [],
   "source": [
    "if torch.cuda.is_available():\n",
    "    device = torch.device('cuda')\n",
    "else:\n",
    "    device = torch.device('cpu')"
   ]
  },
  {
   "cell_type": "code",
   "execution_count": 57,
   "metadata": {},
   "outputs": [
    {
     "data": {
      "text/plain": [
       "AlexNet(\n",
       "  (features): Sequential(\n",
       "    (0): Conv2d(3, 64, kernel_size=(11, 11), stride=(4, 4), padding=(2, 2))\n",
       "    (1): ReLU(inplace=True)\n",
       "    (2): MaxPool2d(kernel_size=3, stride=2, padding=0, dilation=1, ceil_mode=False)\n",
       "    (3): Conv2d(64, 192, kernel_size=(5, 5), stride=(1, 1), padding=(2, 2))\n",
       "    (4): ReLU(inplace=True)\n",
       "    (5): MaxPool2d(kernel_size=3, stride=2, padding=0, dilation=1, ceil_mode=False)\n",
       "    (6): Conv2d(192, 384, kernel_size=(3, 3), stride=(1, 1), padding=(1, 1))\n",
       "    (7): ReLU(inplace=True)\n",
       "    (8): Conv2d(384, 256, kernel_size=(3, 3), stride=(1, 1), padding=(1, 1))\n",
       "    (9): ReLU(inplace=True)\n",
       "    (10): Conv2d(256, 256, kernel_size=(3, 3), stride=(1, 1), padding=(1, 1))\n",
       "    (11): ReLU(inplace=True)\n",
       "    (12): MaxPool2d(kernel_size=3, stride=2, padding=0, dilation=1, ceil_mode=False)\n",
       "  )\n",
       "  (avgpool): AdaptiveAvgPool2d(output_size=(6, 6))\n",
       "  (classifier): Sequential(\n",
       "    (0): Dropout(p=0.5, inplace=False)\n",
       "    (1): Linear(in_features=9216, out_features=4096, bias=True)\n",
       "    (2): ReLU(inplace=True)\n",
       "    (3): Dropout(p=0.5, inplace=False)\n",
       "    (4): Linear(in_features=4096, out_features=4096, bias=True)\n",
       "    (5): ReLU(inplace=True)\n",
       "    (6): Linear(in_features=4096, out_features=1000, bias=True)\n",
       "  )\n",
       ")"
      ]
     },
     "execution_count": 57,
     "metadata": {},
     "output_type": "execute_result"
    }
   ],
   "source": [
    "model.to(device)"
   ]
  },
  {
   "cell_type": "code",
   "execution_count": 59,
   "metadata": {},
   "outputs": [],
   "source": [
    "batch_x, batch_y = next(iter(train_loader))\n",
    "batch_x, batch_y = batch_x.to(device), batch_y.to(device)\n",
    "output = model(batch_x)"
   ]
  },
  {
   "cell_type": "code",
   "execution_count": 69,
   "metadata": {},
   "outputs": [
    {
     "name": "stdout",
     "output_type": "stream",
     "text": [
      "mean:  0.29947537 std:  1.3874729\n",
      "mean:  0.29947537 std:  1.3874729\n",
      "mean:  0.5531618 std:  2.3343318\n",
      "mean:  0.8639849 std:  3.3647711\n",
      "mean:  0.8639849 std:  3.3647711\n",
      "mean:  2.4694996 std:  6.4624257\n",
      "mean:  0.666239 std:  3.2622116\n",
      "mean:  0.666239 std:  3.2622116\n",
      "mean:  0.5553713 std:  2.2769845\n",
      "mean:  0.5553713 std:  2.2769845\n",
      "mean:  0.153945 std:  1.0107583\n",
      "mean:  0.153945 std:  1.0107583\n",
      "mean:  0.4688521 std:  1.8375064\n",
      "mean:  0.4688521 std:  1.8375064\n",
      "mean:  0.46984673 std:  2.6531706\n",
      "mean:  1.2925751 std:  2.5875597\n",
      "mean:  1.2925751 std:  2.5875597\n",
      "mean:  1.2871842 std:  3.859484\n",
      "mean:  0.32277316 std:  1.4871278\n",
      "mean:  0.32277316 std:  1.4871278\n",
      "mean:  -0.00092787744 std:  4.0739326\n"
     ]
    }
   ],
   "source": [
    "for k, v in activations.items():\n",
    "    print(\"mean: \", v.detach().cpu().numpy().mean(), \"std: \", v.detach().cpu().numpy().std())"
   ]
  }
 ],
 "metadata": {
  "kernelspec": {
   "display_name": "Python 3",
   "language": "python",
   "name": "python3"
  },
  "language_info": {
   "codemirror_mode": {
    "name": "ipython",
    "version": 3
   },
   "file_extension": ".py",
   "mimetype": "text/x-python",
   "name": "python",
   "nbconvert_exporter": "python",
   "pygments_lexer": "ipython3",
   "version": "3.6.9"
  }
 },
 "nbformat": 4,
 "nbformat_minor": 4
}
