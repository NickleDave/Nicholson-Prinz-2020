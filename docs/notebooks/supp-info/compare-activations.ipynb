{
 "cells": [
  {
   "cell_type": "code",
   "execution_count": 1,
   "metadata": {},
   "outputs": [],
   "source": [
    "from pathlib import Path\n",
    "\n",
    "import matplotlib.pyplot as plt\n",
    "import numpy as np\n",
    "from tqdm import tqdm\n",
    "import torch\n",
    "from torch import nn\n",
    "from torch.utils.data import DataLoader\n",
    "import torchvision\n",
    "from torchvision import transforms\n",
    "\n",
    "import searchnets\n",
    "from searchnets.utils.dataset import VisSearchDataset"
   ]
  },
  {
   "cell_type": "code",
   "execution_count": 2,
   "metadata": {},
   "outputs": [],
   "source": [
    "model = searchnets.nets.alexnet.build(pretrained=True)"
   ]
  },
  {
   "cell_type": "code",
   "execution_count": 3,
   "metadata": {},
   "outputs": [],
   "source": [
    "activations = {}\n",
    "\n",
    "def hook_fn(module, inp, out):\n",
    "    activations[module] = out\n",
    "\n",
    "def register_forward_hooks(net):\n",
    "    modules = [module for module in net.modules() if type(module) != nn.Sequential and type(module) != type(net)]\n",
    "    for module in modules:\n",
    "        module.register_forward_hook(hook_fn)"
   ]
  },
  {
   "cell_type": "code",
   "execution_count": 4,
   "metadata": {},
   "outputs": [],
   "source": [
    "register_forward_hooks(model)"
   ]
  },
  {
   "cell_type": "code",
   "execution_count": 5,
   "metadata": {},
   "outputs": [],
   "source": [
    "MEAN = [0.485, 0.456, 0.406]\n",
    "STD = [0.229, 0.224, 0.225]"
   ]
  },
  {
   "cell_type": "code",
   "execution_count": 6,
   "metadata": {},
   "outputs": [],
   "source": [
    "normalize = transforms.Normalize(mean=MEAN,\n",
    "                                 std=STD)"
   ]
  },
  {
   "cell_type": "code",
   "execution_count": 7,
   "metadata": {},
   "outputs": [],
   "source": [
    "batch_size = 64\n",
    "num_workers = 32"
   ]
  },
  {
   "cell_type": "code",
   "execution_count": 8,
   "metadata": {},
   "outputs": [],
   "source": [
    "csv_file = Path('~/Documents/repos/L2M/visual-search-nets/data/visual_search_stimuli/alexnet_RVvGV/alexnet_RVvGV_finetune_split.csv')\n",
    "csv_file = csv_file.expanduser()"
   ]
  },
  {
   "cell_type": "code",
   "execution_count": 9,
   "metadata": {},
   "outputs": [],
   "source": [
    "trainset = VisSearchDataset(csv_file=csv_file,\n",
    "                        split='test',\n",
    "                        transform=transforms.Compose(\n",
    "                            [transforms.ToTensor(), normalize]\n",
    "                        ))\n",
    "\n",
    "train_loader = DataLoader(trainset, batch_size=batch_size,\n",
    "                          shuffle=True, num_workers=num_workers,\n",
    "                          pin_memory=True)"
   ]
  },
  {
   "cell_type": "code",
   "execution_count": 14,
   "metadata": {},
   "outputs": [],
   "source": [
    "# if torch.cuda.is_available():\n",
    "#     device = torch.device('cuda')\n",
    "#else:\n",
    "device = torch.device('cpu')"
   ]
  },
  {
   "cell_type": "code",
   "execution_count": 15,
   "metadata": {},
   "outputs": [],
   "source": [
    "model.to(device);"
   ]
  },
  {
   "cell_type": "code",
   "execution_count": 16,
   "metadata": {},
   "outputs": [],
   "source": [
    "mn_act_vis_search = {k: [] for k in activations.keys()}\n",
    "std_act_vis_search = {k: [] for k in activations.keys()}"
   ]
  },
  {
   "cell_type": "code",
   "execution_count": 17,
   "metadata": {},
   "outputs": [
    {
     "name": "stderr",
     "output_type": "stream",
     "text": [
      "\n",
      "  0%|          | 0/13 [00:00<?, ?it/s]\u001b[A\n",
      "batch 0 of 13:   0%|          | 0/13 [00:01<?, ?it/s]\u001b[A\n",
      "batch 0 of 13:   8%|▊         | 1/13 [00:02<00:31,  2.62s/it]\u001b[A\n",
      "batch 1 of 13:   8%|▊         | 1/13 [00:02<00:31,  2.62s/it]\u001b[A\n",
      "batch 1 of 13:  15%|█▌        | 2/13 [00:03<00:21,  1.99s/it]\u001b[A\n",
      "batch 2 of 13:  15%|█▌        | 2/13 [00:03<00:21,  1.99s/it]\u001b[A\n",
      "batch 2 of 13:  23%|██▎       | 3/13 [00:03<00:15,  1.54s/it]\u001b[A\n",
      "batch 3 of 13:  23%|██▎       | 3/13 [00:03<00:15,  1.54s/it]\u001b[A\n",
      "batch 3 of 13:  31%|███       | 4/13 [00:04<00:11,  1.23s/it]\u001b[A\n",
      "batch 4 of 13:  31%|███       | 4/13 [00:04<00:11,  1.23s/it]\u001b[A\n",
      "batch 4 of 13:  38%|███▊      | 5/13 [00:04<00:08,  1.01s/it]\u001b[A\n",
      "batch 5 of 13:  38%|███▊      | 5/13 [00:04<00:08,  1.01s/it]\u001b[A\n",
      "batch 5 of 13:  46%|████▌     | 6/13 [00:05<00:06,  1.16it/s]\u001b[A\n",
      "batch 6 of 13:  46%|████▌     | 6/13 [00:05<00:06,  1.16it/s]\u001b[A\n",
      "batch 6 of 13:  54%|█████▍    | 7/13 [00:05<00:04,  1.34it/s]\u001b[A\n",
      "batch 7 of 13:  54%|█████▍    | 7/13 [00:05<00:04,  1.34it/s]\u001b[A\n",
      "batch 7 of 13:  62%|██████▏   | 8/13 [00:06<00:03,  1.49it/s]\u001b[A\n",
      "batch 8 of 13:  62%|██████▏   | 8/13 [00:06<00:03,  1.49it/s]\u001b[A\n",
      "batch 8 of 13:  69%|██████▉   | 9/13 [00:06<00:02,  1.61it/s]\u001b[A\n",
      "batch 9 of 13:  69%|██████▉   | 9/13 [00:06<00:02,  1.61it/s]\u001b[A\n",
      "batch 9 of 13:  77%|███████▋  | 10/13 [00:07<00:01,  1.70it/s]\u001b[A\n",
      "batch 10 of 13:  77%|███████▋  | 10/13 [00:07<00:01,  1.70it/s]\u001b[A\n",
      "batch 10 of 13:  85%|████████▍ | 11/13 [00:07<00:01,  1.79it/s]\u001b[A\n",
      "batch 11 of 13:  85%|████████▍ | 11/13 [00:07<00:01,  1.79it/s]\u001b[A\n",
      "batch 11 of 13:  92%|█████████▏| 12/13 [00:08<00:00,  1.84it/s]\u001b[A\n",
      "batch 12 of 13:  92%|█████████▏| 12/13 [00:08<00:00,  1.84it/s]\u001b[A\n",
      "batch 12 of 13: 100%|██████████| 13/13 [00:08<00:00,  2.17it/s]\u001b[A"
     ]
    }
   ],
   "source": [
    "total = int(np.ceil(len(trainset) / batch_size))\n",
    "pbar = tqdm(train_loader)\n",
    "for i, (batch_x, batch_y) in enumerate(pbar):\n",
    "    pbar.set_description(f'batch {i} of {total}')\n",
    "    batch_x, batch_y = batch_x.to(device), batch_y.to(device)\n",
    "    output = model(batch_x)\n",
    "    for k, v in activations.items():\n",
    "        v_arr = v.detach().cpu().numpy()\n",
    "        mn_act_vis_search[k].append(v_arr.mean())\n",
    "        std_act_vis_search[k].append(v_arr.std())"
   ]
  },
  {
   "cell_type": "code",
   "execution_count": 18,
   "metadata": {},
   "outputs": [],
   "source": [
    "imagenet_root = Path('~/Documents/data/imagenet')\n",
    "imagenet_root = imagenet_root.expanduser()\n",
    "imagenet_data = torchvision.datasets.ImageNet(imagenet_root,\n",
    "                                              transform=transforms.Compose([\n",
    "                                                  transforms.RandomResizedCrop(224),\n",
    "                                                  transforms.RandomHorizontalFlip(),\n",
    "                                                  transforms.ToTensor(),\n",
    "                                                  normalize,\n",
    "                                              ]))\n",
    "imagenet_loader = torch.utils.data.DataLoader(imagenet_data,\n",
    "                                              batch_size=batch_size,\n",
    "                                              shuffle=True,\n",
    "                                              num_workers=num_workers)"
   ]
  },
  {
   "cell_type": "code",
   "execution_count": 19,
   "metadata": {},
   "outputs": [],
   "source": [
    "mn_act_imagenet = {k: [] for k in activations.keys()}\n",
    "std_act_imagenet = {k: [] for k in activations.keys()}"
   ]
  },
  {
   "cell_type": "code",
   "execution_count": 20,
   "metadata": {},
   "outputs": [
    {
     "name": "stderr",
     "output_type": "stream",
     "text": [
      "\n",
      "  0%|          | 0/20019 [00:00<?, ?it/s]\u001b[A\n",
      "batch 0 of 20019:   0%|          | 0/20019 [00:03<?, ?it/s]\u001b[A\n",
      "batch 0 of 20019:   0%|          | 1/20019 [00:04<25:00:04,  4.50s/it]\u001b[A\n",
      "batch 1 of 20019:   0%|          | 1/20019 [00:04<25:00:04,  4.50s/it]\u001b[A\n",
      "batch 1 of 20019:   0%|          | 2/20019 [00:05<18:26:12,  3.32s/it]\u001b[A\n",
      "batch 2 of 20019:   0%|          | 2/20019 [00:05<18:26:12,  3.32s/it]\u001b[A\n",
      "batch 2 of 20019:   0%|          | 3/20019 [00:05<13:48:05,  2.48s/it]\u001b[A\n",
      "batch 3 of 20019:   0%|          | 3/20019 [00:05<13:48:05,  2.48s/it]\u001b[A\n",
      "batch 3 of 20019:   0%|          | 4/20019 [00:06<10:33:07,  1.90s/it]\u001b[A\n",
      "batch 4 of 20019:   0%|          | 4/20019 [00:06<10:33:07,  1.90s/it]\u001b[A\n",
      "batch 4 of 20019:   0%|          | 5/20019 [00:06<8:16:05,  1.49s/it] \u001b[A\n",
      "batch 5 of 20019:   0%|          | 5/20019 [00:06<8:16:05,  1.49s/it]\u001b[A\n",
      "batch 5 of 20019:   0%|          | 6/20019 [00:07<6:40:11,  1.20s/it]\u001b[A\n",
      "batch 6 of 20019:   0%|          | 6/20019 [00:07<6:40:11,  1.20s/it]\u001b[A\n",
      "batch 6 of 20019:   0%|          | 7/20019 [00:07<5:33:25,  1.00it/s]\u001b[A\n",
      "batch 7 of 20019:   0%|          | 7/20019 [00:07<5:33:25,  1.00it/s]\u001b[A\n",
      "batch 7 of 20019:   0%|          | 8/20019 [00:08<4:47:44,  1.16it/s]\u001b[A\n",
      "batch 8 of 20019:   0%|          | 8/20019 [00:08<4:47:44,  1.16it/s]\u001b[A\n",
      "batch 8 of 20019:   0%|          | 9/20019 [00:08<4:13:05,  1.32it/s]\u001b[A\n",
      "batch 9 of 20019:   0%|          | 9/20019 [00:08<4:13:05,  1.32it/s]\u001b[A\n",
      "batch 9 of 20019:   0%|          | 10/20019 [00:09<3:50:42,  1.45it/s]\u001b[A\n",
      "batch 10 of 20019:   0%|          | 10/20019 [00:09<3:50:42,  1.45it/s]\u001b[A\n",
      "batch 10 of 20019:   0%|          | 11/20019 [00:09<3:34:27,  1.55it/s]\u001b[A\n",
      "batch 11 of 20019:   0%|          | 11/20019 [00:09<3:34:27,  1.55it/s]\u001b[A\n",
      "batch 11 of 20019:   0%|          | 12/20019 [00:10<3:22:16,  1.65it/s]\u001b[A\n",
      "batch 12 of 20019:   0%|          | 12/20019 [00:10<3:22:16,  1.65it/s]\u001b[A\n",
      "batch 12 of 20019:   0%|          | 13/20019 [00:10<3:14:00,  1.72it/s]\u001b[A\n",
      "batch 13 of 20019:   0%|          | 13/20019 [00:10<3:14:00,  1.72it/s]\u001b[A\n",
      "batch 13 of 20019:   0%|          | 14/20019 [00:11<3:07:31,  1.78it/s]\u001b[A\n",
      "batch 14 of 20019:   0%|          | 14/20019 [00:11<3:07:31,  1.78it/s]\u001b[A"
     ]
    }
   ],
   "source": [
    "total = int(np.ceil(len(imagenet_data) / batch_size))\n",
    "pbar = tqdm(imagenet_loader)\n",
    "for i, (batch_x, batch_y) in enumerate(pbar):\n",
    "    pbar.set_description(f'batch {i} of {total}')\n",
    "    batch_x, batch_y = batch_x.to(device), batch_y.to(device)\n",
    "    output = model(batch_x)\n",
    "    for k, v in activations.items():\n",
    "        v_arr = v.detach().cpu().numpy()\n",
    "        mn_act_imagenet[k].append(v_arr.mean())\n",
    "        std_act_imagenet[k].append(v_arr.std())\n",
    "    if i > 13:\n",
    "        break"
   ]
  },
  {
   "cell_type": "code",
   "execution_count": 21,
   "metadata": {},
   "outputs": [
    {
     "name": "stdout",
     "output_type": "stream",
     "text": [
      "mean:  0.4535742 std:  1.1610869\n",
      "mean:  0.4535742 std:  1.1610869\n",
      "mean:  1.3243948 std:  1.9384093\n",
      "mean:  0.5530129 std:  1.7541001\n",
      "mean:  0.5530129 std:  1.7541001\n",
      "mean:  1.694547 std:  3.0790467\n",
      "mean:  0.57156616 std:  1.8662821\n",
      "mean:  0.57156616 std:  1.8662821\n",
      "mean:  0.5149143 std:  1.5599234\n",
      "mean:  0.5149143 std:  1.5599234\n",
      "mean:  0.23682699 std:  0.9562867\n",
      "mean:  0.23682699 std:  0.9562867\n",
      "mean:  0.73311025 std:  1.679327\n",
      "mean:  0.73311025 std:  1.679327\n",
      "mean:  0.7300646 std:  2.4831705\n",
      "mean:  0.8731848 std:  1.9375826\n",
      "mean:  0.8731848 std:  1.9375826\n",
      "mean:  0.8741058 std:  2.880136\n",
      "mean:  0.31321308 std:  1.1925573\n",
      "mean:  0.31321308 std:  1.1925573\n",
      "mean:  6.7861554e-05 std:  3.6690922\n"
     ]
    }
   ],
   "source": [
    "for k, v in activations.items():\n",
    "    print(\"mean: \", v.detach().cpu().numpy().mean(), \"std: \", v.detach().cpu().numpy().std())"
   ]
  },
  {
   "cell_type": "code",
   "execution_count": 22,
   "metadata": {},
   "outputs": [
    {
     "data": {
      "image/png": "[encoded data removed]",
      "text/plain": [
       "<Figure size 1080x1080 with 25 Axes>"
      ]
     },
     "metadata": {
      "needs_background": "light"
     },
     "output_type": "display_data"
    }
   ],
   "source": [
    "bins = np.linspace(-0.5, 2, 50)\n",
    "\n",
    "fig, ax = plt.subplots(5, 5)\n",
    "fig.set_size_inches(15, 15)\n",
    "ax = ax.ravel()\n",
    "for i, (k, v) in enumerate(mn_act_vis_search.items()):\n",
    "    ax[i].hist(v, bins, alpha=0.5, color='blue', label='vis search')\n",
    "for i, (k, v) in enumerate(mn_act_imagenet.items()):\n",
    "    ax[i].hist(v, bins, alpha=0.5, color='green', label='imagenet')\n",
    "\n",
    "plt.savefig('mean_activations_hist.png')"
   ]
  },
  {
   "cell_type": "code",
   "execution_count": 24,
   "metadata": {},
   "outputs": [
    {
     "data": {
      "image/png": "[encoded data removed]",
      "text/plain": [
       "<Figure size 1080x1080 with 25 Axes>"
      ]
     },
     "metadata": {
      "needs_background": "light"
     },
     "output_type": "display_data"
    }
   ],
   "source": [
    "bins = np.linspace(0, 4, 50)\n",
    "\n",
    "fig, ax = plt.subplots(5, 5)\n",
    "fig.set_size_inches(15, 15)\n",
    "ax = ax.ravel()\n",
    "for i, (k, v) in enumerate(std_act_vis_search.items()):\n",
    "    ax[i].hist(v, bins, alpha=0.5, color='blue', label='vis search')\n",
    "for i, (k, v) in enumerate(std_act_imagenet.items()):\n",
    "    ax[i].hist(v, bins, alpha=0.5, color='green', label='imagenet')\n",
    "\n",
    "plt.savefig('std_activations_hist.png')"
   ]
  },
  {
   "cell_type": "code",
   "execution_count": null,
   "metadata": {},
   "outputs": [],
   "source": []
  }
 ],
 "metadata": {
  "kernelspec": {
   "display_name": "Python 3",
   "language": "python",
   "name": "python3"
  },
  "language_info": {
   "codemirror_mode": {
    "name": "ipython",
    "version": 3
   },
   "file_extension": ".py",
   "mimetype": "text/x-python",
   "name": "python",
   "nbconvert_exporter": "python",
   "pygments_lexer": "ipython3",
   "version": "3.6.9"
  }
 },
 "nbformat": 4,
 "nbformat_minor": 4
}
