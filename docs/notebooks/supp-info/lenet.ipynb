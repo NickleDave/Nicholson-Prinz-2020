{
 "cells": [
  {
   "cell_type": "code",
   "execution_count": 1,
   "metadata": {},
   "outputs": [],
   "source": [
    "from pathlib import Path\n",
    "\n",
    "import numpy as np\n",
    "from tqdm import tqdm\n",
    "import torch\n",
    "import torch.nn as nn\n",
    "import torch.nn.functional as F\n",
    "from torch.utils.data import DataLoader\n",
    "from torchvision import transforms\n",
    "\n",
    "import searchnets\n",
    "from searchnets.utils.dataset import VisSearchDataset"
   ]
  },
  {
   "cell_type": "code",
   "execution_count": 2,
   "metadata": {},
   "outputs": [],
   "source": [
    "'''LeNet in PyTorch.'''\n",
    "\n",
    "class LeNet(nn.Module):\n",
    "    def __init__(self):\n",
    "        super(LeNet, self).__init__()\n",
    "        self.conv1 = nn.Conv2d(3, 6, 5)\n",
    "        self.conv2 = nn.Conv2d(6, 16, 5)\n",
    "        self.fc1   = nn.Linear(16*53*53, 120)\n",
    "        self.fc2   = nn.Linear(120, 84)\n",
    "        self.fc3   = nn.Linear(84, 2)\n",
    "\n",
    "    def forward(self, x):\n",
    "        out = F.relu(self.conv1(x))\n",
    "        out = F.max_pool2d(out, 2)\n",
    "        out = F.relu(self.conv2(out))\n",
    "        out = F.max_pool2d(out, 2)\n",
    "        out = out.view(out.size(0), -1)\n",
    "        out = F.relu(self.fc1(out))\n",
    "        out = F.relu(self.fc2(out))\n",
    "        out = self.fc3(out)\n",
    "        return out"
   ]
  },
  {
   "cell_type": "code",
   "execution_count": 3,
   "metadata": {},
   "outputs": [],
   "source": [
    "MEAN = [0.485, 0.456, 0.406]\n",
    "STD = [0.229, 0.224, 0.225]\n",
    "\n",
    "normalize = transforms.Normalize(mean=MEAN,\n",
    "                                 std=STD)\n",
    "\n",
    "batch_size = 64\n",
    "num_workers = 32\n",
    "\n",
    "def get_train_and_val(csv_file):\n",
    "    trainset = VisSearchDataset(csv_file=csv_file,\n",
    "                            split='train',\n",
    "                            transform=transforms.Compose(\n",
    "                                [transforms.ToTensor(), normalize]\n",
    "                            ))\n",
    "\n",
    "    train_loader = DataLoader(trainset, batch_size=batch_size,\n",
    "                              shuffle=True, num_workers=num_workers,\n",
    "                              pin_memory=True)\n",
    "\n",
    "    valset = VisSearchDataset(csv_file=csv_file,\n",
    "                              split='val',\n",
    "                              transform=transforms.Compose([transforms.ToTensor(), normalize]))\n",
    "    val_loader = DataLoader(valset, batch_size=batch_size,\n",
    "                            shuffle=False, num_workers=num_workers)\n",
    "    \n",
    "    return trainset, train_loader, valset, val_loader"
   ]
  },
  {
   "cell_type": "code",
   "execution_count": 4,
   "metadata": {},
   "outputs": [],
   "source": [
    "if torch.cuda.is_available():\n",
    "    device = torch.device('cuda')\n",
    "else:\n",
    "    device = torch.device('cpu')"
   ]
  },
  {
   "cell_type": "code",
   "execution_count": 5,
   "metadata": {},
   "outputs": [],
   "source": [
    "def train_one_epoch(model, trainset, train_loader, criterion, optimizer):\n",
    "    \"\"\"train model for one epoch\"\"\"\n",
    "    model.train()\n",
    "\n",
    "    total_loss = 0.0\n",
    "\n",
    "    batch_total = int(np.ceil(len(trainset) / batch_size))\n",
    "    batch_pbar = tqdm(train_loader)\n",
    "    for i, (batch_x, batch_y) in enumerate(batch_pbar):\n",
    "        batch_x, batch_y = batch_x.to(device), batch_y.to(device)\n",
    "        output = model(batch_x)\n",
    "        loss = criterion(output, batch_y)\n",
    "\n",
    "        optimizer.zero_grad()\n",
    "        loss.backward()\n",
    "        optimizer.step()\n",
    "\n",
    "        batch_pbar.set_description(f'batch {i} of {batch_total}, loss: {loss: 7.3f}')\n",
    "        total_loss += loss\n",
    "\n",
    "    avg_loss = total_loss / batch_total\n",
    "    print(f'\\tTraining Avg. Loss: {avg_loss:7.3f}')\n",
    "    return avg_loss"
   ]
  },
  {
   "cell_type": "code",
   "execution_count": 6,
   "metadata": {},
   "outputs": [],
   "source": [
    "def validate(model, valset, val_loader):\n",
    "    model.eval()\n",
    "\n",
    "    val_acc_this_epoch = []\n",
    "    with torch.no_grad():\n",
    "        total = int(np.ceil(len(valset) / batch_size))\n",
    "        pbar = tqdm(val_loader)\n",
    "        for i, (batch_x, batch_y) in enumerate(pbar):\n",
    "            pbar.set_description(f'batch {i} of {total}')\n",
    "            batch_x, batch_y = batch_x.to(device), batch_y.to(device)\n",
    "            output = model(batch_x)\n",
    "            # below, _ because torch.max returns (values, indices)\n",
    "            _, predicted = torch.max(output.data, 1)\n",
    "            acc = (predicted == batch_y).sum().item() / batch_y.size(0)\n",
    "            val_acc_this_epoch.append(acc)\n",
    "\n",
    "    val_acc_this_epoch = np.asarray(val_acc_this_epoch).mean()\n",
    "    print(' Validation Acc: %7.3f' % val_acc_this_epoch)\n",
    "\n",
    "    return val_acc_this_epoch"
   ]
  },
  {
   "cell_type": "code",
   "execution_count": 7,
   "metadata": {},
   "outputs": [],
   "source": [
    "epochs = 200\n",
    "val_epoch = 1\n",
    "patience = 10"
   ]
  },
  {
   "cell_type": "code",
   "execution_count": 8,
   "metadata": {},
   "outputs": [],
   "source": [
    "def train(csv_file):\n",
    "    trainset, train_loader, valset, val_loader = get_train_and_val(csv_file)\n",
    "\n",
    "    model = LeNet()\n",
    "    model.to(device);\n",
    "\n",
    "    criterion = nn.CrossEntropyLoss().to(device)\n",
    "    optimizer = torch.optim.SGD(model.parameters(),\n",
    "                                lr=0.001,\n",
    "                                momentum=0.9)\n",
    "    \n",
    "    loss = []\n",
    "    best_val_acc = 0\n",
    "    epochs_without_improvement = 0\n",
    "\n",
    "    for epoch in range(1, epochs + 1):\n",
    "\n",
    "        print(f'\\nEpoch {epoch}')\n",
    "        avg_loss = train_one_epoch(model, trainset, train_loader, criterion, optimizer)\n",
    "        loss.append(avg_loss)\n",
    "\n",
    "        if epoch % val_epoch == 0:\n",
    "            val_acc_this_epoch = validate(model, valset, val_loader)\n",
    "\n",
    "            if patience is not None:\n",
    "                if val_acc_this_epoch > best_val_acc:\n",
    "                    best_val_acc = val_acc_this_epoch\n",
    "                    epochs_without_improvement = 0\n",
    "                    print(f'Validation accuracy improved')\n",
    "                else:\n",
    "                    epochs_without_improvement += 1\n",
    "                    if epochs_without_improvement > patience:\n",
    "                        print(\n",
    "                            f'greater than {patience} epochs without improvement in validation '\n",
    "                            'accuracy, stopping training')\n",
    "\n",
    "                        break\n",
    "\n",
    "    return model, loss"
   ]
  },
  {
   "cell_type": "code",
   "execution_count": 9,
   "metadata": {},
   "outputs": [],
   "source": [
    "def get_test(csv_file):\n",
    "        testset = VisSearchDataset(csv_file=csv_file,\n",
    "                                    split='test',\n",
    "                                    transform=transforms.Compose(\n",
    "                                        [transforms.ToTensor(), normalize]\n",
    "                                    ))\n",
    "        test_loader = DataLoader(testset, batch_size=batch_size,\n",
    "                                 shuffle=False, num_workers=num_workers,\n",
    "                                 pin_memory=True)\n",
    "        return testset, test_loader"
   ]
  },
  {
   "cell_type": "code",
   "execution_count": 10,
   "metadata": {},
   "outputs": [],
   "source": [
    "def test(model, csv_file):\n",
    "    testset, test_loader = get_test(csv_file)\n",
    "    model.eval()\n",
    "\n",
    "    total = int(np.ceil(len(testset) / batch_size))\n",
    "    pbar = tqdm(test_loader)\n",
    "    acc = []\n",
    "    pred = []\n",
    "    with torch.no_grad():\n",
    "        for i, (x_batch, y_batch) in enumerate(pbar):\n",
    "            pbar.set_description(f'batch {i} of {total}')\n",
    "            x_batch, y_batch = x_batch.to(device), y_batch.to(device)\n",
    "            output = model(x_batch)\n",
    "            # below, _ because torch.max returns (values, indices)\n",
    "            _, pred_batch = torch.max(output.data, 1)\n",
    "            acc_batch = (pred_batch == y_batch).sum().item() / y_batch.size(0)\n",
    "            acc.append(acc_batch)\n",
    "\n",
    "    acc = np.asarray(acc).mean()\n",
    "\n",
    "    return acc"
   ]
  },
  {
   "cell_type": "code",
   "execution_count": 11,
   "metadata": {},
   "outputs": [],
   "source": [
    "csv_files = [\n",
    "    # '~/Documents/repos/L2M/visual-search-nets/data/visual_search_stimuli/alexnet_RVvGV/alexnet_RVvGV_finetune_split.csv',\n",
    "    '~/Documents/repos/L2M/visual-search-nets/data/visual_search_stimuli/alexnet_RVvRHGV/alexnet_RVvRHGV_finetune_split.csv',\n",
    "    '~//Documents/repos/L2M/visual-search-nets/data/visual_search_stimuli/alexnet_2_v_5/alexnet_2_v_5_finetune_split.csv',\n",
    "]"
   ]
  },
  {
   "cell_type": "code",
   "execution_count": 12,
   "metadata": {},
   "outputs": [
    {
     "name": "stderr",
     "output_type": "stream",
     "text": [
      "  0%|          | 0/100 [00:00<?, ?it/s]"
     ]
    },
    {
     "name": "stdout",
     "output_type": "stream",
     "text": [
      "\n",
      "Epoch 1\n"
     ]
    },
    {
     "name": "stderr",
     "output_type": "stream",
     "text": [
      "batch 99 of 100, loss:   0.684: 100%|██████████| 100/100 [00:11<00:00, 24.33it/s]\n",
      "  0%|          | 0/4 [00:00<?, ?it/s]"
     ]
    },
    {
     "name": "stdout",
     "output_type": "stream",
     "text": [
      "\tTraining Avg. Loss:   0.693\n"
     ]
    },
    {
     "name": "stderr",
     "output_type": "stream",
     "text": [
      "batch 3 of 4: 100%|██████████| 4/4 [00:02<00:00,  1.49it/s]\n",
      "  0%|          | 0/100 [00:00<?, ?it/s]"
     ]
    },
    {
     "name": "stdout",
     "output_type": "stream",
     "text": [
      " Validation Acc:   0.609\n",
      "Validation accuracy improved\n",
      "\n",
      "Epoch 2\n"
     ]
    },
    {
     "name": "stderr",
     "output_type": "stream",
     "text": [
      "batch 99 of 100, loss:   0.692: 100%|██████████| 100/100 [00:10<00:00,  9.95it/s]\n",
      "  0%|          | 0/4 [00:00<?, ?it/s]"
     ]
    },
    {
     "name": "stdout",
     "output_type": "stream",
     "text": [
      "\tTraining Avg. Loss:   0.693\n"
     ]
    },
    {
     "name": "stderr",
     "output_type": "stream",
     "text": [
      "batch 3 of 4: 100%|██████████| 4/4 [00:04<00:00,  1.11s/it]\n",
      "  0%|          | 0/100 [00:00<?, ?it/s]"
     ]
    },
    {
     "name": "stdout",
     "output_type": "stream",
     "text": [
      " Validation Acc:   0.391\n",
      "\n",
      "Epoch 3\n"
     ]
    },
    {
     "name": "stderr",
     "output_type": "stream",
     "text": [
      "batch 99 of 100, loss:   0.692: 100%|██████████| 100/100 [00:10<00:00,  9.44it/s]\n",
      "  0%|          | 0/4 [00:00<?, ?it/s]"
     ]
    },
    {
     "name": "stdout",
     "output_type": "stream",
     "text": [
      "\tTraining Avg. Loss:   0.691\n"
     ]
    },
    {
     "name": "stderr",
     "output_type": "stream",
     "text": [
      "batch 3 of 4: 100%|██████████| 4/4 [00:03<00:00,  1.31it/s]\n",
      "  0%|          | 0/100 [00:00<?, ?it/s]"
     ]
    },
    {
     "name": "stdout",
     "output_type": "stream",
     "text": [
      " Validation Acc:   0.391\n",
      "\n",
      "Epoch 4\n"
     ]
    },
    {
     "name": "stderr",
     "output_type": "stream",
     "text": [
      "batch 99 of 100, loss:   0.678: 100%|██████████| 100/100 [00:09<00:00, 24.88it/s]\n",
      "  0%|          | 0/4 [00:00<?, ?it/s]"
     ]
    },
    {
     "name": "stdout",
     "output_type": "stream",
     "text": [
      "\tTraining Avg. Loss:   0.687\n"
     ]
    },
    {
     "name": "stderr",
     "output_type": "stream",
     "text": [
      "batch 3 of 4: 100%|██████████| 4/4 [00:04<00:00,  1.04s/it]\n",
      "  0%|          | 0/100 [00:00<?, ?it/s]"
     ]
    },
    {
     "name": "stdout",
     "output_type": "stream",
     "text": [
      " Validation Acc:   0.754\n",
      "Validation accuracy improved\n",
      "\n",
      "Epoch 5\n"
     ]
    },
    {
     "name": "stderr",
     "output_type": "stream",
     "text": [
      "batch 99 of 100, loss:   0.620: 100%|██████████| 100/100 [00:09<00:00, 25.08it/s]\n",
      "  0%|          | 0/4 [00:00<?, ?it/s]"
     ]
    },
    {
     "name": "stdout",
     "output_type": "stream",
     "text": [
      "\tTraining Avg. Loss:   0.658\n"
     ]
    },
    {
     "name": "stderr",
     "output_type": "stream",
     "text": [
      "batch 3 of 4: 100%|██████████| 4/4 [00:03<00:00,  1.11it/s]\n",
      "  0%|          | 0/100 [00:00<?, ?it/s]"
     ]
    },
    {
     "name": "stdout",
     "output_type": "stream",
     "text": [
      " Validation Acc:   0.652\n",
      "\n",
      "Epoch 6\n"
     ]
    },
    {
     "name": "stderr",
     "output_type": "stream",
     "text": [
      "batch 99 of 100, loss:   0.080: 100%|██████████| 100/100 [00:09<00:00, 10.39it/s]\n",
      "  0%|          | 0/4 [00:00<?, ?it/s]"
     ]
    },
    {
     "name": "stdout",
     "output_type": "stream",
     "text": [
      "\tTraining Avg. Loss:   0.325\n"
     ]
    },
    {
     "name": "stderr",
     "output_type": "stream",
     "text": [
      "batch 3 of 4: 100%|██████████| 4/4 [00:04<00:00,  1.05s/it]\n",
      "  0%|          | 0/100 [00:00<?, ?it/s]"
     ]
    },
    {
     "name": "stdout",
     "output_type": "stream",
     "text": [
      " Validation Acc:   0.965\n",
      "Validation accuracy improved\n",
      "\n",
      "Epoch 7\n"
     ]
    },
    {
     "name": "stderr",
     "output_type": "stream",
     "text": [
      "batch 99 of 100, loss:   0.019: 100%|██████████| 100/100 [00:09<00:00, 25.00it/s]\n",
      "  0%|          | 0/4 [00:00<?, ?it/s]"
     ]
    },
    {
     "name": "stdout",
     "output_type": "stream",
     "text": [
      "\tTraining Avg. Loss:   0.030\n"
     ]
    },
    {
     "name": "stderr",
     "output_type": "stream",
     "text": [
      "batch 3 of 4: 100%|██████████| 4/4 [00:03<00:00,  1.28it/s]\n",
      "  0%|          | 0/100 [00:00<?, ?it/s]"
     ]
    },
    {
     "name": "stdout",
     "output_type": "stream",
     "text": [
      " Validation Acc:   0.996\n",
      "Validation accuracy improved\n",
      "\n",
      "Epoch 8\n"
     ]
    },
    {
     "name": "stderr",
     "output_type": "stream",
     "text": [
      "batch 99 of 100, loss:   0.003: 100%|██████████| 100/100 [00:09<00:00, 10.96it/s]\n",
      "  0%|          | 0/4 [00:00<?, ?it/s]"
     ]
    },
    {
     "name": "stdout",
     "output_type": "stream",
     "text": [
      "\tTraining Avg. Loss:   0.006\n"
     ]
    },
    {
     "name": "stderr",
     "output_type": "stream",
     "text": [
      "batch 3 of 4: 100%|██████████| 4/4 [00:04<00:00,  1.03s/it]\n",
      "  0%|          | 0/100 [00:00<?, ?it/s]"
     ]
    },
    {
     "name": "stdout",
     "output_type": "stream",
     "text": [
      " Validation Acc:   1.000\n",
      "Validation accuracy improved\n",
      "\n",
      "Epoch 9\n"
     ]
    },
    {
     "name": "stderr",
     "output_type": "stream",
     "text": [
      "batch 99 of 100, loss:   0.002: 100%|██████████| 100/100 [00:10<00:00,  9.91it/s]\n",
      "  0%|          | 0/4 [00:00<?, ?it/s]"
     ]
    },
    {
     "name": "stdout",
     "output_type": "stream",
     "text": [
      "\tTraining Avg. Loss:   0.002\n"
     ]
    },
    {
     "name": "stderr",
     "output_type": "stream",
     "text": [
      "batch 3 of 4: 100%|██████████| 4/4 [00:03<00:00,  1.29it/s]\n",
      "  0%|          | 0/100 [00:00<?, ?it/s]"
     ]
    },
    {
     "name": "stdout",
     "output_type": "stream",
     "text": [
      " Validation Acc:   1.000\n",
      "\n",
      "Epoch 10\n"
     ]
    },
    {
     "name": "stderr",
     "output_type": "stream",
     "text": [
      "batch 99 of 100, loss:   0.001: 100%|██████████| 100/100 [00:10<00:00,  9.98it/s]\n",
      "  0%|          | 0/4 [00:00<?, ?it/s]"
     ]
    },
    {
     "name": "stdout",
     "output_type": "stream",
     "text": [
      "\tTraining Avg. Loss:   0.001\n"
     ]
    },
    {
     "name": "stderr",
     "output_type": "stream",
     "text": [
      "batch 3 of 4: 100%|██████████| 4/4 [00:04<00:00,  1.07s/it]\n",
      "  0%|          | 0/100 [00:00<?, ?it/s]"
     ]
    },
    {
     "name": "stdout",
     "output_type": "stream",
     "text": [
      " Validation Acc:   1.000\n",
      "\n",
      "Epoch 11\n"
     ]
    },
    {
     "name": "stderr",
     "output_type": "stream",
     "text": [
      "batch 99 of 100, loss:   0.001: 100%|██████████| 100/100 [00:10<00:00,  9.81it/s]\n",
      "  0%|          | 0/4 [00:00<?, ?it/s]"
     ]
    },
    {
     "name": "stdout",
     "output_type": "stream",
     "text": [
      "\tTraining Avg. Loss:   0.001\n"
     ]
    },
    {
     "name": "stderr",
     "output_type": "stream",
     "text": [
      "batch 3 of 4: 100%|██████████| 4/4 [00:02<00:00,  1.57it/s]\n",
      "  0%|          | 0/100 [00:00<?, ?it/s]"
     ]
    },
    {
     "name": "stdout",
     "output_type": "stream",
     "text": [
      " Validation Acc:   1.000\n",
      "\n",
      "Epoch 12\n"
     ]
    },
    {
     "name": "stderr",
     "output_type": "stream",
     "text": [
      "batch 99 of 100, loss:   0.001: 100%|██████████| 100/100 [00:09<00:00, 10.00it/s]\n",
      "  0%|          | 0/4 [00:00<?, ?it/s]"
     ]
    },
    {
     "name": "stdout",
     "output_type": "stream",
     "text": [
      "\tTraining Avg. Loss:   0.001\n"
     ]
    },
    {
     "name": "stderr",
     "output_type": "stream",
     "text": [
      "batch 3 of 4: 100%|██████████| 4/4 [00:04<00:00,  1.08s/it]\n",
      "  0%|          | 0/100 [00:00<?, ?it/s]"
     ]
    },
    {
     "name": "stdout",
     "output_type": "stream",
     "text": [
      " Validation Acc:   1.000\n",
      "\n",
      "Epoch 13\n"
     ]
    },
    {
     "name": "stderr",
     "output_type": "stream",
     "text": [
      "batch 99 of 100, loss:   0.001: 100%|██████████| 100/100 [00:09<00:00, 24.73it/s]\n",
      "  0%|          | 0/4 [00:00<?, ?it/s]"
     ]
    },
    {
     "name": "stdout",
     "output_type": "stream",
     "text": [
      "\tTraining Avg. Loss:   0.001\n"
     ]
    },
    {
     "name": "stderr",
     "output_type": "stream",
     "text": [
      "batch 3 of 4: 100%|██████████| 4/4 [00:02<00:00,  1.46it/s]\n",
      "  0%|          | 0/100 [00:00<?, ?it/s]"
     ]
    },
    {
     "name": "stdout",
     "output_type": "stream",
     "text": [
      " Validation Acc:   1.000\n",
      "\n",
      "Epoch 14\n"
     ]
    },
    {
     "name": "stderr",
     "output_type": "stream",
     "text": [
      "batch 99 of 100, loss:   0.001: 100%|██████████| 100/100 [00:10<00:00,  9.69it/s]\n",
      "  0%|          | 0/4 [00:00<?, ?it/s]"
     ]
    },
    {
     "name": "stdout",
     "output_type": "stream",
     "text": [
      "\tTraining Avg. Loss:   0.001\n"
     ]
    },
    {
     "name": "stderr",
     "output_type": "stream",
     "text": [
      "batch 3 of 4: 100%|██████████| 4/4 [00:04<00:00,  1.05s/it]\n",
      "  0%|          | 0/100 [00:00<?, ?it/s]"
     ]
    },
    {
     "name": "stdout",
     "output_type": "stream",
     "text": [
      " Validation Acc:   1.000\n",
      "\n",
      "Epoch 15\n"
     ]
    },
    {
     "name": "stderr",
     "output_type": "stream",
     "text": [
      "batch 99 of 100, loss:   0.001: 100%|██████████| 100/100 [00:09<00:00, 10.31it/s]\n",
      "  0%|          | 0/4 [00:00<?, ?it/s]"
     ]
    },
    {
     "name": "stdout",
     "output_type": "stream",
     "text": [
      "\tTraining Avg. Loss:   0.000\n"
     ]
    },
    {
     "name": "stderr",
     "output_type": "stream",
     "text": [
      "batch 3 of 4: 100%|██████████| 4/4 [00:02<00:00,  1.37it/s]\n",
      "  0%|          | 0/100 [00:00<?, ?it/s]"
     ]
    },
    {
     "name": "stdout",
     "output_type": "stream",
     "text": [
      " Validation Acc:   1.000\n",
      "\n",
      "Epoch 16\n"
     ]
    },
    {
     "name": "stderr",
     "output_type": "stream",
     "text": [
      "batch 99 of 100, loss:   0.001: 100%|██████████| 100/100 [00:09<00:00, 10.47it/s]\n",
      "  0%|          | 0/4 [00:00<?, ?it/s]"
     ]
    },
    {
     "name": "stdout",
     "output_type": "stream",
     "text": [
      "\tTraining Avg. Loss:   0.000\n"
     ]
    },
    {
     "name": "stderr",
     "output_type": "stream",
     "text": [
      "batch 3 of 4: 100%|██████████| 4/4 [00:04<00:00,  1.07s/it]\n",
      "  0%|          | 0/100 [00:00<?, ?it/s]"
     ]
    },
    {
     "name": "stdout",
     "output_type": "stream",
     "text": [
      " Validation Acc:   1.000\n",
      "\n",
      "Epoch 17\n"
     ]
    },
    {
     "name": "stderr",
     "output_type": "stream",
     "text": [
      "batch 99 of 100, loss:   0.000: 100%|██████████| 100/100 [00:09<00:00, 10.15it/s]\n",
      "  0%|          | 0/4 [00:00<?, ?it/s]"
     ]
    },
    {
     "name": "stdout",
     "output_type": "stream",
     "text": [
      "\tTraining Avg. Loss:   0.000\n"
     ]
    },
    {
     "name": "stderr",
     "output_type": "stream",
     "text": [
      "batch 3 of 4: 100%|██████████| 4/4 [00:02<00:00,  1.38it/s]\n",
      "  0%|          | 0/100 [00:00<?, ?it/s]"
     ]
    },
    {
     "name": "stdout",
     "output_type": "stream",
     "text": [
      " Validation Acc:   1.000\n",
      "\n",
      "Epoch 18\n"
     ]
    },
    {
     "name": "stderr",
     "output_type": "stream",
     "text": [
      "batch 99 of 100, loss:   0.000: 100%|██████████| 100/100 [00:09<00:00, 23.18it/s]\n",
      "  0%|          | 0/4 [00:00<?, ?it/s]"
     ]
    },
    {
     "name": "stdout",
     "output_type": "stream",
     "text": [
      "\tTraining Avg. Loss:   0.000\n"
     ]
    },
    {
     "name": "stderr",
     "output_type": "stream",
     "text": [
      "batch 3 of 4: 100%|██████████| 4/4 [00:04<00:00,  1.04s/it]\n",
      "  0%|          | 0/100 [00:00<?, ?it/s]"
     ]
    },
    {
     "name": "stdout",
     "output_type": "stream",
     "text": [
      " Validation Acc:   1.000\n",
      "\n",
      "Epoch 19\n"
     ]
    },
    {
     "name": "stderr",
     "output_type": "stream",
     "text": [
      "batch 99 of 100, loss:   0.000: 100%|██████████| 100/100 [00:09<00:00, 10.12it/s]\n",
      "  0%|          | 0/4 [00:00<?, ?it/s]"
     ]
    },
    {
     "name": "stdout",
     "output_type": "stream",
     "text": [
      "\tTraining Avg. Loss:   0.000\n"
     ]
    },
    {
     "name": "stderr",
     "output_type": "stream",
     "text": [
      "batch 3 of 4: 100%|██████████| 4/4 [00:02<00:00,  1.42it/s]\n",
      "  0%|          | 0/13 [00:00<?, ?it/s]"
     ]
    },
    {
     "name": "stdout",
     "output_type": "stream",
     "text": [
      " Validation Acc:   1.000\n",
      "greater than 10 epochs without improvement in validation accuracy, stopping training\n"
     ]
    },
    {
     "name": "stderr",
     "output_type": "stream",
     "text": [
      "batch 12 of 13: 100%|██████████| 13/13 [00:04<00:00,  2.79it/s]\n"
     ]
    },
    {
     "name": "stdout",
     "output_type": "stream",
     "text": [
      "\taccuracy on test set: 1.0\n"
     ]
    },
    {
     "name": "stderr",
     "output_type": "stream",
     "text": [
      "  0%|          | 0/100 [00:00<?, ?it/s]"
     ]
    },
    {
     "name": "stdout",
     "output_type": "stream",
     "text": [
      "\n",
      "Epoch 1\n"
     ]
    },
    {
     "name": "stderr",
     "output_type": "stream",
     "text": [
      "batch 99 of 100, loss:   0.689: 100%|██████████| 100/100 [00:09<00:00, 24.65it/s]\n",
      "  0%|          | 0/4 [00:00<?, ?it/s]"
     ]
    },
    {
     "name": "stdout",
     "output_type": "stream",
     "text": [
      "\tTraining Avg. Loss:   0.693\n"
     ]
    },
    {
     "name": "stderr",
     "output_type": "stream",
     "text": [
      "batch 3 of 4: 100%|██████████| 4/4 [00:04<00:00,  1.02s/it]\n",
      "  0%|          | 0/100 [00:00<?, ?it/s]"
     ]
    },
    {
     "name": "stdout",
     "output_type": "stream",
     "text": [
      " Validation Acc:   0.609\n",
      "Validation accuracy improved\n",
      "\n",
      "Epoch 2\n"
     ]
    },
    {
     "name": "stderr",
     "output_type": "stream",
     "text": [
      "batch 99 of 100, loss:   0.695: 100%|██████████| 100/100 [00:08<00:00, 11.42it/s]\n",
      "  0%|          | 0/4 [00:00<?, ?it/s]"
     ]
    },
    {
     "name": "stdout",
     "output_type": "stream",
     "text": [
      "\tTraining Avg. Loss:   0.692\n"
     ]
    },
    {
     "name": "stderr",
     "output_type": "stream",
     "text": [
      "batch 3 of 4: 100%|██████████| 4/4 [00:03<00:00,  2.65s/it]\n",
      "  0%|          | 0/100 [00:00<?, ?it/s]"
     ]
    },
    {
     "name": "stdout",
     "output_type": "stream",
     "text": [
      " Validation Acc:   0.621\n",
      "Validation accuracy improved\n",
      "\n",
      "Epoch 3\n"
     ]
    },
    {
     "name": "stderr",
     "output_type": "stream",
     "text": [
      "batch 99 of 100, loss:   0.694: 100%|██████████| 100/100 [00:09<00:00, 10.27it/s]\n",
      "  0%|          | 0/4 [00:00<?, ?it/s]"
     ]
    },
    {
     "name": "stdout",
     "output_type": "stream",
     "text": [
      "\tTraining Avg. Loss:   0.690\n"
     ]
    },
    {
     "name": "stderr",
     "output_type": "stream",
     "text": [
      "batch 3 of 4: 100%|██████████| 4/4 [00:04<00:00,  1.07s/it]\n",
      "  0%|          | 0/100 [00:00<?, ?it/s]"
     ]
    },
    {
     "name": "stdout",
     "output_type": "stream",
     "text": [
      " Validation Acc:   0.422\n",
      "\n",
      "Epoch 4\n"
     ]
    },
    {
     "name": "stderr",
     "output_type": "stream",
     "text": [
      "batch 99 of 100, loss:   0.675: 100%|██████████| 100/100 [00:08<00:00, 11.50it/s]\n",
      "  0%|          | 0/4 [00:00<?, ?it/s]"
     ]
    },
    {
     "name": "stdout",
     "output_type": "stream",
     "text": [
      "\tTraining Avg. Loss:   0.687\n"
     ]
    },
    {
     "name": "stderr",
     "output_type": "stream",
     "text": [
      "batch 3 of 4: 100%|██████████| 4/4 [00:04<00:00,  1.09s/it]\n",
      "  0%|          | 0/100 [00:00<?, ?it/s]"
     ]
    },
    {
     "name": "stdout",
     "output_type": "stream",
     "text": [
      " Validation Acc:   0.508\n",
      "\n",
      "Epoch 5\n"
     ]
    },
    {
     "name": "stderr",
     "output_type": "stream",
     "text": [
      "batch 99 of 100, loss:   0.670: 100%|██████████| 100/100 [00:09<00:00, 24.72it/s]\n",
      "  0%|          | 0/4 [00:00<?, ?it/s]"
     ]
    },
    {
     "name": "stdout",
     "output_type": "stream",
     "text": [
      "\tTraining Avg. Loss:   0.679\n"
     ]
    },
    {
     "name": "stderr",
     "output_type": "stream",
     "text": [
      "batch 3 of 4: 100%|██████████| 4/4 [00:04<00:00,  1.09s/it]\n",
      "  0%|          | 0/100 [00:00<?, ?it/s]"
     ]
    },
    {
     "name": "stdout",
     "output_type": "stream",
     "text": [
      " Validation Acc:   0.562\n",
      "\n",
      "Epoch 6\n"
     ]
    },
    {
     "name": "stderr",
     "output_type": "stream",
     "text": [
      "batch 99 of 100, loss:   0.599: 100%|██████████| 100/100 [00:08<00:00, 11.53it/s]\n",
      "  0%|          | 0/4 [00:00<?, ?it/s]"
     ]
    },
    {
     "name": "stdout",
     "output_type": "stream",
     "text": [
      "\tTraining Avg. Loss:   0.656\n"
     ]
    },
    {
     "name": "stderr",
     "output_type": "stream",
     "text": [
      "batch 3 of 4: 100%|██████████| 4/4 [00:04<00:00,  1.10s/it]\n",
      "  0%|          | 0/100 [00:00<?, ?it/s]"
     ]
    },
    {
     "name": "stdout",
     "output_type": "stream",
     "text": [
      " Validation Acc:   0.738\n",
      "Validation accuracy improved\n",
      "\n",
      "Epoch 7\n"
     ]
    },
    {
     "name": "stderr",
     "output_type": "stream",
     "text": [
      "batch 99 of 100, loss:   0.320: 100%|██████████| 100/100 [00:09<00:00, 10.43it/s]\n",
      "  0%|          | 0/4 [00:00<?, ?it/s]"
     ]
    },
    {
     "name": "stdout",
     "output_type": "stream",
     "text": [
      "\tTraining Avg. Loss:   0.513\n"
     ]
    },
    {
     "name": "stderr",
     "output_type": "stream",
     "text": [
      "batch 3 of 4: 100%|██████████| 4/4 [00:04<00:00,  1.08s/it]\n",
      "  0%|          | 0/100 [00:00<?, ?it/s]"
     ]
    },
    {
     "name": "stdout",
     "output_type": "stream",
     "text": [
      " Validation Acc:   0.934\n",
      "Validation accuracy improved\n",
      "\n",
      "Epoch 8\n"
     ]
    },
    {
     "name": "stderr",
     "output_type": "stream",
     "text": [
      "batch 99 of 100, loss:   0.095: 100%|██████████| 100/100 [00:08<00:00, 11.43it/s]\n",
      "  0%|          | 0/4 [00:00<?, ?it/s]"
     ]
    },
    {
     "name": "stdout",
     "output_type": "stream",
     "text": [
      "\tTraining Avg. Loss:   0.139\n"
     ]
    },
    {
     "name": "stderr",
     "output_type": "stream",
     "text": [
      "batch 3 of 4: 100%|██████████| 4/4 [00:04<00:00,  1.05s/it]\n",
      "  0%|          | 0/100 [00:00<?, ?it/s]"
     ]
    },
    {
     "name": "stdout",
     "output_type": "stream",
     "text": [
      " Validation Acc:   0.988\n",
      "Validation accuracy improved\n",
      "\n",
      "Epoch 9\n"
     ]
    },
    {
     "name": "stderr",
     "output_type": "stream",
     "text": [
      "batch 99 of 100, loss:   0.010: 100%|██████████| 100/100 [00:09<00:00, 24.55it/s]\n",
      "  0%|          | 0/4 [00:00<?, ?it/s]"
     ]
    },
    {
     "name": "stdout",
     "output_type": "stream",
     "text": [
      "\tTraining Avg. Loss:   0.043\n"
     ]
    },
    {
     "name": "stderr",
     "output_type": "stream",
     "text": [
      "batch 3 of 4: 100%|██████████| 4/4 [00:04<00:00,  1.01s/it]\n",
      "  0%|          | 0/100 [00:00<?, ?it/s]"
     ]
    },
    {
     "name": "stdout",
     "output_type": "stream",
     "text": [
      " Validation Acc:   0.992\n",
      "Validation accuracy improved\n",
      "\n",
      "Epoch 10\n"
     ]
    },
    {
     "name": "stderr",
     "output_type": "stream",
     "text": [
      "batch 99 of 100, loss:   0.004: 100%|██████████| 100/100 [00:08<00:00, 11.20it/s]\n",
      "  0%|          | 0/4 [00:00<?, ?it/s]"
     ]
    },
    {
     "name": "stdout",
     "output_type": "stream",
     "text": [
      "\tTraining Avg. Loss:   0.012\n"
     ]
    },
    {
     "name": "stderr",
     "output_type": "stream",
     "text": [
      "batch 3 of 4: 100%|██████████| 4/4 [00:04<00:00,  1.10s/it]\n",
      "  0%|          | 0/100 [00:00<?, ?it/s]"
     ]
    },
    {
     "name": "stdout",
     "output_type": "stream",
     "text": [
      " Validation Acc:   0.996\n",
      "Validation accuracy improved\n",
      "\n",
      "Epoch 11\n"
     ]
    },
    {
     "name": "stderr",
     "output_type": "stream",
     "text": [
      "batch 99 of 100, loss:   0.001: 100%|██████████| 100/100 [00:10<00:00,  9.62it/s]\n",
      "  0%|          | 0/4 [00:00<?, ?it/s]"
     ]
    },
    {
     "name": "stdout",
     "output_type": "stream",
     "text": [
      "\tTraining Avg. Loss:   0.008\n"
     ]
    },
    {
     "name": "stderr",
     "output_type": "stream",
     "text": [
      "batch 3 of 4: 100%|██████████| 4/4 [00:03<00:00,  1.10it/s]\n",
      "  0%|          | 0/100 [00:00<?, ?it/s]"
     ]
    },
    {
     "name": "stdout",
     "output_type": "stream",
     "text": [
      " Validation Acc:   0.992\n",
      "\n",
      "Epoch 12\n"
     ]
    },
    {
     "name": "stderr",
     "output_type": "stream",
     "text": [
      "batch 99 of 100, loss:   0.004: 100%|██████████| 100/100 [00:08<00:00, 24.52it/s]\n",
      "  0%|          | 0/4 [00:00<?, ?it/s]"
     ]
    },
    {
     "name": "stdout",
     "output_type": "stream",
     "text": [
      "\tTraining Avg. Loss:   0.014\n"
     ]
    },
    {
     "name": "stderr",
     "output_type": "stream",
     "text": [
      "batch 3 of 4: 100%|██████████| 4/4 [00:04<00:00,  1.08s/it]\n",
      "  0%|          | 0/100 [00:00<?, ?it/s]"
     ]
    },
    {
     "name": "stdout",
     "output_type": "stream",
     "text": [
      " Validation Acc:   0.992\n",
      "\n",
      "Epoch 13\n"
     ]
    },
    {
     "name": "stderr",
     "output_type": "stream",
     "text": [
      "batch 99 of 100, loss:   0.037: 100%|██████████| 100/100 [00:09<00:00, 24.14it/s]\n",
      "  0%|          | 0/4 [00:00<?, ?it/s]"
     ]
    },
    {
     "name": "stdout",
     "output_type": "stream",
     "text": [
      "\tTraining Avg. Loss:   0.041\n"
     ]
    },
    {
     "name": "stderr",
     "output_type": "stream",
     "text": [
      "batch 3 of 4: 100%|██████████| 4/4 [00:02<00:00,  1.35it/s]\n",
      "  0%|          | 0/100 [00:00<?, ?it/s]"
     ]
    },
    {
     "name": "stdout",
     "output_type": "stream",
     "text": [
      " Validation Acc:   0.980\n",
      "\n",
      "Epoch 14\n"
     ]
    },
    {
     "name": "stderr",
     "output_type": "stream",
     "text": [
      "batch 99 of 100, loss:   0.008: 100%|██████████| 100/100 [00:10<00:00,  9.65it/s]\n",
      "  0%|          | 0/4 [00:00<?, ?it/s]"
     ]
    },
    {
     "name": "stdout",
     "output_type": "stream",
     "text": [
      "\tTraining Avg. Loss:   0.070\n"
     ]
    },
    {
     "name": "stderr",
     "output_type": "stream",
     "text": [
      "batch 3 of 4: 100%|██████████| 4/4 [00:03<00:00,  2.62s/it]\n",
      "  0%|          | 0/100 [00:00<?, ?it/s]"
     ]
    },
    {
     "name": "stdout",
     "output_type": "stream",
     "text": [
      " Validation Acc:   0.996\n",
      "\n",
      "Epoch 15\n"
     ]
    },
    {
     "name": "stderr",
     "output_type": "stream",
     "text": [
      "batch 99 of 100, loss:   0.000: 100%|██████████| 100/100 [00:10<00:00,  9.80it/s]\n",
      "  0%|          | 0/4 [00:00<?, ?it/s]"
     ]
    },
    {
     "name": "stdout",
     "output_type": "stream",
     "text": [
      "\tTraining Avg. Loss:   0.004\n"
     ]
    },
    {
     "name": "stderr",
     "output_type": "stream",
     "text": [
      "batch 3 of 4: 100%|██████████| 4/4 [00:02<00:00,  1.39it/s]\n",
      "  0%|          | 0/100 [00:00<?, ?it/s]"
     ]
    },
    {
     "name": "stdout",
     "output_type": "stream",
     "text": [
      " Validation Acc:   0.996\n",
      "\n",
      "Epoch 16\n"
     ]
    },
    {
     "name": "stderr",
     "output_type": "stream",
     "text": [
      "batch 99 of 100, loss:   0.000: 100%|██████████| 100/100 [00:10<00:00, 10.00it/s]\n",
      "  0%|          | 0/4 [00:00<?, ?it/s]"
     ]
    },
    {
     "name": "stdout",
     "output_type": "stream",
     "text": [
      "\tTraining Avg. Loss:   0.001\n"
     ]
    },
    {
     "name": "stderr",
     "output_type": "stream",
     "text": [
      "batch 3 of 4: 100%|██████████| 4/4 [00:04<00:00,  1.12s/it]\n",
      "  0%|          | 0/100 [00:00<?, ?it/s]"
     ]
    },
    {
     "name": "stdout",
     "output_type": "stream",
     "text": [
      " Validation Acc:   0.996\n",
      "\n",
      "Epoch 17\n"
     ]
    },
    {
     "name": "stderr",
     "output_type": "stream",
     "text": [
      "batch 99 of 100, loss:   0.002: 100%|██████████| 100/100 [00:10<00:00,  9.95it/s]\n",
      "  0%|          | 0/4 [00:00<?, ?it/s]"
     ]
    },
    {
     "name": "stdout",
     "output_type": "stream",
     "text": [
      "\tTraining Avg. Loss:   0.001\n"
     ]
    },
    {
     "name": "stderr",
     "output_type": "stream",
     "text": [
      "batch 3 of 4: 100%|██████████| 4/4 [00:03<00:00,  1.18it/s]\n",
      "  0%|          | 0/100 [00:00<?, ?it/s]"
     ]
    },
    {
     "name": "stdout",
     "output_type": "stream",
     "text": [
      " Validation Acc:   0.996\n",
      "\n",
      "Epoch 18\n"
     ]
    },
    {
     "name": "stderr",
     "output_type": "stream",
     "text": [
      "batch 99 of 100, loss:   0.001: 100%|██████████| 100/100 [00:10<00:00,  9.77it/s]\n",
      "  0%|          | 0/4 [00:00<?, ?it/s]"
     ]
    },
    {
     "name": "stdout",
     "output_type": "stream",
     "text": [
      "\tTraining Avg. Loss:   0.001\n"
     ]
    },
    {
     "name": "stderr",
     "output_type": "stream",
     "text": [
      "batch 3 of 4: 100%|██████████| 4/4 [00:04<00:00,  1.09s/it]\n",
      "  0%|          | 0/100 [00:00<?, ?it/s]"
     ]
    },
    {
     "name": "stdout",
     "output_type": "stream",
     "text": [
      " Validation Acc:   0.996\n",
      "\n",
      "Epoch 19\n"
     ]
    },
    {
     "name": "stderr",
     "output_type": "stream",
     "text": [
      "batch 99 of 100, loss:   0.001: 100%|██████████| 100/100 [00:09<00:00, 10.79it/s]\n",
      "  0%|          | 0/4 [00:00<?, ?it/s]"
     ]
    },
    {
     "name": "stdout",
     "output_type": "stream",
     "text": [
      "\tTraining Avg. Loss:   0.000\n"
     ]
    },
    {
     "name": "stderr",
     "output_type": "stream",
     "text": [
      "batch 3 of 4: 100%|██████████| 4/4 [00:04<00:00,  1.03s/it]\n",
      "  0%|          | 0/100 [00:00<?, ?it/s]"
     ]
    },
    {
     "name": "stdout",
     "output_type": "stream",
     "text": [
      " Validation Acc:   0.996\n",
      "\n",
      "Epoch 20\n"
     ]
    },
    {
     "name": "stderr",
     "output_type": "stream",
     "text": [
      "batch 99 of 100, loss:   0.000: 100%|██████████| 100/100 [00:09<00:00, 10.11it/s]\n",
      "  0%|          | 0/4 [00:00<?, ?it/s]"
     ]
    },
    {
     "name": "stdout",
     "output_type": "stream",
     "text": [
      "\tTraining Avg. Loss:   0.000\n"
     ]
    },
    {
     "name": "stderr",
     "output_type": "stream",
     "text": [
      "batch 3 of 4: 100%|██████████| 4/4 [00:04<00:00,  1.09s/it]\n",
      "  0%|          | 0/100 [00:00<?, ?it/s]"
     ]
    },
    {
     "name": "stdout",
     "output_type": "stream",
     "text": [
      " Validation Acc:   0.996\n",
      "\n",
      "Epoch 21\n"
     ]
    },
    {
     "name": "stderr",
     "output_type": "stream",
     "text": [
      "batch 99 of 100, loss:   0.000: 100%|██████████| 100/100 [00:08<00:00, 11.43it/s]\n",
      "  0%|          | 0/4 [00:00<?, ?it/s]"
     ]
    },
    {
     "name": "stdout",
     "output_type": "stream",
     "text": [
      "\tTraining Avg. Loss:   0.000\n"
     ]
    },
    {
     "name": "stderr",
     "output_type": "stream",
     "text": [
      "batch 3 of 4: 100%|██████████| 4/4 [00:03<00:00,  2.70s/it]\n",
      "  0%|          | 0/13 [00:00<?, ?it/s]"
     ]
    },
    {
     "name": "stdout",
     "output_type": "stream",
     "text": [
      " Validation Acc:   0.996\n",
      "greater than 10 epochs without improvement in validation accuracy, stopping training\n"
     ]
    },
    {
     "name": "stderr",
     "output_type": "stream",
     "text": [
      "batch 12 of 13: 100%|██████████| 13/13 [00:04<00:00,  1.39s/it]"
     ]
    },
    {
     "name": "stdout",
     "output_type": "stream",
     "text": [
      "\taccuracy on test set: 0.9975961538461539\n"
     ]
    },
    {
     "name": "stderr",
     "output_type": "stream",
     "text": [
      "\n"
     ]
    }
   ],
   "source": [
    "for csv_file in csv_files:\n",
    "    csv_file = Path(csv_file)\n",
    "    csv_file = csv_file.expanduser()\n",
    "    model, loss_history = train(csv_file)\n",
    "    acc = test(model, csv_file)\n",
    "    print(f'\\taccuracy on test set: {acc}')"
   ]
  },
  {
   "cell_type": "code",
   "execution_count": null,
   "metadata": {},
   "outputs": [],
   "source": []
  }
 ],
 "metadata": {
  "kernelspec": {
   "display_name": "Python 3",
   "language": "python",
   "name": "python3"
  },
  "language_info": {
   "codemirror_mode": {
    "name": "ipython",
    "version": 3
   },
   "file_extension": ".py",
   "mimetype": "text/x-python",
   "name": "python",
   "nbconvert_exporter": "python",
   "pygments_lexer": "ipython3",
   "version": "3.6.9"
  }
 },
 "nbformat": 4,
 "nbformat_minor": 4
}
