{
 "cells": [
  {
   "cell_type": "code",
   "execution_count": 1,
   "metadata": {},
   "outputs": [],
   "source": [
    "%matplotlib inline\n",
    "from pathlib import Path\n",
    "\n",
    "import joblib\n",
    "import matplotlib.pyplot as plt\n",
    "import pandas as pd\n",
    "\n",
    "import searchnets"
   ]
  },
  {
   "cell_type": "code",
   "execution_count": 2,
   "metadata": {},
   "outputs": [],
   "source": [
    "DATA_ROOT = Path('../../../data')\n",
    "vsd_results_dir = DATA_ROOT.joinpath('results/VSD_alexnet_transfer_lr_1e-03_no_finetune')\n",
    "vsd_cornet_z_results_gz = vsd_results_dir.joinpath('VSD_alexnet_transfer_lr_1e-03_no_finetune_trained_200_epochs_test_results.gz')"
   ]
  },
  {
   "cell_type": "code",
   "execution_count": 3,
   "metadata": {},
   "outputs": [],
   "source": [
    "vsd_split_csv = DATA_ROOT.joinpath('Visual_Search_Difficulty_v1.0/VSD_dataset_split.csv')\n",
    "vsd_df = pd.read_csv(vsd_split_csv)"
   ]
  },
  {
   "cell_type": "code",
   "execution_count": 9,
   "metadata": {},
   "outputs": [
    {
     "data": {
      "text/plain": [
       "Index(['Unnamed: 0', 'img', 'difficulty_score', 'split'], dtype='object')"
      ]
     },
     "execution_count": 9,
     "metadata": {},
     "output_type": "execute_result"
    }
   ],
   "source": [
    "vsd_df.columns"
   ]
  },
  {
   "cell_type": "code",
   "execution_count": 10,
   "metadata": {},
   "outputs": [],
   "source": [
    "vsd_df = vsd_df.drop('Unnamed: 0', axis=1)"
   ]
  },
  {
   "cell_type": "code",
   "execution_count": 13,
   "metadata": {},
   "outputs": [],
   "source": [
    "vsd_df_test = vsd_df[vsd_df['split'] == 'test']"
   ]
  },
  {
   "cell_type": "code",
   "execution_count": 14,
   "metadata": {},
   "outputs": [
    {
     "data": {
      "text/html": [
       "<div>\n",
       "<style scoped>\n",
       "    .dataframe tbody tr th:only-of-type {\n",
       "        vertical-align: middle;\n",
       "    }\n",
       "\n",
       "    .dataframe tbody tr th {\n",
       "        vertical-align: top;\n",
       "    }\n",
       "\n",
       "    .dataframe thead th {\n",
       "        text-align: right;\n",
       "    }\n",
       "</style>\n",
       "<table border=\"1\" class=\"dataframe\">\n",
       "  <thead>\n",
       "    <tr style=\"text-align: right;\">\n",
       "      <th></th>\n",
       "      <th>img</th>\n",
       "      <th>difficulty_score</th>\n",
       "      <th>split</th>\n",
       "    </tr>\n",
       "  </thead>\n",
       "  <tbody>\n",
       "    <tr>\n",
       "      <td>4</td>\n",
       "      <td>2008_000015</td>\n",
       "      <td>3.709118</td>\n",
       "      <td>test</td>\n",
       "    </tr>\n",
       "    <tr>\n",
       "      <td>5</td>\n",
       "      <td>2008_000016</td>\n",
       "      <td>4.000782</td>\n",
       "      <td>test</td>\n",
       "    </tr>\n",
       "    <tr>\n",
       "      <td>8</td>\n",
       "      <td>2008_000023</td>\n",
       "      <td>3.362935</td>\n",
       "      <td>test</td>\n",
       "    </tr>\n",
       "    <tr>\n",
       "      <td>13</td>\n",
       "      <td>2008_000033</td>\n",
       "      <td>3.159318</td>\n",
       "      <td>test</td>\n",
       "    </tr>\n",
       "    <tr>\n",
       "      <td>15</td>\n",
       "      <td>2008_000036</td>\n",
       "      <td>3.364060</td>\n",
       "      <td>test</td>\n",
       "    </tr>\n",
       "  </tbody>\n",
       "</table>\n",
       "</div>"
      ],
      "text/plain": [
       "            img  difficulty_score split\n",
       "4   2008_000015          3.709118  test\n",
       "5   2008_000016          4.000782  test\n",
       "8   2008_000023          3.362935  test\n",
       "13  2008_000033          3.159318  test\n",
       "15  2008_000036          3.364060  test"
      ]
     },
     "execution_count": 14,
     "metadata": {},
     "output_type": "execute_result"
    }
   ],
   "source": [
    "vsd_df_test.head()"
   ]
  },
  {
   "cell_type": "code",
   "execution_count": 16,
   "metadata": {},
   "outputs": [],
   "source": [
    "rd = joblib.load(vsd_cornet_z_results_gz)"
   ]
  },
  {
   "cell_type": "code",
   "execution_count": 10,
   "metadata": {},
   "outputs": [
    {
     "data": {
      "text/plain": [
       "dict_keys([PosixPath('checkpoints/VSD_alexnet_transfer_lr_1e-03_no_finetune/trained_200_epochs/net_number_1/alexnet_trained_200_epochs_number_1'), PosixPath('checkpoints/VSD_alexnet_transfer_lr_1e-03_no_finetune/trained_200_epochs/net_number_2/alexnet_trained_200_epochs_number_2'), PosixPath('checkpoints/VSD_alexnet_transfer_lr_1e-03_no_finetune/trained_200_epochs/net_number_3/alexnet_trained_200_epochs_number_3'), PosixPath('checkpoints/VSD_alexnet_transfer_lr_1e-03_no_finetune/trained_200_epochs/net_number_4/alexnet_trained_200_epochs_number_4'), PosixPath('checkpoints/VSD_alexnet_transfer_lr_1e-03_no_finetune/trained_200_epochs/net_number_5/alexnet_trained_200_epochs_number_5'), PosixPath('checkpoints/VSD_alexnet_transfer_lr_1e-03_no_finetune/trained_200_epochs/net_number_6/alexnet_trained_200_epochs_number_6'), PosixPath('checkpoints/VSD_alexnet_transfer_lr_1e-03_no_finetune/trained_200_epochs/net_number_7/alexnet_trained_200_epochs_number_7'), PosixPath('checkpoints/VSD_alexnet_transfer_lr_1e-03_no_finetune/trained_200_epochs/net_number_8/alexnet_trained_200_epochs_number_8')])"
      ]
     },
     "execution_count": 10,
     "metadata": {},
     "output_type": "execute_result"
    }
   ],
   "source": [
    "rd['predictions_per_model_dict'].keys()"
   ]
  },
  {
   "cell_type": "code",
   "execution_count": 11,
   "metadata": {},
   "outputs": [
    {
     "data": {
      "text/plain": [
       "dict_keys(['predictions_per_model_dict', 'acc_per_model_dict', 'acc_per_model', 'img_names_per_model_dict'])"
      ]
     },
     "execution_count": 11,
     "metadata": {},
     "output_type": "execute_result"
    }
   ],
   "source": [
    "rd.keys()"
   ]
  },
  {
   "cell_type": "code",
   "execution_count": 17,
   "metadata": {},
   "outputs": [],
   "source": [
    "model_keys = list(rd['img_names_per_model_dict'].keys())"
   ]
  },
  {
   "cell_type": "code",
   "execution_count": 25,
   "metadata": {},
   "outputs": [
    {
     "data": {
      "text/plain": [
       "array([0., 0., 0., 0., 0., 0., 0., 0., 0., 0., 0., 0., 0., 0., 0., 0., 0.,\n",
       "       0., 0., 0.], dtype=float32)"
      ]
     },
     "execution_count": 25,
     "metadata": {},
     "output_type": "execute_result"
    }
   ],
   "source": [
    "rd['predictions_per_model_dict'][model_keys[0]][6]"
   ]
  },
  {
   "cell_type": "code",
   "execution_count": null,
   "metadata": {},
   "outputs": [],
   "source": []
  }
 ],
 "metadata": {
  "kernelspec": {
   "display_name": "Python 3",
   "language": "python",
   "name": "python3"
  },
  "language_info": {
   "codemirror_mode": {
    "name": "ipython",
    "version": 3
   },
   "file_extension": ".py",
   "mimetype": "text/x-python",
   "name": "python",
   "nbconvert_exporter": "python",
   "pygments_lexer": "ipython3",
   "version": "3.6.9"
  }
 },
 "nbformat": 4,
 "nbformat_minor": 4
}
