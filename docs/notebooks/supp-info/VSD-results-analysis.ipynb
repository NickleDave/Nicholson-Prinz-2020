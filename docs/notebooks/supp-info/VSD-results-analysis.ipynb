{
 "cells": [
  {
   "cell_type": "code",
   "execution_count": 1,
   "metadata": {},
   "outputs": [],
   "source": [
    "from pathlib import Path\n",
    "\n",
    "import joblib\n",
    "import pandas as pd\n",
    "\n",
    "import searchnets"
   ]
  },
  {
   "cell_type": "code",
   "execution_count": 2,
   "metadata": {},
   "outputs": [],
   "source": [
    "DATA_ROOT = Path('../../../data')\n",
    "vsd_results_dir = DATA_ROOT.joinpath('results/VSD_alexnet_Z_transfer_lr_1e-03_no_finetune')\n",
    "vsd_cornet_z_results_gz = vsd_results_dir.joinpath('VSD_alexnet_Z_transfer_lr_1e-03_no_finetune_trained_200_epochs_test_results.gz')"
   ]
  },
  {
   "cell_type": "code",
   "execution_count": 3,
   "metadata": {},
   "outputs": [
    {
     "ename": "FileNotFoundError",
     "evalue": "[Errno 2] No such file or directory: '../../../data/results/VSD_alexnet_Z_transfer_lr_1e-03_no_finetune/VSD_alexnet_Z_transfer_lr_1e-03_no_finetune_trained_200_epochs_test_results.gz'",
     "output_type": "error",
     "traceback": [
      "\u001b[0;31m---------------------------------------------------------------------------\u001b[0m",
      "\u001b[0;31mFileNotFoundError\u001b[0m                         Traceback (most recent call last)",
      "\u001b[0;32m<ipython-input-3-b8a0890a2151>\u001b[0m in \u001b[0;36m<module>\u001b[0;34m\u001b[0m\n\u001b[0;32m----> 1\u001b[0;31m \u001b[0mrd\u001b[0m \u001b[0;34m=\u001b[0m \u001b[0mjoblib\u001b[0m\u001b[0;34m.\u001b[0m\u001b[0mload\u001b[0m\u001b[0;34m(\u001b[0m\u001b[0mvsd_cornet_z_results_gz\u001b[0m\u001b[0;34m)\u001b[0m\u001b[0;34m\u001b[0m\u001b[0;34m\u001b[0m\u001b[0m\n\u001b[0m",
      "\u001b[0;32m~/anaconda3/envs/searchnets-torch/lib/python3.6/site-packages/joblib/numpy_pickle.py\u001b[0m in \u001b[0;36mload\u001b[0;34m(filename, mmap_mode)\u001b[0m\n\u001b[1;32m    588\u001b[0m             \u001b[0mobj\u001b[0m \u001b[0;34m=\u001b[0m \u001b[0m_unpickle\u001b[0m\u001b[0;34m(\u001b[0m\u001b[0mfobj\u001b[0m\u001b[0;34m)\u001b[0m\u001b[0;34m\u001b[0m\u001b[0;34m\u001b[0m\u001b[0m\n\u001b[1;32m    589\u001b[0m     \u001b[0;32melse\u001b[0m\u001b[0;34m:\u001b[0m\u001b[0;34m\u001b[0m\u001b[0;34m\u001b[0m\u001b[0m\n\u001b[0;32m--> 590\u001b[0;31m         \u001b[0;32mwith\u001b[0m \u001b[0mopen\u001b[0m\u001b[0;34m(\u001b[0m\u001b[0mfilename\u001b[0m\u001b[0;34m,\u001b[0m \u001b[0;34m'rb'\u001b[0m\u001b[0;34m)\u001b[0m \u001b[0;32mas\u001b[0m \u001b[0mf\u001b[0m\u001b[0;34m:\u001b[0m\u001b[0;34m\u001b[0m\u001b[0;34m\u001b[0m\u001b[0m\n\u001b[0m\u001b[1;32m    591\u001b[0m             \u001b[0;32mwith\u001b[0m \u001b[0m_read_fileobject\u001b[0m\u001b[0;34m(\u001b[0m\u001b[0mf\u001b[0m\u001b[0;34m,\u001b[0m \u001b[0mfilename\u001b[0m\u001b[0;34m,\u001b[0m \u001b[0mmmap_mode\u001b[0m\u001b[0;34m)\u001b[0m \u001b[0;32mas\u001b[0m \u001b[0mfobj\u001b[0m\u001b[0;34m:\u001b[0m\u001b[0;34m\u001b[0m\u001b[0;34m\u001b[0m\u001b[0m\n\u001b[1;32m    592\u001b[0m                 \u001b[0;32mif\u001b[0m \u001b[0misinstance\u001b[0m\u001b[0;34m(\u001b[0m\u001b[0mfobj\u001b[0m\u001b[0;34m,\u001b[0m \u001b[0m_basestring\u001b[0m\u001b[0;34m)\u001b[0m\u001b[0;34m:\u001b[0m\u001b[0;34m\u001b[0m\u001b[0;34m\u001b[0m\u001b[0m\n",
      "\u001b[0;31mFileNotFoundError\u001b[0m: [Errno 2] No such file or directory: '../../../data/results/VSD_alexnet_Z_transfer_lr_1e-03_no_finetune/VSD_alexnet_Z_transfer_lr_1e-03_no_finetune_trained_200_epochs_test_results.gz'"
     ]
    }
   ],
   "source": [
    "rd = joblib.load(vsd_cornet_z_results_gz)"
   ]
  },
  {
   "cell_type": "code",
   "execution_count": 4,
   "metadata": {},
   "outputs": [
    {
     "data": {
      "text/plain": [
       "array([0.37737772, 0.40523098, 0.40794837, 0.38722826, 0.38009511,\n",
       "       0.38824728, 0.39504076, 0.40115489])"
      ]
     },
     "execution_count": 4,
     "metadata": {},
     "output_type": "execute_result"
    }
   ],
   "source": [
    "rd['acc_per_model']"
   ]
  },
  {
   "cell_type": "code",
   "execution_count": 5,
   "metadata": {},
   "outputs": [
    {
     "data": {
      "text/plain": [
       "dict_keys([PosixPath('checkpoints/VSD_CORnet_Z_transfer_lr_1e-03_no_finetune/trained_200_epochs/net_number_1/CORnet_Z_trained_200_epochs_number_1'), PosixPath('checkpoints/VSD_CORnet_Z_transfer_lr_1e-03_no_finetune/trained_200_epochs/net_number_2/CORnet_Z_trained_200_epochs_number_2'), PosixPath('checkpoints/VSD_CORnet_Z_transfer_lr_1e-03_no_finetune/trained_200_epochs/net_number_3/CORnet_Z_trained_200_epochs_number_3'), PosixPath('checkpoints/VSD_CORnet_Z_transfer_lr_1e-03_no_finetune/trained_200_epochs/net_number_4/CORnet_Z_trained_200_epochs_number_4'), PosixPath('checkpoints/VSD_CORnet_Z_transfer_lr_1e-03_no_finetune/trained_200_epochs/net_number_5/CORnet_Z_trained_200_epochs_number_5'), PosixPath('checkpoints/VSD_CORnet_Z_transfer_lr_1e-03_no_finetune/trained_200_epochs/net_number_6/CORnet_Z_trained_200_epochs_number_6'), PosixPath('checkpoints/VSD_CORnet_Z_transfer_lr_1e-03_no_finetune/trained_200_epochs/net_number_7/CORnet_Z_trained_200_epochs_number_7'), PosixPath('checkpoints/VSD_CORnet_Z_transfer_lr_1e-03_no_finetune/trained_200_epochs/net_number_8/CORnet_Z_trained_200_epochs_number_8')])"
      ]
     },
     "execution_count": 5,
     "metadata": {},
     "output_type": "execute_result"
    }
   ],
   "source": [
    "rd['predictions_per_model_dict'].keys()"
   ]
  },
  {
   "cell_type": "code",
   "execution_count": 6,
   "metadata": {},
   "outputs": [
    {
     "data": {
      "text/plain": [
       "dict_keys(['predictions_per_model_dict', 'acc_per_model_dict', 'acc_per_model', 'img_names_per_model_dict'])"
      ]
     },
     "execution_count": 6,
     "metadata": {},
     "output_type": "execute_result"
    }
   ],
   "source": [
    "rd.keys()"
   ]
  },
  {
   "cell_type": "code",
   "execution_count": 10,
   "metadata": {},
   "outputs": [],
   "source": [
    "model_keys = list(rd['img_names_per_model_dict'].keys())"
   ]
  },
  {
   "cell_type": "code",
   "execution_count": 12,
   "metadata": {},
   "outputs": [
    {
     "data": {
      "text/plain": [
       "array([14,  8, 14, ..., 14, 14,  0])"
      ]
     },
     "execution_count": 12,
     "metadata": {},
     "output_type": "execute_result"
    }
   ],
   "source": [
    "rd['predictions_per_model_dict'][model_keys[0]]"
   ]
  },
  {
   "cell_type": "code",
   "execution_count": null,
   "metadata": {},
   "outputs": [],
   "source": []
  }
 ],
 "metadata": {
  "kernelspec": {
   "display_name": "Python 3",
   "language": "python",
   "name": "python3"
  },
  "language_info": {
   "codemirror_mode": {
    "name": "ipython",
    "version": 3
   },
   "file_extension": ".py",
   "mimetype": "text/x-python",
   "name": "python",
   "nbconvert_exporter": "python",
   "pygments_lexer": "ipython3",
   "version": "3.6.9"
  }
 },
 "nbformat": 4,
 "nbformat_minor": 4
}
