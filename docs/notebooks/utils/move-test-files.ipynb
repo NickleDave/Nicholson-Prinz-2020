{
 "cells": [
  {
   "cell_type": "code",
   "execution_count": 1,
   "metadata": {},
   "outputs": [
    {
     "data": {
      "text/plain": [
       "'/home/bart/Documents/repos/L2M/visual-search-nets/docs/notebooks'"
      ]
     },
     "execution_count": 1,
     "metadata": {},
     "output_type": "execute_result"
    }
   ],
   "source": [
    "pwd"
   ]
  },
  {
   "cell_type": "code",
   "execution_count": 2,
   "metadata": {},
   "outputs": [
    {
     "name": "stdout",
     "output_type": "stream",
     "text": [
      "/home/bart/Documents/repos/L2M/visual-search-nets\n"
     ]
    }
   ],
   "source": [
    "cd ../.."
   ]
  },
  {
   "cell_type": "code",
   "execution_count": 3,
   "metadata": {},
   "outputs": [
    {
     "name": "stdout",
     "output_type": "stream",
     "text": [
      "/home/bart/Documents/repos/L2M/visual-search-nets/data\n"
     ]
    }
   ],
   "source": [
    "cd data"
   ]
  },
  {
   "cell_type": "code",
   "execution_count": 4,
   "metadata": {},
   "outputs": [
    {
     "name": "stdout",
     "output_type": "stream",
     "text": [
      "\u001b[0m\u001b[01;34mcheckpoints\u001b[0m/          runall_alexnet_finetune.sh\n",
      "\u001b[01;34mconfigs\u001b[0m/              runall_alexnet_learncurve.sh\n",
      "\u001b[01;34mdata_prepd_for_nets\u001b[0m/  runall_alexnet_train.sh\n",
      "\u001b[01;34mfor_figshare\u001b[0m/         runall_VGG16_finetune.sh\n",
      "\u001b[01;34mneural_net_weights\u001b[0m/   runall_VGG16_learncurve_2_v_5.sh\n",
      "\u001b[01;34mresults\u001b[0m/              \u001b[01;34mvisual_search_stimuli\u001b[0m/\n"
     ]
    }
   ],
   "source": [
    "ls"
   ]
  },
  {
   "cell_type": "code",
   "execution_count": 5,
   "metadata": {},
   "outputs": [
    {
     "name": "stdout",
     "output_type": "stream",
     "text": [
      "/home/bart/Documents/repos/L2M/visual-search-nets/data/data_prepd_for_nets\n"
     ]
    }
   ],
   "source": [
    "cd data_prepd_for_nets/\n"
   ]
  },
  {
   "cell_type": "code",
   "execution_count": 6,
   "metadata": {},
   "outputs": [
    {
     "name": "stdout",
     "output_type": "stream",
     "text": [
      "\u001b[0m\u001b[01;31malexnet_finetune_2_v_5_data.gz\u001b[0m      \u001b[01;31malexnet_train_2_v_5_data.gz\u001b[0m\n",
      "\u001b[01;31malexnet_finetune_RVvGV_data.gz\u001b[0m      \u001b[01;31malexnet_train_RVvGV_data.gz\u001b[0m\n",
      "\u001b[01;31malexnet_finetune_RVvRHGV_data.gz\u001b[0m    \u001b[01;31malexnet_train_RVvRHGV_data.gz\u001b[0m\n",
      "\u001b[01;31malexnet_learncurve_2_v_5_data.gz\u001b[0m    \u001b[01;31mVGG16_finetune_2_v_5_data.gz\u001b[0m\n",
      "\u001b[01;31malexnet_learncurve_RVvGV_data.gz\u001b[0m    \u001b[01;31mVGG16_finetune_RVvGV_data.gz\u001b[0m\n",
      "\u001b[01;31malexnet_learncurve_RVvRHGV_data.gz\u001b[0m  \u001b[01;31mVGG16_finetune_RVvRHGV_data.gz\u001b[0m\n",
      "\u001b[01;31malexnet_multiple_stims_data.gz\u001b[0m      \u001b[01;31mVGG16_learncurve_2_v_5_data.gz\u001b[0m\n",
      "\u001b[01;31malexnet_RVvGV_RVvRHGV_2v5_data.gz\u001b[0m   \u001b[01;31mVGG16_RVvGV_RVvRHGV_2v5_data.gz\u001b[0m\n",
      "\u001b[01;31malexnet_RVvGV_RVvRHV_2v5_data.gz\u001b[0m\n"
     ]
    }
   ],
   "source": [
    "ls"
   ]
  },
  {
   "cell_type": "code",
   "execution_count": 22,
   "metadata": {},
   "outputs": [],
   "source": [
    "import os\n",
    "from pathlib import Path\n",
    "\n",
    "import joblib"
   ]
  },
  {
   "cell_type": "code",
   "execution_count": 8,
   "metadata": {},
   "outputs": [],
   "source": [
    "dd = joblib.load('alexnet_RVvGV_RVvRHGV_2v5_data.gz')"
   ]
  },
  {
   "cell_type": "code",
   "execution_count": 9,
   "metadata": {},
   "outputs": [
    {
     "data": {
      "text/plain": [
       "dict_keys(['x_train', 'y_train', 'x_val', 'y_val', 'x_test', 'y_test', 'set_size_vec_train', 'set_size_vec_val', 'set_size_vec_test', 'set_sizes_by_stim_type', 'stim_type_vec_train', 'stim_type_vec_val', 'stim_type_vec_test', 'shard_train', 'shard_size'])"
      ]
     },
     "execution_count": 9,
     "metadata": {},
     "output_type": "execute_result"
    }
   ],
   "source": [
    "dd.keys()"
   ]
  },
  {
   "cell_type": "code",
   "execution_count": 10,
   "metadata": {},
   "outputs": [],
   "source": [
    "import shutil"
   ]
  },
  {
   "cell_type": "code",
   "execution_count": 11,
   "metadata": {},
   "outputs": [],
   "source": [
    "dst = '/media/bart/Seagate Expansion Drive/visual-search-nets-backups/data-2019-06-04/visual_search_stimuli/x_test_alexnet_RVvGV_RVvRHGV_2v5'"
   ]
  },
  {
   "cell_type": "code",
   "execution_count": 13,
   "metadata": {},
   "outputs": [],
   "source": [
    "x_test = dd['x_test']"
   ]
  },
  {
   "cell_type": "code",
   "execution_count": 15,
   "metadata": {},
   "outputs": [
    {
     "data": {
      "text/plain": [
       "PosixPath('/home/bart/Documents/repos/L2M/visual_search_stimuli/alexnet_multiple_stims/RVvGV/1/present')"
      ]
     },
     "execution_count": 15,
     "metadata": {},
     "output_type": "execute_result"
    }
   ],
   "source": [
    "Path(x_test[0]).parent"
   ]
  },
  {
   "cell_type": "code",
   "execution_count": 16,
   "metadata": {},
   "outputs": [],
   "source": [
    "root = Path('/home/bart/Documents/repos/L2M/visual_search_stimuli/alexnet_multiple_stims')"
   ]
  },
  {
   "cell_type": "code",
   "execution_count": 24,
   "metadata": {},
   "outputs": [
    {
     "name": "stdout",
     "output_type": "stream",
     "text": [
      "/home/bart/Documents/repos/L2M/visual_search_stimuli/alexnet_multiple_stims/RVvGV/1\n",
      "True\n",
      "/home/bart/Documents/repos/L2M/visual_search_stimuli/alexnet_multiple_stims/RVvGV/2\n",
      "True\n",
      "/home/bart/Documents/repos/L2M/visual_search_stimuli/alexnet_multiple_stims/RVvGV/4\n",
      "True\n",
      "/home/bart/Documents/repos/L2M/visual_search_stimuli/alexnet_multiple_stims/RVvGV/8\n",
      "True\n",
      "/home/bart/Documents/repos/L2M/visual_search_stimuli/alexnet_multiple_stims/RVvRHGV/1\n",
      "True\n",
      "/home/bart/Documents/repos/L2M/visual_search_stimuli/alexnet_multiple_stims/RVvRHGV/2\n",
      "True\n",
      "/home/bart/Documents/repos/L2M/visual_search_stimuli/alexnet_multiple_stims/RVvRHGV/4\n",
      "True\n",
      "/home/bart/Documents/repos/L2M/visual_search_stimuli/alexnet_multiple_stims/RVvRHGV/8\n",
      "True\n",
      "/home/bart/Documents/repos/L2M/visual_search_stimuli/alexnet_multiple_stims/2_v_5/1\n",
      "True\n",
      "/home/bart/Documents/repos/L2M/visual_search_stimuli/alexnet_multiple_stims/2_v_5/2\n",
      "True\n",
      "/home/bart/Documents/repos/L2M/visual_search_stimuli/alexnet_multiple_stims/2_v_5/4\n",
      "True\n",
      "/home/bart/Documents/repos/L2M/visual_search_stimuli/alexnet_multiple_stims/2_v_5/8\n",
      "True\n"
     ]
    }
   ],
   "source": [
    "for stim in ['RVvGV', 'RVvRHGV', '2_v_5']:\n",
    "    for set_size in [1, 2, 4, 8]:\n",
    "        src_path = root.joinpath(stim, str(set_size))\n",
    "        dst_path = dst.joinpath(stim, str(set_size))\n",
    "        os.makedirs(dst_path, exist_ok=True)\n",
    "        to_copy = []\n",
    "        for src in to_copy\n",
    "            shutil.copy(src, dst_path)"
   ]
  },
  {
   "cell_type": "code",
   "execution_count": null,
   "metadata": {},
   "outputs": [],
   "source": []
  }
 ],
 "metadata": {
  "kernelspec": {
   "display_name": "Python 3",
   "language": "python",
   "name": "python3"
  },
  "language_info": {
   "codemirror_mode": {
    "name": "ipython",
    "version": 3
   },
   "file_extension": ".py",
   "mimetype": "text/x-python",
   "name": "python",
   "nbconvert_exporter": "python",
   "pygments_lexer": "ipython3",
   "version": "3.6.8"
  }
 },
 "nbformat": 4,
 "nbformat_minor": 2
}
