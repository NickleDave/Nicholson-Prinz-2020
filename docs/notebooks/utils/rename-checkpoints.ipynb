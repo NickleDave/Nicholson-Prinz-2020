{
 "cells": [
  {
   "cell_type": "code",
   "execution_count": 3,
   "metadata": {},
   "outputs": [],
   "source": [
    "import os\n",
    "from pathlib import Path\n",
    "import shutil"
   ]
  },
  {
   "cell_type": "code",
   "execution_count": 58,
   "metadata": {},
   "outputs": [],
   "source": [
    "def rename_ckpts_and_acc_by_epoch(root, old_min=0, new_min=5, dry_run=True):\n",
    "    # change names of checkpoint directories\n",
    "    ckpt_dirs = list(root.glob('trained_*_epochs'))\n",
    "    if ckpt_dirs:\n",
    "        for ckpt_dir in ckpt_dirs:\n",
    "            nets = sorted(list(ckpt_dir.glob('net_number_*')))\n",
    "            numnets = len(nets)\n",
    "            first_net = str(nets[0])\n",
    "            if first_net[-1] != str(old_min):\n",
    "                raise ValueError(\n",
    "                    f'number of first directory after sorting, {first_net[-1]}, does not match minimum, {old_min}'\n",
    "                )\n",
    "            for ind, source in enumerate(nets):\n",
    "                src_str = str(source)\n",
    "                dst_str = src_str[:-1] + str(new_min + ind)\n",
    "                destination = Path(dst_str)\n",
    "                if not destination.exists():\n",
    "                    print(source.parent.name + '/' + source.name, '->', destination.parent.name + '/' + destination.name)\n",
    "                    if not dry_run:\n",
    "                        source.replace(destination)\n",
    "                else:\n",
    "                    raise ValueError(f'destination already exists: {destination}')\n",
    "\n",
    "    # change names of acc_by_epoch_by_set_size\n",
    "    acc_by_epoch_dirs = list(root.glob('acc_by_epoch_by_set_size'))\n",
    "    if acc_by_epoch_dirs:\n",
    "        for acc_by_epoch_dir in acc_by_epoch_dirs:\n",
    "            txt_files = sorted(list(acc_by_epoch_dir.glob('*number_*.txt')))\n",
    "            for ind, source in enumerate(txt_files):\n",
    "                src_name_str = str(source.name)\n",
    "                this_old_min = f'number_{str(old_min + ind)}'\n",
    "                if this_old_min in src_name_str:\n",
    "                    dst_name_str = src_name_str.replace(this_old_min, f'number_{str(new_min + ind)}')\n",
    "                else:\n",
    "                    raise ValueError(f\"don't find value {this_old_min} in .txt file name: {src_name_str}\")\n",
    "                destination = source.parent.joinpath(dst_name_str)\n",
    "                \n",
    "                if not destination.exists():\n",
    "                    print(source.parent.name + '/' + source.name, '->', destination.parent.name + '/' + destination.name)\n",
    "                    if not dry_run:\n",
    "                        source.replace(destination)\n",
    "                else:\n",
    "                    raise ValueError(f'destination already exists: {destination}')"
   ]
  },
  {
   "cell_type": "code",
   "execution_count": 15,
   "metadata": {},
   "outputs": [
    {
     "name": "stdout",
     "output_type": "stream",
     "text": [
      "/home/bart/Documents/repos/L2M/visual-search-nets/data/expt_14_rerun_finetune_copy/checkpoints\n"
     ]
    }
   ],
   "source": [
    "cd /home/bart/Documents/repos/L2M/visual-search-nets/data/expt_14_rerun_finetune_copy/checkpoints/"
   ]
  },
  {
   "cell_type": "code",
   "execution_count": 39,
   "metadata": {},
   "outputs": [],
   "source": [
    "a_root = Path(os.getcwd()).joinpath('alexnet_finetune_RVvGV')"
   ]
  },
  {
   "cell_type": "code",
   "execution_count": 43,
   "metadata": {},
   "outputs": [
    {
     "name": "stdout",
     "output_type": "stream",
     "text": [
      "> <ipython-input-42-fc48f7101036>(4)rename_ckpts_and_acc_by_epoch()\n",
      "-> ckpt_dirs = list(root.glob('trained_*_epochs'))\n"
     ]
    },
    {
     "name": "stdin",
     "output_type": "stream",
     "text": [
      "(Pdb)  n\n"
     ]
    },
    {
     "name": "stdout",
     "output_type": "stream",
     "text": [
      "> <ipython-input-42-fc48f7101036>(5)rename_ckpts_and_acc_by_epoch()\n",
      "-> if ckpt_dirs:\n"
     ]
    },
    {
     "name": "stdin",
     "output_type": "stream",
     "text": [
      "(Pdb)  ckpt_dirs\n"
     ]
    },
    {
     "name": "stdout",
     "output_type": "stream",
     "text": [
      "[PosixPath('/home/bart/Documents/repos/L2M/visual-search-nets/data/expt_14_rerun_finetune_copy/checkpoints/alexnet_finetune_RVvGV/trained_200_epochs')]\n"
     ]
    },
    {
     "name": "stdin",
     "output_type": "stream",
     "text": [
      "(Pdb)  n\n"
     ]
    },
    {
     "name": "stdout",
     "output_type": "stream",
     "text": [
      "> <ipython-input-42-fc48f7101036>(6)rename_ckpts_and_acc_by_epoch()\n",
      "-> for ckpt_dir in ckpt_dirs:\n"
     ]
    },
    {
     "name": "stdin",
     "output_type": "stream",
     "text": [
      "(Pdb)  n\n"
     ]
    },
    {
     "name": "stdout",
     "output_type": "stream",
     "text": [
      "> <ipython-input-42-fc48f7101036>(7)rename_ckpts_and_acc_by_epoch()\n",
      "-> nets = sorted(list(ckpt_dir.glob('net_number_*')))\n"
     ]
    },
    {
     "name": "stdin",
     "output_type": "stream",
     "text": [
      "(Pdb)  n\n"
     ]
    },
    {
     "name": "stdout",
     "output_type": "stream",
     "text": [
      "> <ipython-input-42-fc48f7101036>(8)rename_ckpts_and_acc_by_epoch()\n",
      "-> numnets = len(nets)\n"
     ]
    },
    {
     "name": "stdin",
     "output_type": "stream",
     "text": [
      "(Pdb)  nets\n"
     ]
    },
    {
     "name": "stdout",
     "output_type": "stream",
     "text": [
      "[PosixPath('/home/bart/Documents/repos/L2M/visual-search-nets/data/expt_14_rerun_finetune_copy/checkpoints/alexnet_finetune_RVvGV/trained_200_epochs/net_number_5'), PosixPath('/home/bart/Documents/repos/L2M/visual-search-nets/data/expt_14_rerun_finetune_copy/checkpoints/alexnet_finetune_RVvGV/trained_200_epochs/net_number_6'), PosixPath('/home/bart/Documents/repos/L2M/visual-search-nets/data/expt_14_rerun_finetune_copy/checkpoints/alexnet_finetune_RVvGV/trained_200_epochs/net_number_7'), PosixPath('/home/bart/Documents/repos/L2M/visual-search-nets/data/expt_14_rerun_finetune_copy/checkpoints/alexnet_finetune_RVvGV/trained_200_epochs/net_number_8')]\n"
     ]
    },
    {
     "name": "stdin",
     "output_type": "stream",
     "text": [
      "(Pdb)  q\n"
     ]
    },
    {
     "ename": "BdbQuit",
     "evalue": "",
     "output_type": "error",
     "traceback": [
      "\u001b[0;31m---------------------------------------------------------------------------\u001b[0m",
      "\u001b[0;31mBdbQuit\u001b[0m                                   Traceback (most recent call last)",
      "\u001b[0;32m<ipython-input-43-7c5b9f9b4eb9>\u001b[0m in \u001b[0;36m<module>\u001b[0;34m\u001b[0m\n\u001b[0;32m----> 1\u001b[0;31m \u001b[0mrename_ckpts_and_acc_by_epoch\u001b[0m\u001b[0;34m(\u001b[0m\u001b[0ma_root\u001b[0m\u001b[0;34m,\u001b[0m \u001b[0mold_min\u001b[0m\u001b[0;34m=\u001b[0m\u001b[0;36m0\u001b[0m\u001b[0;34m,\u001b[0m \u001b[0mnew_min\u001b[0m\u001b[0;34m=\u001b[0m\u001b[0;36m5\u001b[0m\u001b[0;34m,\u001b[0m \u001b[0mdry_run\u001b[0m\u001b[0;34m=\u001b[0m\u001b[0;32mFalse\u001b[0m\u001b[0;34m)\u001b[0m\u001b[0;34m\u001b[0m\u001b[0;34m\u001b[0m\u001b[0m\n\u001b[0m",
      "\u001b[0;32m<ipython-input-42-fc48f7101036>\u001b[0m in \u001b[0;36mrename_ckpts_and_acc_by_epoch\u001b[0;34m(root, old_min, new_min, dry_run)\u001b[0m\n\u001b[1;32m      6\u001b[0m         \u001b[0;32mfor\u001b[0m \u001b[0mckpt_dir\u001b[0m \u001b[0;32min\u001b[0m \u001b[0mckpt_dirs\u001b[0m\u001b[0;34m:\u001b[0m\u001b[0;34m\u001b[0m\u001b[0;34m\u001b[0m\u001b[0m\n\u001b[1;32m      7\u001b[0m             \u001b[0mnets\u001b[0m \u001b[0;34m=\u001b[0m \u001b[0msorted\u001b[0m\u001b[0;34m(\u001b[0m\u001b[0mlist\u001b[0m\u001b[0;34m(\u001b[0m\u001b[0mckpt_dir\u001b[0m\u001b[0;34m.\u001b[0m\u001b[0mglob\u001b[0m\u001b[0;34m(\u001b[0m\u001b[0;34m'net_number_*'\u001b[0m\u001b[0;34m)\u001b[0m\u001b[0;34m)\u001b[0m\u001b[0;34m)\u001b[0m\u001b[0;34m\u001b[0m\u001b[0;34m\u001b[0m\u001b[0m\n\u001b[0;32m----> 8\u001b[0;31m             \u001b[0mnumnets\u001b[0m \u001b[0;34m=\u001b[0m \u001b[0mlen\u001b[0m\u001b[0;34m(\u001b[0m\u001b[0mnets\u001b[0m\u001b[0;34m)\u001b[0m\u001b[0;34m\u001b[0m\u001b[0;34m\u001b[0m\u001b[0m\n\u001b[0m\u001b[1;32m      9\u001b[0m             \u001b[0mfirst_net\u001b[0m \u001b[0;34m=\u001b[0m \u001b[0mstr\u001b[0m\u001b[0;34m(\u001b[0m\u001b[0mnets\u001b[0m\u001b[0;34m[\u001b[0m\u001b[0;36m0\u001b[0m\u001b[0;34m]\u001b[0m\u001b[0;34m)\u001b[0m\u001b[0;34m\u001b[0m\u001b[0;34m\u001b[0m\u001b[0m\n\u001b[1;32m     10\u001b[0m             \u001b[0;32mif\u001b[0m \u001b[0mfirst_net\u001b[0m\u001b[0;34m[\u001b[0m\u001b[0;34m-\u001b[0m\u001b[0;36m1\u001b[0m\u001b[0;34m]\u001b[0m \u001b[0;34m!=\u001b[0m \u001b[0mstr\u001b[0m\u001b[0;34m(\u001b[0m\u001b[0mold_min\u001b[0m\u001b[0;34m)\u001b[0m\u001b[0;34m:\u001b[0m\u001b[0;34m\u001b[0m\u001b[0;34m\u001b[0m\u001b[0m\n",
      "\u001b[0;32m<ipython-input-42-fc48f7101036>\u001b[0m in \u001b[0;36mrename_ckpts_and_acc_by_epoch\u001b[0;34m(root, old_min, new_min, dry_run)\u001b[0m\n\u001b[1;32m      6\u001b[0m         \u001b[0;32mfor\u001b[0m \u001b[0mckpt_dir\u001b[0m \u001b[0;32min\u001b[0m \u001b[0mckpt_dirs\u001b[0m\u001b[0;34m:\u001b[0m\u001b[0;34m\u001b[0m\u001b[0;34m\u001b[0m\u001b[0m\n\u001b[1;32m      7\u001b[0m             \u001b[0mnets\u001b[0m \u001b[0;34m=\u001b[0m \u001b[0msorted\u001b[0m\u001b[0;34m(\u001b[0m\u001b[0mlist\u001b[0m\u001b[0;34m(\u001b[0m\u001b[0mckpt_dir\u001b[0m\u001b[0;34m.\u001b[0m\u001b[0mglob\u001b[0m\u001b[0;34m(\u001b[0m\u001b[0;34m'net_number_*'\u001b[0m\u001b[0;34m)\u001b[0m\u001b[0;34m)\u001b[0m\u001b[0;34m)\u001b[0m\u001b[0;34m\u001b[0m\u001b[0;34m\u001b[0m\u001b[0m\n\u001b[0;32m----> 8\u001b[0;31m             \u001b[0mnumnets\u001b[0m \u001b[0;34m=\u001b[0m \u001b[0mlen\u001b[0m\u001b[0;34m(\u001b[0m\u001b[0mnets\u001b[0m\u001b[0;34m)\u001b[0m\u001b[0;34m\u001b[0m\u001b[0;34m\u001b[0m\u001b[0m\n\u001b[0m\u001b[1;32m      9\u001b[0m             \u001b[0mfirst_net\u001b[0m \u001b[0;34m=\u001b[0m \u001b[0mstr\u001b[0m\u001b[0;34m(\u001b[0m\u001b[0mnets\u001b[0m\u001b[0;34m[\u001b[0m\u001b[0;36m0\u001b[0m\u001b[0;34m]\u001b[0m\u001b[0;34m)\u001b[0m\u001b[0;34m\u001b[0m\u001b[0;34m\u001b[0m\u001b[0m\n\u001b[1;32m     10\u001b[0m             \u001b[0;32mif\u001b[0m \u001b[0mfirst_net\u001b[0m\u001b[0;34m[\u001b[0m\u001b[0;34m-\u001b[0m\u001b[0;36m1\u001b[0m\u001b[0;34m]\u001b[0m \u001b[0;34m!=\u001b[0m \u001b[0mstr\u001b[0m\u001b[0;34m(\u001b[0m\u001b[0mold_min\u001b[0m\u001b[0;34m)\u001b[0m\u001b[0;34m:\u001b[0m\u001b[0;34m\u001b[0m\u001b[0;34m\u001b[0m\u001b[0m\n",
      "\u001b[0;32m~/anaconda3/envs/searchnets-new/lib/python3.7/bdb.py\u001b[0m in \u001b[0;36mtrace_dispatch\u001b[0;34m(self, frame, event, arg)\u001b[0m\n\u001b[1;32m     86\u001b[0m             \u001b[0;32mreturn\u001b[0m \u001b[0;31m# None\u001b[0m\u001b[0;34m\u001b[0m\u001b[0;34m\u001b[0m\u001b[0m\n\u001b[1;32m     87\u001b[0m         \u001b[0;32mif\u001b[0m \u001b[0mevent\u001b[0m \u001b[0;34m==\u001b[0m \u001b[0;34m'line'\u001b[0m\u001b[0;34m:\u001b[0m\u001b[0;34m\u001b[0m\u001b[0;34m\u001b[0m\u001b[0m\n\u001b[0;32m---> 88\u001b[0;31m             \u001b[0;32mreturn\u001b[0m \u001b[0mself\u001b[0m\u001b[0;34m.\u001b[0m\u001b[0mdispatch_line\u001b[0m\u001b[0;34m(\u001b[0m\u001b[0mframe\u001b[0m\u001b[0;34m)\u001b[0m\u001b[0;34m\u001b[0m\u001b[0;34m\u001b[0m\u001b[0m\n\u001b[0m\u001b[1;32m     89\u001b[0m         \u001b[0;32mif\u001b[0m \u001b[0mevent\u001b[0m \u001b[0;34m==\u001b[0m \u001b[0;34m'call'\u001b[0m\u001b[0;34m:\u001b[0m\u001b[0;34m\u001b[0m\u001b[0;34m\u001b[0m\u001b[0m\n\u001b[1;32m     90\u001b[0m             \u001b[0;32mreturn\u001b[0m \u001b[0mself\u001b[0m\u001b[0;34m.\u001b[0m\u001b[0mdispatch_call\u001b[0m\u001b[0;34m(\u001b[0m\u001b[0mframe\u001b[0m\u001b[0;34m,\u001b[0m \u001b[0marg\u001b[0m\u001b[0;34m)\u001b[0m\u001b[0;34m\u001b[0m\u001b[0;34m\u001b[0m\u001b[0m\n",
      "\u001b[0;32m~/anaconda3/envs/searchnets-new/lib/python3.7/bdb.py\u001b[0m in \u001b[0;36mdispatch_line\u001b[0;34m(self, frame)\u001b[0m\n\u001b[1;32m    111\u001b[0m         \u001b[0;32mif\u001b[0m \u001b[0mself\u001b[0m\u001b[0;34m.\u001b[0m\u001b[0mstop_here\u001b[0m\u001b[0;34m(\u001b[0m\u001b[0mframe\u001b[0m\u001b[0;34m)\u001b[0m \u001b[0;32mor\u001b[0m \u001b[0mself\u001b[0m\u001b[0;34m.\u001b[0m\u001b[0mbreak_here\u001b[0m\u001b[0;34m(\u001b[0m\u001b[0mframe\u001b[0m\u001b[0;34m)\u001b[0m\u001b[0;34m:\u001b[0m\u001b[0;34m\u001b[0m\u001b[0;34m\u001b[0m\u001b[0m\n\u001b[1;32m    112\u001b[0m             \u001b[0mself\u001b[0m\u001b[0;34m.\u001b[0m\u001b[0muser_line\u001b[0m\u001b[0;34m(\u001b[0m\u001b[0mframe\u001b[0m\u001b[0;34m)\u001b[0m\u001b[0;34m\u001b[0m\u001b[0;34m\u001b[0m\u001b[0m\n\u001b[0;32m--> 113\u001b[0;31m             \u001b[0;32mif\u001b[0m \u001b[0mself\u001b[0m\u001b[0;34m.\u001b[0m\u001b[0mquitting\u001b[0m\u001b[0;34m:\u001b[0m \u001b[0;32mraise\u001b[0m \u001b[0mBdbQuit\u001b[0m\u001b[0;34m\u001b[0m\u001b[0;34m\u001b[0m\u001b[0m\n\u001b[0m\u001b[1;32m    114\u001b[0m         \u001b[0;32mreturn\u001b[0m \u001b[0mself\u001b[0m\u001b[0;34m.\u001b[0m\u001b[0mtrace_dispatch\u001b[0m\u001b[0;34m\u001b[0m\u001b[0;34m\u001b[0m\u001b[0m\n\u001b[1;32m    115\u001b[0m \u001b[0;34m\u001b[0m\u001b[0m\n",
      "\u001b[0;31mBdbQuit\u001b[0m: "
     ]
    }
   ],
   "source": [
    "rename_ckpts_and_acc_by_epoch(a_root, old_min=0, new_min=5, dry_run=False)"
   ]
  },
  {
   "cell_type": "code",
   "execution_count": 52,
   "metadata": {},
   "outputs": [],
   "source": [
    "def copy_ckpt_dir(src, dst, dry_run=True):\n",
    "    ckpt_dirs = list(src.glob('trained_*_epochs'))\n",
    "    if ckpt_dirs:\n",
    "        for ckpt_dir in ckpt_dirs:\n",
    "            nets = sorted(list(ckpt_dir.glob('net_number_*')))\n",
    "            for net in nets:\n",
    "                print(net.parent.name + '/' + net.name, ' -> ', dst.joinpath(net.parent.name).joinpath(net.name))\n",
    "                if not dry_run:\n",
    "                    shutil.copytree(src=net, dst=dst.joinpath(net.parent.name).joinpath(net.name))\n",
    "\n",
    "    acc_by_epoch_dirs = list(src.glob('acc_by_epoch_by_set_size'))\n",
    "    if acc_by_epoch_dirs:\n",
    "        for acc_by_epoch_dir in acc_by_epoch_dirs:\n",
    "            txt_files = sorted(list(acc_by_epoch_dir.glob('*number_*.txt')))\n",
    "            for txt_file in txt_files:\n",
    "                print(txt_file, ' -> ', dst.joinpath(txt_file.parent.name).joinpath(txt_file.name))\n",
    "                if not dry_run:\n",
    "                    shutil.copy(src=txt_file, dst=dst.joinpath(txt_file.parent.name).joinpath(txt_file.name))"
   ]
  },
  {
   "cell_type": "code",
   "execution_count": 44,
   "metadata": {},
   "outputs": [
    {
     "name": "stdout",
     "output_type": "stream",
     "text": [
      "trained_200_epochs/net_number_5  ->  /home/bart/Documents/repos/L2M/visual-search-nets/data/checkpoints/alexnet_finetune_RVvGV/trained_200_epochs/net_number_5\n",
      "trained_200_epochs/net_number_6  ->  /home/bart/Documents/repos/L2M/visual-search-nets/data/checkpoints/alexnet_finetune_RVvGV/trained_200_epochs/net_number_6\n",
      "trained_200_epochs/net_number_7  ->  /home/bart/Documents/repos/L2M/visual-search-nets/data/checkpoints/alexnet_finetune_RVvGV/trained_200_epochs/net_number_7\n",
      "trained_200_epochs/net_number_8  ->  /home/bart/Documents/repos/L2M/visual-search-nets/data/checkpoints/alexnet_finetune_RVvGV/trained_200_epochs/net_number_8\n",
      "/home/bart/Documents/repos/L2M/visual-search-nets/data/expt_14_rerun_finetune_copy/checkpoints/alexnet_finetune_RVvGV/acc_by_epoch_by_set_size/alexnet_trained_200_epochs_number_5.txt  ->  /home/bart/Documents/repos/L2M/visual-search-nets/data/checkpoints/alexnet_finetune_RVvGV/acc_by_epoch_by_set_size/alexnet_trained_200_epochs_number_5.txt\n",
      "/home/bart/Documents/repos/L2M/visual-search-nets/data/expt_14_rerun_finetune_copy/checkpoints/alexnet_finetune_RVvGV/acc_by_epoch_by_set_size/alexnet_trained_200_epochs_number_6.txt  ->  /home/bart/Documents/repos/L2M/visual-search-nets/data/checkpoints/alexnet_finetune_RVvGV/acc_by_epoch_by_set_size/alexnet_trained_200_epochs_number_6.txt\n",
      "/home/bart/Documents/repos/L2M/visual-search-nets/data/expt_14_rerun_finetune_copy/checkpoints/alexnet_finetune_RVvGV/acc_by_epoch_by_set_size/alexnet_trained_200_epochs_number_7.txt  ->  /home/bart/Documents/repos/L2M/visual-search-nets/data/checkpoints/alexnet_finetune_RVvGV/acc_by_epoch_by_set_size/alexnet_trained_200_epochs_number_7.txt\n",
      "/home/bart/Documents/repos/L2M/visual-search-nets/data/expt_14_rerun_finetune_copy/checkpoints/alexnet_finetune_RVvGV/acc_by_epoch_by_set_size/alexnet_trained_200_epochs_number_8.txt  ->  /home/bart/Documents/repos/L2M/visual-search-nets/data/checkpoints/alexnet_finetune_RVvGV/acc_by_epoch_by_set_size/alexnet_trained_200_epochs_number_8.txt\n"
     ]
    }
   ],
   "source": [
    "copy_ckpt_dir(src=a_root, dst=Path('/home/bart/Documents/repos/L2M/visual-search-nets/data/checkpoints/alexnet_finetune_RVvGV/'), dry_run=False)"
   ]
  },
  {
   "cell_type": "code",
   "execution_count": 53,
   "metadata": {},
   "outputs": [],
   "source": [
    "expt_dirs = [\n",
    "    '/home/bart/Documents/repos/L2M/visual-search-nets/data/expt_15_rerun_train_copy/',\n",
    "    '/home/bart/Documents/repos/L2M/visual-search-nets/data/expt_16_rerun_train_big_set_and_sample_size_copy/',\n",
    "    '/home/bart/Documents/repos/L2M/visual-search-nets/data/expt_17_rerun_train_big_set_size_copy/',\n",
    "]\n",
    "root_ckpt_dir = Path('/home/bart/Documents/repos/L2M/visual-search-nets/data/checkpoints/')"
   ]
  },
  {
   "cell_type": "code",
   "execution_count": 59,
   "metadata": {},
   "outputs": [
    {
     "name": "stdout",
     "output_type": "stream",
     "text": [
      "/home/bart/Documents/repos/L2M/visual-search-nets/data/expt_15_rerun_train_copy/checkpoints/alexnet_train_RVvGV\n",
      "rename\n",
      "trained_200_epochs/net_number_0 -> trained_200_epochs/net_number_5\n",
      "trained_200_epochs/net_number_1 -> trained_200_epochs/net_number_6\n",
      "trained_200_epochs/net_number_2 -> trained_200_epochs/net_number_7\n",
      "trained_200_epochs/net_number_3 -> trained_200_epochs/net_number_8\n",
      "copy\n",
      "trained_200_epochs/net_number_5  ->  /home/bart/Documents/repos/L2M/visual-search-nets/data/checkpoints/alexnet_train_RVvGV/trained_200_epochs/net_number_5\n",
      "trained_200_epochs/net_number_6  ->  /home/bart/Documents/repos/L2M/visual-search-nets/data/checkpoints/alexnet_train_RVvGV/trained_200_epochs/net_number_6\n",
      "trained_200_epochs/net_number_7  ->  /home/bart/Documents/repos/L2M/visual-search-nets/data/checkpoints/alexnet_train_RVvGV/trained_200_epochs/net_number_7\n",
      "trained_200_epochs/net_number_8  ->  /home/bart/Documents/repos/L2M/visual-search-nets/data/checkpoints/alexnet_train_RVvGV/trained_200_epochs/net_number_8\n",
      "\n",
      "/home/bart/Documents/repos/L2M/visual-search-nets/data/expt_15_rerun_train_copy/checkpoints/alexnet_train_2_v_5\n",
      "rename\n",
      "trained_200_epochs/net_number_0 -> trained_200_epochs/net_number_5\n",
      "trained_200_epochs/net_number_1 -> trained_200_epochs/net_number_6\n",
      "trained_200_epochs/net_number_2 -> trained_200_epochs/net_number_7\n",
      "trained_200_epochs/net_number_3 -> trained_200_epochs/net_number_8\n",
      "copy\n",
      "trained_200_epochs/net_number_5  ->  /home/bart/Documents/repos/L2M/visual-search-nets/data/checkpoints/alexnet_train_2_v_5/trained_200_epochs/net_number_5\n",
      "trained_200_epochs/net_number_6  ->  /home/bart/Documents/repos/L2M/visual-search-nets/data/checkpoints/alexnet_train_2_v_5/trained_200_epochs/net_number_6\n",
      "trained_200_epochs/net_number_7  ->  /home/bart/Documents/repos/L2M/visual-search-nets/data/checkpoints/alexnet_train_2_v_5/trained_200_epochs/net_number_7\n",
      "trained_200_epochs/net_number_8  ->  /home/bart/Documents/repos/L2M/visual-search-nets/data/checkpoints/alexnet_train_2_v_5/trained_200_epochs/net_number_8\n",
      "\n",
      "/home/bart/Documents/repos/L2M/visual-search-nets/data/expt_15_rerun_train_copy/checkpoints/alexnet_train_RVvRHGV\n",
      "rename\n",
      "trained_200_epochs/net_number_0 -> trained_200_epochs/net_number_5\n",
      "trained_200_epochs/net_number_1 -> trained_200_epochs/net_number_6\n",
      "trained_200_epochs/net_number_2 -> trained_200_epochs/net_number_7\n",
      "trained_200_epochs/net_number_3 -> trained_200_epochs/net_number_8\n",
      "copy\n",
      "trained_200_epochs/net_number_5  ->  /home/bart/Documents/repos/L2M/visual-search-nets/data/checkpoints/alexnet_train_RVvRHGV/trained_200_epochs/net_number_5\n",
      "trained_200_epochs/net_number_6  ->  /home/bart/Documents/repos/L2M/visual-search-nets/data/checkpoints/alexnet_train_RVvRHGV/trained_200_epochs/net_number_6\n",
      "trained_200_epochs/net_number_7  ->  /home/bart/Documents/repos/L2M/visual-search-nets/data/checkpoints/alexnet_train_RVvRHGV/trained_200_epochs/net_number_7\n",
      "trained_200_epochs/net_number_8  ->  /home/bart/Documents/repos/L2M/visual-search-nets/data/checkpoints/alexnet_train_RVvRHGV/trained_200_epochs/net_number_8\n",
      "\n",
      "/home/bart/Documents/repos/L2M/visual-search-nets/data/expt_16_rerun_train_big_set_and_sample_size_copy/checkpoints/alexnet_train_big_set_and_sample_size_RVvGV\n",
      "rename\n",
      "trained_200_epochs/net_number_0 -> trained_200_epochs/net_number_4\n",
      "trained_200_epochs/net_number_1 -> trained_200_epochs/net_number_5\n",
      "trained_200_epochs/net_number_2 -> trained_200_epochs/net_number_6\n",
      "trained_200_epochs/net_number_3 -> trained_200_epochs/net_number_7\n",
      "copy\n",
      "trained_200_epochs/net_number_4  ->  /home/bart/Documents/repos/L2M/visual-search-nets/data/checkpoints/alexnet_train_big_set_and_sample_size_RVvGV/trained_200_epochs/net_number_4\n",
      "trained_200_epochs/net_number_5  ->  /home/bart/Documents/repos/L2M/visual-search-nets/data/checkpoints/alexnet_train_big_set_and_sample_size_RVvGV/trained_200_epochs/net_number_5\n",
      "trained_200_epochs/net_number_6  ->  /home/bart/Documents/repos/L2M/visual-search-nets/data/checkpoints/alexnet_train_big_set_and_sample_size_RVvGV/trained_200_epochs/net_number_6\n",
      "trained_200_epochs/net_number_7  ->  /home/bart/Documents/repos/L2M/visual-search-nets/data/checkpoints/alexnet_train_big_set_and_sample_size_RVvGV/trained_200_epochs/net_number_7\n",
      "\n",
      "/home/bart/Documents/repos/L2M/visual-search-nets/data/expt_16_rerun_train_big_set_and_sample_size_copy/checkpoints/alexnet_train_big_set_and_sample_size_2_v_5\n",
      "rename\n",
      "trained_200_epochs/net_number_0 -> trained_200_epochs/net_number_4\n",
      "trained_200_epochs/net_number_1 -> trained_200_epochs/net_number_5\n",
      "trained_200_epochs/net_number_2 -> trained_200_epochs/net_number_6\n",
      "trained_200_epochs/net_number_3 -> trained_200_epochs/net_number_7\n",
      "copy\n",
      "trained_200_epochs/net_number_4  ->  /home/bart/Documents/repos/L2M/visual-search-nets/data/checkpoints/alexnet_train_big_set_and_sample_size_2_v_5/trained_200_epochs/net_number_4\n",
      "trained_200_epochs/net_number_5  ->  /home/bart/Documents/repos/L2M/visual-search-nets/data/checkpoints/alexnet_train_big_set_and_sample_size_2_v_5/trained_200_epochs/net_number_5\n",
      "trained_200_epochs/net_number_6  ->  /home/bart/Documents/repos/L2M/visual-search-nets/data/checkpoints/alexnet_train_big_set_and_sample_size_2_v_5/trained_200_epochs/net_number_6\n",
      "trained_200_epochs/net_number_7  ->  /home/bart/Documents/repos/L2M/visual-search-nets/data/checkpoints/alexnet_train_big_set_and_sample_size_2_v_5/trained_200_epochs/net_number_7\n",
      "\n",
      "/home/bart/Documents/repos/L2M/visual-search-nets/data/expt_16_rerun_train_big_set_and_sample_size_copy/checkpoints/alexnet_train_big_set_and_sample_size_RVvRHGV\n",
      "rename\n",
      "trained_200_epochs/net_number_0 -> trained_200_epochs/net_number_4\n",
      "trained_200_epochs/net_number_1 -> trained_200_epochs/net_number_5\n",
      "trained_200_epochs/net_number_2 -> trained_200_epochs/net_number_6\n",
      "trained_200_epochs/net_number_3 -> trained_200_epochs/net_number_7\n",
      "copy\n",
      "trained_200_epochs/net_number_4  ->  /home/bart/Documents/repos/L2M/visual-search-nets/data/checkpoints/alexnet_train_big_set_and_sample_size_RVvRHGV/trained_200_epochs/net_number_4\n",
      "trained_200_epochs/net_number_5  ->  /home/bart/Documents/repos/L2M/visual-search-nets/data/checkpoints/alexnet_train_big_set_and_sample_size_RVvRHGV/trained_200_epochs/net_number_5\n",
      "trained_200_epochs/net_number_6  ->  /home/bart/Documents/repos/L2M/visual-search-nets/data/checkpoints/alexnet_train_big_set_and_sample_size_RVvRHGV/trained_200_epochs/net_number_6\n",
      "trained_200_epochs/net_number_7  ->  /home/bart/Documents/repos/L2M/visual-search-nets/data/checkpoints/alexnet_train_big_set_and_sample_size_RVvRHGV/trained_200_epochs/net_number_7\n",
      "\n",
      "/home/bart/Documents/repos/L2M/visual-search-nets/data/expt_17_rerun_train_big_set_size_copy/checkpoints/alexnet_train_big_set_size_RVvRHGV\n",
      "rename\n",
      "trained_200_epochs/net_number_0 -> trained_200_epochs/net_number_4\n",
      "trained_200_epochs/net_number_1 -> trained_200_epochs/net_number_5\n",
      "trained_200_epochs/net_number_2 -> trained_200_epochs/net_number_6\n",
      "trained_200_epochs/net_number_3 -> trained_200_epochs/net_number_7\n",
      "copy\n",
      "trained_200_epochs/net_number_4  ->  /home/bart/Documents/repos/L2M/visual-search-nets/data/checkpoints/alexnet_train_big_set_size_RVvRHGV/trained_200_epochs/net_number_4\n",
      "trained_200_epochs/net_number_5  ->  /home/bart/Documents/repos/L2M/visual-search-nets/data/checkpoints/alexnet_train_big_set_size_RVvRHGV/trained_200_epochs/net_number_5\n",
      "trained_200_epochs/net_number_6  ->  /home/bart/Documents/repos/L2M/visual-search-nets/data/checkpoints/alexnet_train_big_set_size_RVvRHGV/trained_200_epochs/net_number_6\n",
      "trained_200_epochs/net_number_7  ->  /home/bart/Documents/repos/L2M/visual-search-nets/data/checkpoints/alexnet_train_big_set_size_RVvRHGV/trained_200_epochs/net_number_7\n",
      "\n",
      "/home/bart/Documents/repos/L2M/visual-search-nets/data/expt_17_rerun_train_big_set_size_copy/checkpoints/alexnet_train_big_set_size_RVvGV\n",
      "rename\n",
      "trained_200_epochs/net_number_0 -> trained_200_epochs/net_number_4\n",
      "trained_200_epochs/net_number_1 -> trained_200_epochs/net_number_5\n",
      "trained_200_epochs/net_number_2 -> trained_200_epochs/net_number_6\n",
      "trained_200_epochs/net_number_3 -> trained_200_epochs/net_number_7\n",
      "copy\n",
      "trained_200_epochs/net_number_4  ->  /home/bart/Documents/repos/L2M/visual-search-nets/data/checkpoints/alexnet_train_big_set_size_RVvGV/trained_200_epochs/net_number_4\n",
      "trained_200_epochs/net_number_5  ->  /home/bart/Documents/repos/L2M/visual-search-nets/data/checkpoints/alexnet_train_big_set_size_RVvGV/trained_200_epochs/net_number_5\n",
      "trained_200_epochs/net_number_6  ->  /home/bart/Documents/repos/L2M/visual-search-nets/data/checkpoints/alexnet_train_big_set_size_RVvGV/trained_200_epochs/net_number_6\n",
      "trained_200_epochs/net_number_7  ->  /home/bart/Documents/repos/L2M/visual-search-nets/data/checkpoints/alexnet_train_big_set_size_RVvGV/trained_200_epochs/net_number_7\n",
      "\n",
      "/home/bart/Documents/repos/L2M/visual-search-nets/data/expt_17_rerun_train_big_set_size_copy/checkpoints/alexnet_train_big_set_size_2_v_5\n",
      "rename\n",
      "trained_200_epochs/net_number_0 -> trained_200_epochs/net_number_4\n",
      "trained_200_epochs/net_number_1 -> trained_200_epochs/net_number_5\n",
      "trained_200_epochs/net_number_2 -> trained_200_epochs/net_number_6\n",
      "trained_200_epochs/net_number_3 -> trained_200_epochs/net_number_7\n",
      "copy\n",
      "trained_200_epochs/net_number_4  ->  /home/bart/Documents/repos/L2M/visual-search-nets/data/checkpoints/alexnet_train_big_set_size_2_v_5/trained_200_epochs/net_number_4\n",
      "trained_200_epochs/net_number_5  ->  /home/bart/Documents/repos/L2M/visual-search-nets/data/checkpoints/alexnet_train_big_set_size_2_v_5/trained_200_epochs/net_number_5\n",
      "trained_200_epochs/net_number_6  ->  /home/bart/Documents/repos/L2M/visual-search-nets/data/checkpoints/alexnet_train_big_set_size_2_v_5/trained_200_epochs/net_number_6\n",
      "trained_200_epochs/net_number_7  ->  /home/bart/Documents/repos/L2M/visual-search-nets/data/checkpoints/alexnet_train_big_set_size_2_v_5/trained_200_epochs/net_number_7\n",
      "\n"
     ]
    }
   ],
   "source": [
    "for expt_dir in expt_dirs:\n",
    "    ckpt_dir = Path(expt_dir).joinpath('checkpoints')\n",
    "    subdirs = [subdir for subdir in ckpt_dir.iterdir() if subdir.is_dir()]\n",
    "    for subdir in subdirs:\n",
    "        if 'big' in str(subdir):\n",
    "            new_min=4\n",
    "        else:\n",
    "            new_min=5\n",
    "        print(subdir)\n",
    "        print(\"rename\")\n",
    "        rename_ckpts_and_acc_by_epoch(subdir, old_min=0, new_min=new_min, dry_run=False)\n",
    "        dst = root_ckpt_dir.joinpath(subdir.name)\n",
    "        print(\"copy\")\n",
    "        copy_ckpt_dir(src=subdir, dst=dst, dry_run=False)\n",
    "        print()"
   ]
  },
  {
   "cell_type": "code",
   "execution_count": null,
   "metadata": {},
   "outputs": [],
   "source": []
  }
 ],
 "metadata": {
  "kernelspec": {
   "display_name": "Python 3",
   "language": "python",
   "name": "python3"
  },
  "language_info": {
   "codemirror_mode": {
    "name": "ipython",
    "version": 3
   },
   "file_extension": ".py",
   "mimetype": "text/x-python",
   "name": "python",
   "nbconvert_exporter": "python",
   "pygments_lexer": "ipython3",
   "version": "3.7.4"
  }
 },
 "nbformat": 4,
 "nbformat_minor": 4
}
