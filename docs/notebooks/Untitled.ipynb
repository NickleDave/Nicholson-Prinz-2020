{
 "cells": [
  {
   "cell_type": "code",
   "execution_count": 1,
   "metadata": {},
   "outputs": [],
   "source": [
    "from pathlib import Path\n",
    "\n",
    "import tensorflow as tf"
   ]
  },
  {
   "cell_type": "code",
   "execution_count": 2,
   "metadata": {},
   "outputs": [],
   "source": [
    "tf.enable_eager_execution()"
   ]
  },
  {
   "cell_type": "code",
   "execution_count": 2,
   "metadata": {},
   "outputs": [
    {
     "data": {
      "text/plain": [
       "'/home/bart/Documents/repos/L2M/visual-search-nets/docs/notebooks'"
      ]
     },
     "execution_count": 2,
     "metadata": {},
     "output_type": "execute_result"
    }
   ],
   "source": [
    "pwd"
   ]
  },
  {
   "cell_type": "code",
   "execution_count": 3,
   "metadata": {},
   "outputs": [
    {
     "name": "stdout",
     "output_type": "stream",
     "text": [
      "/home/bart/Documents/repos/L2M/visual-search-nets/data/visual_search_stimuli/alexnet_RVvGV\n"
     ]
    }
   ],
   "source": [
    "cd /home/bart/Documents/repos/L2M/visual-search-nets/data/visual_search_stimuli/alexnet_RVvGV/"
   ]
  },
  {
   "cell_type": "code",
   "execution_count": 4,
   "metadata": {},
   "outputs": [],
   "source": [
    "RVvGV_paths_root = Path('/home/bart/Documents/repos/L2M/visual-search-nets/data/visual_search_stimuli/alexnet_RVvGV/RVvGV')"
   ]
  },
  {
   "cell_type": "code",
   "execution_count": 5,
   "metadata": {},
   "outputs": [],
   "source": [
    "set_sizes = ['1', '2', '4', '8']\n",
    "target = ['present', 'absent']"
   ]
  },
  {
   "cell_type": "code",
   "execution_count": 6,
   "metadata": {},
   "outputs": [],
   "source": [
    "png_paths = []\n",
    "y_true = []\n",
    "for set_size in set_sizes:\n",
    "    for is_target_present in target:\n",
    "        newpath = RVvGV_paths_root.joinpath(set_size, is_target_present)\n",
    "        pngs_this_newpath = sorted(list(newpath.glob('*.png')))\n",
    "        png_paths.extend(pngs_this_newpath)\n",
    "        y_true.extend([0 if is_target_present=='absent' else 1 for _ in range(len(pngs_this_newpath))])\n",
    "\n",
    "png_paths = [str(path) for path in png_paths]"
   ]
  },
  {
   "cell_type": "code",
   "execution_count": 16,
   "metadata": {},
   "outputs": [],
   "source": [
    "def load(x):\n",
    "    x = tf.read_file(x)\n",
    "    x = tf.image.decode_png(x)\n",
    "    x = tf.cast(x, tf.float32)\n",
    "    return x\n",
    "\n",
    "def preprocess(x):\n",
    "    # make RGB into BGR\n",
    "    return tf.reverse(x, axis=[-1])"
   ]
  },
  {
   "cell_type": "code",
   "execution_count": 8,
   "metadata": {},
   "outputs": [],
   "source": [
    "import numpy as np"
   ]
  },
  {
   "cell_type": "code",
   "execution_count": 17,
   "metadata": {},
   "outputs": [],
   "source": [
    "path_ds = tf.data.Dataset.from_tensor_slices(np.asarray(png_paths))\n",
    "path_ds = path_ds.map(load)\n",
    "path_ds = path_ds.map(preprocess)\n"
   ]
  },
  {
   "cell_type": "code",
   "execution_count": 19,
   "metadata": {},
   "outputs": [],
   "source": [
    "x = next(iter(path_ds))"
   ]
  },
  {
   "cell_type": "code",
   "execution_count": 20,
   "metadata": {},
   "outputs": [
    {
     "data": {
      "text/plain": [
       "TensorShape([Dimension(227), Dimension(227), Dimension(3)])"
      ]
     },
     "execution_count": 20,
     "metadata": {},
     "output_type": "execute_result"
    }
   ],
   "source": [
    "x.shape"
   ]
  },
  {
   "cell_type": "code",
   "execution_count": null,
   "metadata": {},
   "outputs": [],
   "source": []
  }
 ],
 "metadata": {
  "kernelspec": {
   "display_name": "Python 3",
   "language": "python",
   "name": "python3"
  },
  "language_info": {
   "codemirror_mode": {
    "name": "ipython",
    "version": 3
   },
   "file_extension": ".py",
   "mimetype": "text/x-python",
   "name": "python",
   "nbconvert_exporter": "python",
   "pygments_lexer": "ipython3",
   "version": "3.6.8"
  }
 },
 "nbformat": 4,
 "nbformat_minor": 2
}
