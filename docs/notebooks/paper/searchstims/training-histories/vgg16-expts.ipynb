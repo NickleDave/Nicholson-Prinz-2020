{
 "cells": [
  {
   "cell_type": "code",
   "execution_count": 1,
   "metadata": {},
   "outputs": [],
   "source": [
    "from pathlib import Path\n",
    "\n",
    "import matplotlib.pyplot as plt\n",
    "import pandas as pd\n",
    "from pyprojroot import here\n",
    "import seaborn as sns\n",
    "\n",
    "import searchnets"
   ]
  },
  {
   "cell_type": "code",
   "execution_count": 2,
   "metadata": {},
   "outputs": [],
   "source": [
    "CKPT_ROOT = here().joinpath('results/searchstims/checkpoints')\n",
    "NET_EXPT_ROOTS = [path for path in sorted(CKPT_ROOT.iterdir()) if path.is_dir()]"
   ]
  },
  {
   "cell_type": "code",
   "execution_count": 3,
   "metadata": {},
   "outputs": [],
   "source": [
    "vgg16_expt_roots = [path for path in NET_EXPT_ROOTS if 'VGG16' in str(path)]"
   ]
  },
  {
   "cell_type": "markdown",
   "metadata": {},
   "source": [
    "convert all tensorboard events files to .csv (only need to run this once)"
   ]
  },
  {
   "cell_type": "code",
   "execution_count": 4,
   "metadata": {},
   "outputs": [
    {
     "ename": "AssertionError",
     "evalue": "found more than one events file",
     "output_type": "error",
     "traceback": [
      "\u001b[0;31m---------------------------------------------------------------------------\u001b[0m",
      "\u001b[0;31mAssertionError\u001b[0m                            Traceback (most recent call last)",
      "\u001b[0;32m<ipython-input-4-ec50962e5d65>\u001b[0m in \u001b[0;36m<module>\u001b[0;34m\u001b[0m\n\u001b[1;32m      3\u001b[0m     \u001b[0;32mfor\u001b[0m \u001b[0mnet_root\u001b[0m \u001b[0;32min\u001b[0m \u001b[0mnet_roots\u001b[0m\u001b[0;34m:\u001b[0m\u001b[0;34m\u001b[0m\u001b[0;34m\u001b[0m\u001b[0m\n\u001b[1;32m      4\u001b[0m         \u001b[0mevents_file\u001b[0m \u001b[0;34m=\u001b[0m \u001b[0msorted\u001b[0m\u001b[0;34m(\u001b[0m\u001b[0mnet_root\u001b[0m\u001b[0;34m.\u001b[0m\u001b[0mglob\u001b[0m\u001b[0;34m(\u001b[0m\u001b[0;34m'**/*events*'\u001b[0m\u001b[0;34m)\u001b[0m\u001b[0;34m)\u001b[0m\u001b[0;34m\u001b[0m\u001b[0;34m\u001b[0m\u001b[0m\n\u001b[0;32m----> 5\u001b[0;31m         \u001b[0;32massert\u001b[0m \u001b[0mlen\u001b[0m\u001b[0;34m(\u001b[0m\u001b[0mevents_file\u001b[0m\u001b[0;34m)\u001b[0m \u001b[0;34m==\u001b[0m \u001b[0;36m1\u001b[0m\u001b[0;34m,\u001b[0m \u001b[0;34m'found more than one events file'\u001b[0m\u001b[0;34m\u001b[0m\u001b[0;34m\u001b[0m\u001b[0m\n\u001b[0m\u001b[1;32m      6\u001b[0m         \u001b[0mevents_file\u001b[0m \u001b[0;34m=\u001b[0m \u001b[0mevents_file\u001b[0m\u001b[0;34m[\u001b[0m\u001b[0;36m0\u001b[0m\u001b[0;34m]\u001b[0m\u001b[0;34m\u001b[0m\u001b[0;34m\u001b[0m\u001b[0m\n\u001b[1;32m      7\u001b[0m         \u001b[0mlogdir\u001b[0m \u001b[0;34m=\u001b[0m \u001b[0mevents_file\u001b[0m\u001b[0;34m.\u001b[0m\u001b[0mparent\u001b[0m\u001b[0;34m\u001b[0m\u001b[0;34m\u001b[0m\u001b[0m\n",
      "\u001b[0;31mAssertionError\u001b[0m: found more than one events file"
     ]
    }
   ],
   "source": [
    "for vgg16_expt_root in vgg16_expt_roots:\n",
    "    net_roots = sorted(vgg16_expt_root.joinpath('trained_200_epochs').glob('net_number*'))\n",
    "    for net_root in net_roots:\n",
    "        events_file = sorted(net_root.glob('**/*events*'))\n",
    "        assert len(events_file) == 1, 'found more than one events file'\n",
    "        events_file = events_file[0]\n",
    "        logdir = events_file.parent\n",
    "        searchnets.tensorboard.logdir2csv(logdir)"
   ]
  },
  {
   "cell_type": "code",
   "execution_count": 5,
   "metadata": {},
   "outputs": [],
   "source": [
    "def get_net_number_from_dirname(dirname):\n",
    "    return dirname.split('_')[-1]"
   ]
  },
  {
   "cell_type": "code",
   "execution_count": 9,
   "metadata": {},
   "outputs": [],
   "source": [
    "expt_dfs = {}\n",
    "\n",
    "for vgg16_expt_root in vgg16_expt_roots:\n",
    "    expt_name = vgg16_expt_root.name.replace('VGG16_', '')  # will use as dict key\n",
    "    \n",
    "    dfs_this_expt = []\n",
    "    net_roots = sorted(vgg16_expt_root.joinpath('trained_200_epochs').glob('net_number*'))\n",
    "    for net_root in net_roots:\n",
    "        net_number = int(\n",
    "            get_net_number_from_dirname(net_root.name)\n",
    "        )\n",
    "        \n",
    "        events_csv = sorted(net_root.glob('**/*events*csv'))\n",
    "        assert len(events_csv) == 1, 'found more than one events file'\n",
    "        events_csv = events_csv[0]\n",
    "        df = pd.read_csv(events_csv)\n",
    "        df['replicate'] = net_number\n",
    "        dfs_this_expt.append(df)\n",
    "        expt_dfs[expt_name] = pd.concat(dfs_this_expt)"
   ]
  },
  {
   "cell_type": "code",
   "execution_count": 10,
   "metadata": {},
   "outputs": [
    {
     "data": {
      "text/plain": [
       "dict_keys(['initialize_lr_1e-03_multiple_stims_128000samples_balanced', 'transfer_lr_1e-03_no_finetune_multiple_stims_128000samples_balanced'])"
      ]
     },
     "execution_count": 10,
     "metadata": {},
     "output_type": "execute_result"
    }
   ],
   "source": [
    "expt_dfs.keys()"
   ]
  },
  {
   "cell_type": "code",
   "execution_count": 11,
   "metadata": {},
   "outputs": [
    {
     "data": {
      "text/plain": [
       "Index(['step', 'loss/train', 'loss/val', 'acc/val', 'replicate'], dtype='object')"
      ]
     },
     "execution_count": 11,
     "metadata": {},
     "output_type": "execute_result"
    }
   ],
   "source": [
    "expt_dfs['initialize_lr_1e-03_multiple_stims_128000samples_balanced'].columns"
   ]
  },
  {
   "cell_type": "code",
   "execution_count": null,
   "metadata": {},
   "outputs": [],
   "source": [
    "for expt_name in expt_dfs.keys():\n",
    "    fig, ax = plt.subplots(1, 3, figsize=(20, 4))\n",
    "    ax = ax.ravel()\n",
    "    sns.lineplot(x='step', y='loss/train', hue='replicate', data=expt_dfs[expt_name], \n",
    "                 ci=None, legend=False, alpha=0.5, ax=ax[0]);\n",
    "    # ax[0].set_ylim([0., 0.7])\n",
    "    sns.lineplot(x='step', y='loss/val', hue='replicate', data=expt_dfs[expt_name], \n",
    "                 ci=None, legend=False, ax=ax[1]);\n",
    "    # ax[1].set_ylim([0., 0.7])\n",
    "    sns.lineplot(x='step', y='acc/val', hue='replicate', data=expt_dfs[expt_name], \n",
    "                 ci=None, legend=False, ax=ax[2]);\n",
    "    ax[2].set_ylim([0., 1.1])\n",
    "    st = fig.suptitle(expt_name)\n",
    "    fig.tight_layout(rect=[0, 0.03, 1, 0.95])\n"
   ]
  }
 ],
 "metadata": {
  "kernelspec": {
   "display_name": "Python 3",
   "language": "python",
   "name": "python3"
  },
  "language_info": {
   "codemirror_mode": {
    "name": "ipython",
    "version": 3
   },
   "file_extension": ".py",
   "mimetype": "text/x-python",
   "name": "python",
   "nbconvert_exporter": "python",
   "pygments_lexer": "ipython3",
   "version": "3.6.9"
  }
 },
 "nbformat": 4,
 "nbformat_minor": 4
}
